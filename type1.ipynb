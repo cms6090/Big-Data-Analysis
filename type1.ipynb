{
 "cells": [
  {
   "cell_type": "markdown",
   "id": "8c09d69a",
   "metadata": {},
   "source": [
    "# 유튜브 인기동영상 데이터\n",
    "데이터 출처 :https://www.kaggle.com/rsrishav/youtube-trending-video-dataset?select=KR_youtube_trending_data.csv  \n",
    "데이터 설명 : 유튜브 데일리 인기동영상 (한국)  \n",
    "dataurl : https://raw.githubusercontent.com/Datamanim/datarepo/main/youtube/youtube.csv"
   ]
  },
  {
   "cell_type": "code",
   "execution_count": 1,
   "id": "a2b70223",
   "metadata": {},
   "outputs": [],
   "source": [
    "import pandas as pd"
   ]
  },
  {
   "cell_type": "code",
   "execution_count": 2,
   "id": "608d3a99",
   "metadata": {},
   "outputs": [
    {
     "data": {
      "text/html": [
       "<div>\n",
       "<style scoped>\n",
       "    .dataframe tbody tr th:only-of-type {\n",
       "        vertical-align: middle;\n",
       "    }\n",
       "\n",
       "    .dataframe tbody tr th {\n",
       "        vertical-align: top;\n",
       "    }\n",
       "\n",
       "    .dataframe thead th {\n",
       "        text-align: right;\n",
       "    }\n",
       "</style>\n",
       "<table border=\"1\" class=\"dataframe\">\n",
       "  <thead>\n",
       "    <tr style=\"text-align: right;\">\n",
       "      <th></th>\n",
       "      <th>Unnamed: 0</th>\n",
       "      <th>title</th>\n",
       "      <th>channelTitle</th>\n",
       "      <th>categoryId</th>\n",
       "      <th>view_count</th>\n",
       "      <th>likes</th>\n",
       "      <th>dislikes</th>\n",
       "      <th>comment_count</th>\n",
       "      <th>channelId</th>\n",
       "      <th>trending_date2</th>\n",
       "    </tr>\n",
       "  </thead>\n",
       "  <tbody>\n",
       "    <tr>\n",
       "      <th>0</th>\n",
       "      <td>0</td>\n",
       "      <td>[신병] 물자창고</td>\n",
       "      <td>장삐쭈</td>\n",
       "      <td>23</td>\n",
       "      <td>1893473</td>\n",
       "      <td>38249</td>\n",
       "      <td>730</td>\n",
       "      <td>8595</td>\n",
       "      <td>UChbE5OZQ6dRHECsX0tEPEZQ</td>\n",
       "      <td>2021-01-01</td>\n",
       "    </tr>\n",
       "    <tr>\n",
       "      <th>1</th>\n",
       "      <td>1</td>\n",
       "      <td>RAIN(비) - 나로 바꾸자 Switch to me (duet with JYP) MV</td>\n",
       "      <td>RAIN's Official Channel</td>\n",
       "      <td>10</td>\n",
       "      <td>2600864</td>\n",
       "      <td>0</td>\n",
       "      <td>0</td>\n",
       "      <td>20129</td>\n",
       "      <td>UCxXgIeE5hxWxHG6dz9Scg2w</td>\n",
       "      <td>2021-01-01</td>\n",
       "    </tr>\n",
       "    <tr>\n",
       "      <th>2</th>\n",
       "      <td>2</td>\n",
       "      <td>2020년 제야의 종 온라인 타종행사 | 보신각 현장 행사는 진행하지 않습니다.</td>\n",
       "      <td>서울시 · Seoul</td>\n",
       "      <td>29</td>\n",
       "      <td>347049</td>\n",
       "      <td>3564</td>\n",
       "      <td>120</td>\n",
       "      <td>178</td>\n",
       "      <td>UCZUPZW5idAxYp-Asj__lVAA</td>\n",
       "      <td>2021-01-01</td>\n",
       "    </tr>\n",
       "    <tr>\n",
       "      <th>3</th>\n",
       "      <td>3</td>\n",
       "      <td>고기남자의 칠면조 파티</td>\n",
       "      <td>고기남자 MeatMan</td>\n",
       "      <td>26</td>\n",
       "      <td>528458</td>\n",
       "      <td>15372</td>\n",
       "      <td>280</td>\n",
       "      <td>3470</td>\n",
       "      <td>UCT3CumbFIJiW33uq0UI3zlg</td>\n",
       "      <td>2021-01-01</td>\n",
       "    </tr>\n",
       "    <tr>\n",
       "      <th>4</th>\n",
       "      <td>4</td>\n",
       "      <td>골목 3mc를 분노하게 만든 마음고생이 심했을 공릉 백반집 사장님의 푸념?! [예능...</td>\n",
       "      <td>스브스밥집</td>\n",
       "      <td>24</td>\n",
       "      <td>494904</td>\n",
       "      <td>3918</td>\n",
       "      <td>111</td>\n",
       "      <td>3142</td>\n",
       "      <td>UCdWgRSfttvDucq4ApcCg5Mw</td>\n",
       "      <td>2021-01-01</td>\n",
       "    </tr>\n",
       "  </tbody>\n",
       "</table>\n",
       "</div>"
      ],
      "text/plain": [
       "   Unnamed: 0                                              title  \\\n",
       "0           0                                          [신병] 물자창고   \n",
       "1           1   RAIN(비) - 나로 바꾸자 Switch to me (duet with JYP) MV   \n",
       "2           2       2020년 제야의 종 온라인 타종행사 | 보신각 현장 행사는 진행하지 않습니다.   \n",
       "3           3                                       고기남자의 칠면조 파티   \n",
       "4           4  골목 3mc를 분노하게 만든 마음고생이 심했을 공릉 백반집 사장님의 푸념?! [예능...   \n",
       "\n",
       "              channelTitle  categoryId  view_count  likes  dislikes  \\\n",
       "0                      장삐쭈          23     1893473  38249       730   \n",
       "1  RAIN's Official Channel          10     2600864      0         0   \n",
       "2              서울시 · Seoul          29      347049   3564       120   \n",
       "3             고기남자 MeatMan          26      528458  15372       280   \n",
       "4                    스브스밥집          24      494904   3918       111   \n",
       "\n",
       "   comment_count                 channelId trending_date2  \n",
       "0           8595  UChbE5OZQ6dRHECsX0tEPEZQ     2021-01-01  \n",
       "1          20129  UCxXgIeE5hxWxHG6dz9Scg2w     2021-01-01  \n",
       "2            178  UCZUPZW5idAxYp-Asj__lVAA     2021-01-01  \n",
       "3           3470  UCT3CumbFIJiW33uq0UI3zlg     2021-01-01  \n",
       "4           3142  UCdWgRSfttvDucq4ApcCg5Mw     2021-01-01  "
      ]
     },
     "execution_count": 2,
     "metadata": {},
     "output_type": "execute_result"
    }
   ],
   "source": [
    "df = pd.read_csv(\"https://raw.githubusercontent.com/Datamanim/datarepo/main/youtube/youtube.csv\")\n",
    "df.head()"
   ]
  },
  {
   "cell_type": "markdown",
   "id": "cf84fc8e",
   "metadata": {},
   "source": [
    "##### 1. 인기동영상 제작횟수가 많은 채널 상위 10개명을 출력하라 (날짜기준, 중복포함)"
   ]
  },
  {
   "cell_type": "code",
   "execution_count": 3,
   "id": "246b7ee9",
   "metadata": {},
   "outputs": [
    {
     "data": {
      "text/plain": [
       "0         True\n",
       "1        False\n",
       "2        False\n",
       "3        False\n",
       "4        False\n",
       "         ...  \n",
       "60394    False\n",
       "60395    False\n",
       "60396    False\n",
       "60397    False\n",
       "60398    False\n",
       "Name: channelId, Length: 60399, dtype: bool"
      ]
     },
     "execution_count": 3,
     "metadata": {},
     "output_type": "execute_result"
    }
   ],
   "source": [
    "df[\"channelId\"].isin(df[\"channelId\"].value_counts().head(10).index)"
   ]
  },
  {
   "cell_type": "code",
   "execution_count": 4,
   "id": "9919ffe5",
   "metadata": {},
   "outputs": [
    {
     "data": {
      "text/plain": [
       "array(['장삐쭈', '총몇명', '파뿌리', '짤툰', '런닝맨 - 스브스 공식 채널',\n",
       "       '엠뚜루마뚜루 : MBC 공식 종합 채널', 'SPOTV', '채널 십오야', '이과장', 'BANGTANTV'],\n",
       "      dtype=object)"
      ]
     },
     "execution_count": 4,
     "metadata": {},
     "output_type": "execute_result"
    }
   ],
   "source": [
    "df[df[\"channelId\"].isin(df[\"channelId\"].value_counts().head(10).index)][\"channelTitle\"].unique()"
   ]
  },
  {
   "cell_type": "markdown",
   "id": "c0fb1761",
   "metadata": {},
   "source": [
    "##### 2. 논란으로 인기동영상이 된 케이스를 확인하고 싶다. dislikes수가 like 수보다 높은 동영상을 제작한 채널을 모두 출력하라"
   ]
  },
  {
   "cell_type": "code",
   "execution_count": 5,
   "id": "318b361a",
   "metadata": {},
   "outputs": [
    {
     "data": {
      "text/plain": [
       "array(['핫도그TV', 'ASMR 애정TV', '하얀트리HayanTree', '양팡 YangPang',\n",
       "       '철구형 (CHULTUBE)', '왜냐맨하우스', '(MUTUBE)와꾸대장봉준', '오메킴TV', '육지담',\n",
       "       'MapleStory_KR', 'ROAD FIGHTING CHAMPIONSHIP', '사나이 김기훈',\n",
       "       '나혼자산다 STUDIO', 'Gen.G esports'], dtype=object)"
      ]
     },
     "execution_count": 5,
     "metadata": {},
     "output_type": "execute_result"
    }
   ],
   "source": [
    "df[df[\"dislikes\"] > df[\"likes\"]].channelTitle.unique()"
   ]
  },
  {
   "cell_type": "markdown",
   "id": "7097ac87",
   "metadata": {},
   "source": [
    "##### 3. 채널명을 바꾼 케이스가 있는지 확인하고 싶다. channelId의 경우 고유값이므로 이를 통해 채널명을 한번이라도 바꾼 채널의 갯수를 구하여라"
   ]
  },
  {
   "cell_type": "code",
   "execution_count": 6,
   "id": "cb21185c",
   "metadata": {},
   "outputs": [
    {
     "data": {
      "text/html": [
       "<div>\n",
       "<style scoped>\n",
       "    .dataframe tbody tr th:only-of-type {\n",
       "        vertical-align: middle;\n",
       "    }\n",
       "\n",
       "    .dataframe tbody tr th {\n",
       "        vertical-align: top;\n",
       "    }\n",
       "\n",
       "    .dataframe thead th {\n",
       "        text-align: right;\n",
       "    }\n",
       "</style>\n",
       "<table border=\"1\" class=\"dataframe\">\n",
       "  <thead>\n",
       "    <tr style=\"text-align: right;\">\n",
       "      <th></th>\n",
       "      <th>channelTitle</th>\n",
       "      <th>channelId</th>\n",
       "    </tr>\n",
       "  </thead>\n",
       "  <tbody>\n",
       "    <tr>\n",
       "      <th>0</th>\n",
       "      <td>장삐쭈</td>\n",
       "      <td>UChbE5OZQ6dRHECsX0tEPEZQ</td>\n",
       "    </tr>\n",
       "    <tr>\n",
       "      <th>1</th>\n",
       "      <td>RAIN's Official Channel</td>\n",
       "      <td>UCxXgIeE5hxWxHG6dz9Scg2w</td>\n",
       "    </tr>\n",
       "    <tr>\n",
       "      <th>2</th>\n",
       "      <td>서울시 · Seoul</td>\n",
       "      <td>UCZUPZW5idAxYp-Asj__lVAA</td>\n",
       "    </tr>\n",
       "    <tr>\n",
       "      <th>3</th>\n",
       "      <td>고기남자 MeatMan</td>\n",
       "      <td>UCT3CumbFIJiW33uq0UI3zlg</td>\n",
       "    </tr>\n",
       "    <tr>\n",
       "      <th>4</th>\n",
       "      <td>스브스밥집</td>\n",
       "      <td>UCdWgRSfttvDucq4ApcCg5Mw</td>\n",
       "    </tr>\n",
       "    <tr>\n",
       "      <th>...</th>\n",
       "      <td>...</td>\n",
       "      <td>...</td>\n",
       "    </tr>\n",
       "    <tr>\n",
       "      <th>60394</th>\n",
       "      <td>공룡</td>\n",
       "      <td>UCWf4QKgnTyvmehcRqw-JldQ</td>\n",
       "    </tr>\n",
       "    <tr>\n",
       "      <th>60395</th>\n",
       "      <td>놀면 뭐하니?</td>\n",
       "      <td>UCx6jsZ02B4K3SECUrkgPyzg</td>\n",
       "    </tr>\n",
       "    <tr>\n",
       "      <th>60396</th>\n",
       "      <td>김종국 GYM JONG KOOK</td>\n",
       "      <td>UCoe-0EVDJnjlSoPK8ygcGwQ</td>\n",
       "    </tr>\n",
       "    <tr>\n",
       "      <th>60397</th>\n",
       "      <td>스브스 예능맛집</td>\n",
       "      <td>UCnx4Fi4cmkLGDiFfZ311wWw</td>\n",
       "    </tr>\n",
       "    <tr>\n",
       "      <th>60398</th>\n",
       "      <td>HYBE LABELS</td>\n",
       "      <td>UC3IZKseVpdzPSBaWxBxundA</td>\n",
       "    </tr>\n",
       "  </tbody>\n",
       "</table>\n",
       "<p>60399 rows × 2 columns</p>\n",
       "</div>"
      ],
      "text/plain": [
       "                  channelTitle                 channelId\n",
       "0                          장삐쭈  UChbE5OZQ6dRHECsX0tEPEZQ\n",
       "1      RAIN's Official Channel  UCxXgIeE5hxWxHG6dz9Scg2w\n",
       "2                  서울시 · Seoul  UCZUPZW5idAxYp-Asj__lVAA\n",
       "3                 고기남자 MeatMan  UCT3CumbFIJiW33uq0UI3zlg\n",
       "4                        스브스밥집  UCdWgRSfttvDucq4ApcCg5Mw\n",
       "...                        ...                       ...\n",
       "60394                       공룡  UCWf4QKgnTyvmehcRqw-JldQ\n",
       "60395                  놀면 뭐하니?  UCx6jsZ02B4K3SECUrkgPyzg\n",
       "60396        김종국 GYM JONG KOOK  UCoe-0EVDJnjlSoPK8ygcGwQ\n",
       "60397                 스브스 예능맛집  UCnx4Fi4cmkLGDiFfZ311wWw\n",
       "60398              HYBE LABELS  UC3IZKseVpdzPSBaWxBxundA\n",
       "\n",
       "[60399 rows x 2 columns]"
      ]
     },
     "execution_count": 6,
     "metadata": {},
     "output_type": "execute_result"
    }
   ],
   "source": [
    "df[[\"channelTitle\", \"channelId\"]]"
   ]
  },
  {
   "cell_type": "code",
   "execution_count": 7,
   "id": "daa6e207",
   "metadata": {},
   "outputs": [
    {
     "data": {
      "text/plain": [
       "channelId\n",
       "UC98TOxKQk4aLcx0EjIK0LkQ    3\n",
       "UCtQYhzJWFai1y30UIA3uwYQ    3\n",
       "UCiEEF51uRAeZeCo8CJFhGWw    2\n",
       "UCytBYTjlE45XxrJ7SxO2igg    2\n",
       "UC4LW3sOslC14Vn5bcoNUBkg    2\n",
       "                           ..\n",
       "UCeAVJesn059sG6t-1XCgfJQ    1\n",
       "UCureTzUsWPyrhfZ38x31WXQ    1\n",
       "UCFXigv26l81ZBaKz6RakL0A    1\n",
       "UC7lP46vHWIdZbT0X7Ud0AAA    1\n",
       "UCOH52Yqq4-rdLvpt2Unsqsw    1\n",
       "Name: count, Length: 1770, dtype: int64"
      ]
     },
     "execution_count": 7,
     "metadata": {},
     "output_type": "execute_result"
    }
   ],
   "source": [
    "df[[\"channelTitle\", \"channelId\"]].drop_duplicates()[\"channelId\"].value_counts()"
   ]
  },
  {
   "cell_type": "code",
   "execution_count": 8,
   "id": "cc98a408",
   "metadata": {},
   "outputs": [
    {
     "data": {
      "text/plain": [
       "71"
      ]
     },
     "execution_count": 8,
     "metadata": {},
     "output_type": "execute_result"
    }
   ],
   "source": [
    "ans = df[[\"channelTitle\", \"channelId\"]].drop_duplicates()[\"channelId\"].value_counts()\n",
    "len(ans[ans > 1])"
   ]
  },
  {
   "cell_type": "markdown",
   "id": "3b1d752d",
   "metadata": {},
   "source": [
    "##### 4. 일요일에 인기있었던 영상들중 가장많은 영상 종류(categoryId)는 무엇인가?"
   ]
  },
  {
   "cell_type": "code",
   "execution_count": 9,
   "id": "73c4063e",
   "metadata": {},
   "outputs": [],
   "source": [
    "import datetime as dt"
   ]
  },
  {
   "cell_type": "code",
   "execution_count": 10,
   "id": "f630872b",
   "metadata": {},
   "outputs": [],
   "source": [
    "df[\"trending_date2\"] = pd.to_datetime(df[\"trending_date2\"])"
   ]
  },
  {
   "cell_type": "code",
   "execution_count": 11,
   "id": "ad09039b",
   "metadata": {},
   "outputs": [
    {
     "data": {
      "text/plain": [
       "categoryId\n",
       "24    3096\n",
       "22    1337\n",
       "10     830\n",
       "17     636\n",
       "23     556\n",
       "25     437\n",
       "26     363\n",
       "20     289\n",
       "1      274\n",
       "15     217\n",
       "27     199\n",
       "28     167\n",
       "2       99\n",
       "19      91\n",
       "29       9\n",
       "Name: count, dtype: int64"
      ]
     },
     "execution_count": 11,
     "metadata": {},
     "output_type": "execute_result"
    }
   ],
   "source": [
    "df[df[\"trending_date2\"].dt.day_name() == \"Sunday\"][\"categoryId\"].value_counts()"
   ]
  },
  {
   "cell_type": "code",
   "execution_count": 12,
   "id": "dbf444dc",
   "metadata": {},
   "outputs": [
    {
     "data": {
      "text/plain": [
       "np.int64(24)"
      ]
     },
     "execution_count": 12,
     "metadata": {},
     "output_type": "execute_result"
    }
   ],
   "source": [
    "df[df[\"trending_date2\"].dt.day_name() == \"Sunday\"][\"categoryId\"].value_counts().index[0]"
   ]
  },
  {
   "cell_type": "markdown",
   "id": "9a608476",
   "metadata": {},
   "source": [
    "##### 5. 각 요일별 인기 영상들의 categoryId는 각각 몇개 씩인지 하나의 데이터 프레임으로 표현하라"
   ]
  },
  {
   "cell_type": "code",
   "execution_count": 13,
   "id": "69f6878a",
   "metadata": {},
   "outputs": [
    {
     "data": {
      "text/html": [
       "<div>\n",
       "<style scoped>\n",
       "    .dataframe tbody tr th:only-of-type {\n",
       "        vertical-align: middle;\n",
       "    }\n",
       "\n",
       "    .dataframe tbody tr th {\n",
       "        vertical-align: top;\n",
       "    }\n",
       "\n",
       "    .dataframe thead tr th {\n",
       "        text-align: left;\n",
       "    }\n",
       "\n",
       "    .dataframe thead tr:last-of-type th {\n",
       "        text-align: right;\n",
       "    }\n",
       "</style>\n",
       "<table border=\"1\" class=\"dataframe\">\n",
       "  <thead>\n",
       "    <tr>\n",
       "      <th></th>\n",
       "      <th colspan=\"7\" halign=\"left\">size</th>\n",
       "    </tr>\n",
       "    <tr>\n",
       "      <th>trending_date2</th>\n",
       "      <th>Friday</th>\n",
       "      <th>Monday</th>\n",
       "      <th>Saturday</th>\n",
       "      <th>Sunday</th>\n",
       "      <th>Thursday</th>\n",
       "      <th>Tuesday</th>\n",
       "      <th>Wednesday</th>\n",
       "    </tr>\n",
       "    <tr>\n",
       "      <th>categoryId</th>\n",
       "      <th></th>\n",
       "      <th></th>\n",
       "      <th></th>\n",
       "      <th></th>\n",
       "      <th></th>\n",
       "      <th></th>\n",
       "      <th></th>\n",
       "    </tr>\n",
       "  </thead>\n",
       "  <tbody>\n",
       "    <tr>\n",
       "      <th>1</th>\n",
       "      <td>243</td>\n",
       "      <td>263</td>\n",
       "      <td>255</td>\n",
       "      <td>274</td>\n",
       "      <td>246</td>\n",
       "      <td>257</td>\n",
       "      <td>234</td>\n",
       "    </tr>\n",
       "    <tr>\n",
       "      <th>2</th>\n",
       "      <td>120</td>\n",
       "      <td>105</td>\n",
       "      <td>119</td>\n",
       "      <td>99</td>\n",
       "      <td>128</td>\n",
       "      <td>119</td>\n",
       "      <td>129</td>\n",
       "    </tr>\n",
       "    <tr>\n",
       "      <th>10</th>\n",
       "      <td>833</td>\n",
       "      <td>837</td>\n",
       "      <td>776</td>\n",
       "      <td>830</td>\n",
       "      <td>890</td>\n",
       "      <td>894</td>\n",
       "      <td>917</td>\n",
       "    </tr>\n",
       "    <tr>\n",
       "      <th>15</th>\n",
       "      <td>187</td>\n",
       "      <td>215</td>\n",
       "      <td>198</td>\n",
       "      <td>217</td>\n",
       "      <td>207</td>\n",
       "      <td>208</td>\n",
       "      <td>207</td>\n",
       "    </tr>\n",
       "    <tr>\n",
       "      <th>17</th>\n",
       "      <td>633</td>\n",
       "      <td>668</td>\n",
       "      <td>592</td>\n",
       "      <td>636</td>\n",
       "      <td>682</td>\n",
       "      <td>708</td>\n",
       "      <td>706</td>\n",
       "    </tr>\n",
       "    <tr>\n",
       "      <th>19</th>\n",
       "      <td>90</td>\n",
       "      <td>92</td>\n",
       "      <td>87</td>\n",
       "      <td>91</td>\n",
       "      <td>92</td>\n",
       "      <td>89</td>\n",
       "      <td>85</td>\n",
       "    </tr>\n",
       "    <tr>\n",
       "      <th>20</th>\n",
       "      <td>283</td>\n",
       "      <td>298</td>\n",
       "      <td>296</td>\n",
       "      <td>289</td>\n",
       "      <td>282</td>\n",
       "      <td>285</td>\n",
       "      <td>291</td>\n",
       "    </tr>\n",
       "    <tr>\n",
       "      <th>22</th>\n",
       "      <td>1288</td>\n",
       "      <td>1373</td>\n",
       "      <td>1289</td>\n",
       "      <td>1337</td>\n",
       "      <td>1341</td>\n",
       "      <td>1375</td>\n",
       "      <td>1333</td>\n",
       "    </tr>\n",
       "    <tr>\n",
       "      <th>23</th>\n",
       "      <td>568</td>\n",
       "      <td>594</td>\n",
       "      <td>570</td>\n",
       "      <td>556</td>\n",
       "      <td>560</td>\n",
       "      <td>569</td>\n",
       "      <td>566</td>\n",
       "    </tr>\n",
       "    <tr>\n",
       "      <th>24</th>\n",
       "      <td>2976</td>\n",
       "      <td>3148</td>\n",
       "      <td>3066</td>\n",
       "      <td>3096</td>\n",
       "      <td>2954</td>\n",
       "      <td>3084</td>\n",
       "      <td>3090</td>\n",
       "    </tr>\n",
       "    <tr>\n",
       "      <th>25</th>\n",
       "      <td>444</td>\n",
       "      <td>453</td>\n",
       "      <td>422</td>\n",
       "      <td>437</td>\n",
       "      <td>470</td>\n",
       "      <td>452</td>\n",
       "      <td>468</td>\n",
       "    </tr>\n",
       "    <tr>\n",
       "      <th>26</th>\n",
       "      <td>369</td>\n",
       "      <td>378</td>\n",
       "      <td>364</td>\n",
       "      <td>363</td>\n",
       "      <td>375</td>\n",
       "      <td>394</td>\n",
       "      <td>385</td>\n",
       "    </tr>\n",
       "    <tr>\n",
       "      <th>27</th>\n",
       "      <td>183</td>\n",
       "      <td>205</td>\n",
       "      <td>183</td>\n",
       "      <td>199</td>\n",
       "      <td>194</td>\n",
       "      <td>194</td>\n",
       "      <td>212</td>\n",
       "    </tr>\n",
       "    <tr>\n",
       "      <th>28</th>\n",
       "      <td>171</td>\n",
       "      <td>160</td>\n",
       "      <td>173</td>\n",
       "      <td>167</td>\n",
       "      <td>166</td>\n",
       "      <td>161</td>\n",
       "      <td>165</td>\n",
       "    </tr>\n",
       "    <tr>\n",
       "      <th>29</th>\n",
       "      <td>12</td>\n",
       "      <td>10</td>\n",
       "      <td>10</td>\n",
       "      <td>9</td>\n",
       "      <td>13</td>\n",
       "      <td>11</td>\n",
       "      <td>12</td>\n",
       "    </tr>\n",
       "  </tbody>\n",
       "</table>\n",
       "</div>"
      ],
      "text/plain": [
       "                 size                                                  \n",
       "trending_date2 Friday Monday Saturday Sunday Thursday Tuesday Wednesday\n",
       "categoryId                                                             \n",
       "1                 243    263      255    274      246     257       234\n",
       "2                 120    105      119     99      128     119       129\n",
       "10                833    837      776    830      890     894       917\n",
       "15                187    215      198    217      207     208       207\n",
       "17                633    668      592    636      682     708       706\n",
       "19                 90     92       87     91       92      89        85\n",
       "20                283    298      296    289      282     285       291\n",
       "22               1288   1373     1289   1337     1341    1375      1333\n",
       "23                568    594      570    556      560     569       566\n",
       "24               2976   3148     3066   3096     2954    3084      3090\n",
       "25                444    453      422    437      470     452       468\n",
       "26                369    378      364    363      375     394       385\n",
       "27                183    205      183    199      194     194       212\n",
       "28                171    160      173    167      166     161       165\n",
       "29                 12     10       10      9       13      11        12"
      ]
     },
     "execution_count": 13,
     "metadata": {},
     "output_type": "execute_result"
    }
   ],
   "source": [
    "ans = df.groupby([df[\"trending_date2\"].dt.day_name(), \"categoryId\"], as_index = False).size()\n",
    "ans.pivot(index = \"categoryId\", columns = \"trending_date2\")"
   ]
  },
  {
   "cell_type": "markdown",
   "id": "e794681a",
   "metadata": {},
   "source": [
    "##### 6. 댓글의 수로 (comment_count) 영상 반응에 대한 판단을 할 수 있다. viewcount대비 댓글수가 가장 높은 영상을 확인하라 (view_count값이 0인 경우는 제외한다)"
   ]
  },
  {
   "cell_type": "code",
   "execution_count": 14,
   "id": "b95bd6e1",
   "metadata": {},
   "outputs": [],
   "source": [
    "target = df[df[\"view_count\"] != 0]"
   ]
  },
  {
   "cell_type": "code",
   "execution_count": 15,
   "id": "c47e757e",
   "metadata": {},
   "outputs": [
    {
     "name": "stderr",
     "output_type": "stream",
     "text": [
      "C:\\Users\\cho03\\AppData\\Local\\Temp\\ipykernel_31996\\589280512.py:1: SettingWithCopyWarning: \n",
      "A value is trying to be set on a copy of a slice from a DataFrame.\n",
      "Try using .loc[row_indexer,col_indexer] = value instead\n",
      "\n",
      "See the caveats in the documentation: https://pandas.pydata.org/pandas-docs/stable/user_guide/indexing.html#returning-a-view-versus-a-copy\n",
      "  target[\"ratio\"] = target[\"comment_count\"] / target[\"view_count\"]\n"
     ]
    },
    {
     "data": {
      "text/plain": [
       "'60분 동안 댓글이 달리지 않으면, 영상이 삭제됩니다. (챌린지)'"
      ]
     },
     "execution_count": 15,
     "metadata": {},
     "output_type": "execute_result"
    }
   ],
   "source": [
    "target[\"ratio\"] = target[\"comment_count\"] / target[\"view_count\"]\n",
    "ans = target.sort_values(\"ratio\", ascending = False).dropna()\n",
    "ans.iloc[0].title"
   ]
  },
  {
   "cell_type": "markdown",
   "id": "69d3631b",
   "metadata": {},
   "source": [
    "##### 7. 댓글의 수로 (comment_count) 영상 반응에 대한 판단을 할 수 있다.viewcount대비 댓글수가 가장 낮은 영상을 확인하라 (view_counts, ratio값이 0인경우는 제외한다.)"
   ]
  },
  {
   "cell_type": "code",
   "execution_count": 16,
   "id": "8b950b15",
   "metadata": {},
   "outputs": [
    {
     "data": {
      "text/plain": [
       "'Join the BTS #PermissiontoDance Challenge only on YouTube #Shorts'"
      ]
     },
     "execution_count": 16,
     "metadata": {},
     "output_type": "execute_result"
    }
   ],
   "source": [
    "target2 = target[target[\"ratio\"] != 0]\n",
    "ans = target2.sort_values(\"ratio\")\n",
    "ans.iloc[0].title"
   ]
  },
  {
   "cell_type": "markdown",
   "id": "6091b78d",
   "metadata": {},
   "source": [
    "##### 8. like 대비 dislike의 수가 가장 적은 영상은 무엇인가? (like, dislike 값이 0인경우는 제외한다)"
   ]
  },
  {
   "cell_type": "code",
   "execution_count": 17,
   "id": "c0a048e0",
   "metadata": {},
   "outputs": [
    {
     "data": {
      "text/plain": [
       "'[줌터뷰] *최초공개* 사부작즈🐰🐶의 비공식 이름은 아이라인즈? 꿀조합 티키타카 가득한 NCT 127 도영&정우의 줌터뷰'"
      ]
     },
     "execution_count": 17,
     "metadata": {},
     "output_type": "execute_result"
    }
   ],
   "source": [
    "target3 = df[(df.likes != 0) & (df.dislikes != 0)]\n",
    "df.iloc[(target3[\"dislikes\"] / target3[\"likes\"]).sort_values().index[0]].title"
   ]
  },
  {
   "cell_type": "markdown",
   "id": "9ed41ebb",
   "metadata": {},
   "source": [
    "##### 9. 가장많은 트렌드 영상을 제작한 채널의 이름은 무엇인가? (날짜기준, 중복포함)"
   ]
  },
  {
   "cell_type": "code",
   "execution_count": 18,
   "id": "be7fb2cd",
   "metadata": {},
   "outputs": [
    {
     "data": {
      "text/plain": [
       "'UCszFjh7CEfwDb7UUGb4RzCQ'"
      ]
     },
     "execution_count": 18,
     "metadata": {},
     "output_type": "execute_result"
    }
   ],
   "source": [
    "df[\"channelId\"].value_counts().index[0]"
   ]
  },
  {
   "cell_type": "code",
   "execution_count": 19,
   "id": "06ea3f3f",
   "metadata": {},
   "outputs": [
    {
     "data": {
      "text/plain": [
       "'짤툰'"
      ]
     },
     "execution_count": 19,
     "metadata": {},
     "output_type": "execute_result"
    }
   ],
   "source": [
    "df.loc[df[\"channelId\"] == df[\"channelId\"].value_counts().index[0]].channelTitle.unique()[0]\n"
   ]
  },
  {
   "cell_type": "markdown",
   "id": "4bc630f2",
   "metadata": {},
   "source": [
    "##### 10. 20회(20일)이상 인기동영상 리스트에 포함된 동영상의 숫자는?"
   ]
  },
  {
   "cell_type": "code",
   "execution_count": 20,
   "id": "de051d59",
   "metadata": {},
   "outputs": [
    {
     "data": {
      "text/plain": [
       "np.int64(40)"
      ]
     },
     "execution_count": 20,
     "metadata": {},
     "output_type": "execute_result"
    }
   ],
   "source": [
    "(df[[\"title\", \"channelId\"]].value_counts() >= 20).sum()"
   ]
  },
  {
   "cell_type": "markdown",
   "id": "b05ff6c5",
   "metadata": {},
   "source": [
    "# ❌ 유튜브 공범컨텐츠 동영상 데이터\n",
    "데이터 출처 :https://www.kaggle.com/kukuroo3/youtube-episodic-contents-kr(참고, 데이터 수정)  \n",
    "데이터 설명 : 유튜브 “공범” 컨텐츠 동영상 정보 ( 10분 간격 수집)  \n",
    "dataurl1 (비디오 정보) = https://raw.githubusercontent.com/Datamanim/datarepo/main/youtube/videoInfo.csv  \n",
    "dataurl2 (참가자 채널 정보)= https://raw.githubusercontent.com/Datamanim/datarepo/main/youtube/channelInfo.csv  "
   ]
  },
  {
   "cell_type": "code",
   "execution_count": 21,
   "id": "8ca709ae",
   "metadata": {},
   "outputs": [
    {
     "data": {
      "text/html": [
       "<div>\n",
       "<style scoped>\n",
       "    .dataframe tbody tr th:only-of-type {\n",
       "        vertical-align: middle;\n",
       "    }\n",
       "\n",
       "    .dataframe tbody tr th {\n",
       "        vertical-align: top;\n",
       "    }\n",
       "\n",
       "    .dataframe thead th {\n",
       "        text-align: right;\n",
       "    }\n",
       "</style>\n",
       "<table border=\"1\" class=\"dataframe\">\n",
       "  <thead>\n",
       "    <tr style=\"text-align: right;\">\n",
       "      <th></th>\n",
       "      <th>videopk</th>\n",
       "      <th>viewcnt</th>\n",
       "      <th>likecnt</th>\n",
       "      <th>dislikecnt</th>\n",
       "      <th>favoritecnt</th>\n",
       "      <th>cmcnt</th>\n",
       "      <th>ct</th>\n",
       "      <th>videoname</th>\n",
       "    </tr>\n",
       "  </thead>\n",
       "  <tbody>\n",
       "    <tr>\n",
       "      <th>0</th>\n",
       "      <td>c5JQp6xafqc</td>\n",
       "      <td>1667010</td>\n",
       "      <td>30474</td>\n",
       "      <td>706</td>\n",
       "      <td>0</td>\n",
       "      <td>6587</td>\n",
       "      <td>2021-10-10 15:20:03</td>\n",
       "      <td>공범 EP1</td>\n",
       "    </tr>\n",
       "    <tr>\n",
       "      <th>1</th>\n",
       "      <td>c5JQp6xafqc</td>\n",
       "      <td>1669089</td>\n",
       "      <td>30495</td>\n",
       "      <td>707</td>\n",
       "      <td>0</td>\n",
       "      <td>6589</td>\n",
       "      <td>2021-10-10 15:30:03</td>\n",
       "      <td>공범 EP1</td>\n",
       "    </tr>\n",
       "    <tr>\n",
       "      <th>2</th>\n",
       "      <td>c5JQp6xafqc</td>\n",
       "      <td>1674759</td>\n",
       "      <td>30522</td>\n",
       "      <td>711</td>\n",
       "      <td>0</td>\n",
       "      <td>6596</td>\n",
       "      <td>2021-10-10 15:40:02</td>\n",
       "      <td>공범 EP1</td>\n",
       "    </tr>\n",
       "    <tr>\n",
       "      <th>3</th>\n",
       "      <td>c5JQp6xafqc</td>\n",
       "      <td>1677026</td>\n",
       "      <td>30555</td>\n",
       "      <td>712</td>\n",
       "      <td>0</td>\n",
       "      <td>6604</td>\n",
       "      <td>2021-10-10 15:50:03</td>\n",
       "      <td>공범 EP1</td>\n",
       "    </tr>\n",
       "    <tr>\n",
       "      <th>4</th>\n",
       "      <td>c5JQp6xafqc</td>\n",
       "      <td>1681824</td>\n",
       "      <td>30585</td>\n",
       "      <td>713</td>\n",
       "      <td>0</td>\n",
       "      <td>6600</td>\n",
       "      <td>2021-10-10 16:00:03</td>\n",
       "      <td>공범 EP1</td>\n",
       "    </tr>\n",
       "  </tbody>\n",
       "</table>\n",
       "</div>"
      ],
      "text/plain": [
       "       videopk  viewcnt  likecnt  dislikecnt  favoritecnt  cmcnt  \\\n",
       "0  c5JQp6xafqc  1667010    30474         706            0   6587   \n",
       "1  c5JQp6xafqc  1669089    30495         707            0   6589   \n",
       "2  c5JQp6xafqc  1674759    30522         711            0   6596   \n",
       "3  c5JQp6xafqc  1677026    30555         712            0   6604   \n",
       "4  c5JQp6xafqc  1681824    30585         713            0   6600   \n",
       "\n",
       "                    ct videoname  \n",
       "0  2021-10-10 15:20:03    공범 EP1  \n",
       "1  2021-10-10 15:30:03    공범 EP1  \n",
       "2  2021-10-10 15:40:02    공범 EP1  \n",
       "3  2021-10-10 15:50:03    공범 EP1  \n",
       "4  2021-10-10 16:00:03    공범 EP1  "
      ]
     },
     "metadata": {},
     "output_type": "display_data"
    },
    {
     "data": {
      "text/html": [
       "<div>\n",
       "<style scoped>\n",
       "    .dataframe tbody tr th:only-of-type {\n",
       "        vertical-align: middle;\n",
       "    }\n",
       "\n",
       "    .dataframe tbody tr th {\n",
       "        vertical-align: top;\n",
       "    }\n",
       "\n",
       "    .dataframe thead th {\n",
       "        text-align: right;\n",
       "    }\n",
       "</style>\n",
       "<table border=\"1\" class=\"dataframe\">\n",
       "  <thead>\n",
       "    <tr style=\"text-align: right;\">\n",
       "      <th></th>\n",
       "      <th>channelid</th>\n",
       "      <th>subcnt</th>\n",
       "      <th>viewcnt</th>\n",
       "      <th>videocnt</th>\n",
       "      <th>ct</th>\n",
       "      <th>channelname</th>\n",
       "    </tr>\n",
       "  </thead>\n",
       "  <tbody>\n",
       "    <tr>\n",
       "      <th>0</th>\n",
       "      <td>UCkQCwnkQfgSuPTTnw_Y7v7w</td>\n",
       "      <td>1310000</td>\n",
       "      <td>410238653</td>\n",
       "      <td>736</td>\n",
       "      <td>2021-09-30 03:01:03</td>\n",
       "      <td>꽈뚜룹</td>\n",
       "    </tr>\n",
       "    <tr>\n",
       "      <th>1</th>\n",
       "      <td>UCkQCwnkQfgSuPTTnw_Y7v7w</td>\n",
       "      <td>1310000</td>\n",
       "      <td>412531322</td>\n",
       "      <td>736</td>\n",
       "      <td>2021-09-30 09:01:03</td>\n",
       "      <td>꽈뚜룹</td>\n",
       "    </tr>\n",
       "    <tr>\n",
       "      <th>2</th>\n",
       "      <td>UCkQCwnkQfgSuPTTnw_Y7v7w</td>\n",
       "      <td>1310000</td>\n",
       "      <td>412531322</td>\n",
       "      <td>735</td>\n",
       "      <td>2021-09-30 15:01:03</td>\n",
       "      <td>꽈뚜룹</td>\n",
       "    </tr>\n",
       "    <tr>\n",
       "      <th>3</th>\n",
       "      <td>UCkQCwnkQfgSuPTTnw_Y7v7w</td>\n",
       "      <td>1310000</td>\n",
       "      <td>412531322</td>\n",
       "      <td>737</td>\n",
       "      <td>2021-09-30 21:01:03</td>\n",
       "      <td>꽈뚜룹</td>\n",
       "    </tr>\n",
       "    <tr>\n",
       "      <th>4</th>\n",
       "      <td>UCkQCwnkQfgSuPTTnw_Y7v7w</td>\n",
       "      <td>1320000</td>\n",
       "      <td>412531322</td>\n",
       "      <td>737</td>\n",
       "      <td>2021-10-01 03:01:04</td>\n",
       "      <td>꽈뚜룹</td>\n",
       "    </tr>\n",
       "  </tbody>\n",
       "</table>\n",
       "</div>"
      ],
      "text/plain": [
       "                  channelid   subcnt    viewcnt  videocnt  \\\n",
       "0  UCkQCwnkQfgSuPTTnw_Y7v7w  1310000  410238653       736   \n",
       "1  UCkQCwnkQfgSuPTTnw_Y7v7w  1310000  412531322       736   \n",
       "2  UCkQCwnkQfgSuPTTnw_Y7v7w  1310000  412531322       735   \n",
       "3  UCkQCwnkQfgSuPTTnw_Y7v7w  1310000  412531322       737   \n",
       "4  UCkQCwnkQfgSuPTTnw_Y7v7w  1320000  412531322       737   \n",
       "\n",
       "                    ct channelname  \n",
       "0  2021-09-30 03:01:03         꽈뚜룹  \n",
       "1  2021-09-30 09:01:03         꽈뚜룹  \n",
       "2  2021-09-30 15:01:03         꽈뚜룹  \n",
       "3  2021-09-30 21:01:03         꽈뚜룹  \n",
       "4  2021-10-01 03:01:04         꽈뚜룹  "
      ]
     },
     "metadata": {},
     "output_type": "display_data"
    }
   ],
   "source": [
    "video = pd.read_csv(\"https://raw.githubusercontent.com/Datamanim/datarepo/main/youtube/videoInfo.csv\")\n",
    "channel = pd.read_csv(\"https://raw.githubusercontent.com/Datamanim/datarepo/main/youtube/channelInfo.csv\")\n",
    "display(video.head())\n",
    "display(channel.head())"
   ]
  },
  {
   "cell_type": "markdown",
   "id": "b0c77933",
   "metadata": {},
   "source": [
    "##### 11. 각 데이터의 ‘ct’컬럼을 시간으로 인식할수 있게 datatype을 변경하고 video 데이터의 videoname의 각 value 마다 몇개의 데이터씩 가지고 있는지 확인하라"
   ]
  },
  {
   "cell_type": "code",
   "execution_count": 22,
   "id": "bed1e5e0",
   "metadata": {},
   "outputs": [
    {
     "data": {
      "text/plain": [
       "videoname\n",
       "공범 EP1    3492\n",
       "공범 EP2    3204\n",
       "공범 EP3    2568\n",
       "공범 EP4    2280\n",
       "공범 EP5    1562\n",
       "공범 EP6    1274\n",
       "공범 EP7     555\n",
       "공범 EP8     266\n",
       "Name: count, dtype: int64"
      ]
     },
     "execution_count": 22,
     "metadata": {},
     "output_type": "execute_result"
    }
   ],
   "source": [
    "video[\"ct\"] = pd.to_datetime(video[\"ct\"])\n",
    "channel[\"ct\"] = pd.to_datetime(channel[\"ct\"])\n",
    "\n",
    "video[\"videoname\"].value_counts()"
   ]
  },
  {
   "cell_type": "markdown",
   "id": "b3d9b7e4",
   "metadata": {},
   "source": [
    "##### 12. 수집된 각 video의 가장 최신화 된 날짜의 viewcount값을 출력하라"
   ]
  },
  {
   "cell_type": "code",
   "execution_count": 23,
   "id": "c6b87a28",
   "metadata": {},
   "outputs": [
    {
     "data": {
      "text/html": [
       "<div>\n",
       "<style scoped>\n",
       "    .dataframe tbody tr th:only-of-type {\n",
       "        vertical-align: middle;\n",
       "    }\n",
       "\n",
       "    .dataframe tbody tr th {\n",
       "        vertical-align: top;\n",
       "    }\n",
       "\n",
       "    .dataframe thead th {\n",
       "        text-align: right;\n",
       "    }\n",
       "</style>\n",
       "<table border=\"1\" class=\"dataframe\">\n",
       "  <thead>\n",
       "    <tr style=\"text-align: right;\">\n",
       "      <th></th>\n",
       "      <th>videopk</th>\n",
       "      <th>viewcnt</th>\n",
       "      <th>likecnt</th>\n",
       "      <th>dislikecnt</th>\n",
       "      <th>favoritecnt</th>\n",
       "      <th>cmcnt</th>\n",
       "      <th>ct</th>\n",
       "      <th>videoname</th>\n",
       "    </tr>\n",
       "  </thead>\n",
       "  <tbody>\n",
       "    <tr>\n",
       "      <th>3491</th>\n",
       "      <td>c5JQp6xafqc</td>\n",
       "      <td>3180532</td>\n",
       "      <td>41043</td>\n",
       "      <td>1113</td>\n",
       "      <td>0</td>\n",
       "      <td>7674</td>\n",
       "      <td>2021-11-01 15:30:03</td>\n",
       "      <td>공범 EP1</td>\n",
       "    </tr>\n",
       "    <tr>\n",
       "      <th>6695</th>\n",
       "      <td>23QQ1ru9YQg</td>\n",
       "      <td>2199328</td>\n",
       "      <td>25566</td>\n",
       "      <td>763</td>\n",
       "      <td>0</td>\n",
       "      <td>9171</td>\n",
       "      <td>2021-11-01 15:30:03</td>\n",
       "      <td>공범 EP2</td>\n",
       "    </tr>\n",
       "    <tr>\n",
       "      <th>9263</th>\n",
       "      <td>GygoAk1hDU0</td>\n",
       "      <td>1671294</td>\n",
       "      <td>22719</td>\n",
       "      <td>508</td>\n",
       "      <td>0</td>\n",
       "      <td>12499</td>\n",
       "      <td>2021-11-01 15:30:03</td>\n",
       "      <td>공범 EP3</td>\n",
       "    </tr>\n",
       "    <tr>\n",
       "      <th>11543</th>\n",
       "      <td>bK0_3Vbfvs8</td>\n",
       "      <td>1818493</td>\n",
       "      <td>22703</td>\n",
       "      <td>408</td>\n",
       "      <td>0</td>\n",
       "      <td>16949</td>\n",
       "      <td>2021-11-01 15:30:03</td>\n",
       "      <td>공범 EP4</td>\n",
       "    </tr>\n",
       "    <tr>\n",
       "      <th>13105</th>\n",
       "      <td>hv7FBjskAu0</td>\n",
       "      <td>1503435</td>\n",
       "      <td>19926</td>\n",
       "      <td>421</td>\n",
       "      <td>0</td>\n",
       "      <td>12434</td>\n",
       "      <td>2021-11-01 15:30:04</td>\n",
       "      <td>공범 EP5</td>\n",
       "    </tr>\n",
       "    <tr>\n",
       "      <th>14934</th>\n",
       "      <td>AxGKHmXyuAE</td>\n",
       "      <td>1750222</td>\n",
       "      <td>24494</td>\n",
       "      <td>389</td>\n",
       "      <td>0</td>\n",
       "      <td>13025</td>\n",
       "      <td>2021-11-01 15:30:04</td>\n",
       "      <td>공범 EP6</td>\n",
       "    </tr>\n",
       "    <tr>\n",
       "      <th>13660</th>\n",
       "      <td>QUjQbgj5IXM</td>\n",
       "      <td>1630200</td>\n",
       "      <td>29335</td>\n",
       "      <td>400</td>\n",
       "      <td>0</td>\n",
       "      <td>18247</td>\n",
       "      <td>2021-11-01 15:30:05</td>\n",
       "      <td>공범 EP7</td>\n",
       "    </tr>\n",
       "    <tr>\n",
       "      <th>15200</th>\n",
       "      <td>yZt-h-KcmUE</td>\n",
       "      <td>1289088</td>\n",
       "      <td>25616</td>\n",
       "      <td>3621</td>\n",
       "      <td>0</td>\n",
       "      <td>31663</td>\n",
       "      <td>2021-11-01 15:30:05</td>\n",
       "      <td>공범 EP8</td>\n",
       "    </tr>\n",
       "  </tbody>\n",
       "</table>\n",
       "</div>"
      ],
      "text/plain": [
       "           videopk  viewcnt  likecnt  dislikecnt  favoritecnt  cmcnt  \\\n",
       "3491   c5JQp6xafqc  3180532    41043        1113            0   7674   \n",
       "6695   23QQ1ru9YQg  2199328    25566         763            0   9171   \n",
       "9263   GygoAk1hDU0  1671294    22719         508            0  12499   \n",
       "11543  bK0_3Vbfvs8  1818493    22703         408            0  16949   \n",
       "13105  hv7FBjskAu0  1503435    19926         421            0  12434   \n",
       "14934  AxGKHmXyuAE  1750222    24494         389            0  13025   \n",
       "13660  QUjQbgj5IXM  1630200    29335         400            0  18247   \n",
       "15200  yZt-h-KcmUE  1289088    25616        3621            0  31663   \n",
       "\n",
       "                       ct videoname  \n",
       "3491  2021-11-01 15:30:03    공범 EP1  \n",
       "6695  2021-11-01 15:30:03    공범 EP2  \n",
       "9263  2021-11-01 15:30:03    공범 EP3  \n",
       "11543 2021-11-01 15:30:03    공범 EP4  \n",
       "13105 2021-11-01 15:30:04    공범 EP5  \n",
       "14934 2021-11-01 15:30:04    공범 EP6  \n",
       "13660 2021-11-01 15:30:05    공범 EP7  \n",
       "15200 2021-11-01 15:30:05    공범 EP8  "
      ]
     },
     "execution_count": 23,
     "metadata": {},
     "output_type": "execute_result"
    }
   ],
   "source": [
    "video.sort_values([\"videoname\",\"ct\"]).drop_duplicates(\"videoname\", keep = \"last\")"
   ]
  },
  {
   "cell_type": "markdown",
   "id": "ccd1eb29",
   "metadata": {},
   "source": [
    "##### 13. Channel 데이터중 2021-10-03일 이후 각 채널의 처음 기록 됐던 구독자 수(subcnt)를 출력하라"
   ]
  },
  {
   "cell_type": "code",
   "execution_count": 24,
   "id": "c0309cc9",
   "metadata": {},
   "outputs": [
    {
     "data": {
      "text/html": [
       "<div>\n",
       "<style scoped>\n",
       "    .dataframe tbody tr th:only-of-type {\n",
       "        vertical-align: middle;\n",
       "    }\n",
       "\n",
       "    .dataframe tbody tr th {\n",
       "        vertical-align: top;\n",
       "    }\n",
       "\n",
       "    .dataframe thead th {\n",
       "        text-align: right;\n",
       "    }\n",
       "</style>\n",
       "<table border=\"1\" class=\"dataframe\">\n",
       "  <thead>\n",
       "    <tr style=\"text-align: right;\">\n",
       "      <th></th>\n",
       "      <th>channelname</th>\n",
       "      <th>subcnt</th>\n",
       "    </tr>\n",
       "  </thead>\n",
       "  <tbody>\n",
       "    <tr>\n",
       "      <th>0</th>\n",
       "      <td>논리왕 전기</td>\n",
       "      <td>922000</td>\n",
       "    </tr>\n",
       "    <tr>\n",
       "      <th>1</th>\n",
       "      <td>야전삽짱재</td>\n",
       "      <td>257000</td>\n",
       "    </tr>\n",
       "    <tr>\n",
       "      <th>2</th>\n",
       "      <td>츄정ChuJeong</td>\n",
       "      <td>322000</td>\n",
       "    </tr>\n",
       "    <tr>\n",
       "      <th>3</th>\n",
       "      <td>김농밀의 농밀한 삶</td>\n",
       "      <td>7520</td>\n",
       "    </tr>\n",
       "    <tr>\n",
       "      <th>4</th>\n",
       "      <td>릴펄 Lilpearl</td>\n",
       "      <td>10100</td>\n",
       "    </tr>\n",
       "    <tr>\n",
       "      <th>...</th>\n",
       "      <td>...</td>\n",
       "      <td>...</td>\n",
       "    </tr>\n",
       "    <tr>\n",
       "      <th>1283</th>\n",
       "      <td>곽토리 kwak tori</td>\n",
       "      <td>469000</td>\n",
       "    </tr>\n",
       "    <tr>\n",
       "      <th>1284</th>\n",
       "      <td>김농밀의 농밀한 삶</td>\n",
       "      <td>9060</td>\n",
       "    </tr>\n",
       "    <tr>\n",
       "      <th>1285</th>\n",
       "      <td>릴펄 Lilpearl</td>\n",
       "      <td>21100</td>\n",
       "    </tr>\n",
       "    <tr>\n",
       "      <th>1286</th>\n",
       "      <td>Balming Tiger</td>\n",
       "      <td>56800</td>\n",
       "    </tr>\n",
       "    <tr>\n",
       "      <th>1287</th>\n",
       "      <td>꽈뚜룹</td>\n",
       "      <td>1400000</td>\n",
       "    </tr>\n",
       "  </tbody>\n",
       "</table>\n",
       "<p>1288 rows × 2 columns</p>\n",
       "</div>"
      ],
      "text/plain": [
       "        channelname   subcnt\n",
       "0            논리왕 전기   922000\n",
       "1             야전삽짱재   257000\n",
       "2        츄정ChuJeong   322000\n",
       "3        김농밀의 농밀한 삶     7520\n",
       "4       릴펄 Lilpearl    10100\n",
       "...             ...      ...\n",
       "1283  곽토리 kwak tori   469000\n",
       "1284     김농밀의 농밀한 삶     9060\n",
       "1285    릴펄 Lilpearl    21100\n",
       "1286  Balming Tiger    56800\n",
       "1287            꽈뚜룹  1400000\n",
       "\n",
       "[1288 rows x 2 columns]"
      ]
     },
     "execution_count": 24,
     "metadata": {},
     "output_type": "execute_result"
    }
   ],
   "source": [
    "ans = channel[channel[\"ct\"] >= pd.to_datetime(\"2021-10-03\")].sort_values([\"ct\", \"channelname\"]).drop_duplicates().reset_index(drop = True)\n",
    "ans[[\"channelname\", \"subcnt\"]]"
   ]
  },
  {
   "cell_type": "markdown",
   "id": "eb5e3292",
   "metadata": {},
   "source": [
    "##### 14. 각채널의 2021-10-03 03:00:00 ~ 2021-11-01 15:00:00 까지 구독자수 (subcnt) 의 증가량을 구하여라"
   ]
  },
  {
   "cell_type": "code",
   "execution_count": 25,
   "id": "fe6ad7e8",
   "metadata": {},
   "outputs": [
    {
     "data": {
      "text/html": [
       "<div>\n",
       "<style scoped>\n",
       "    .dataframe tbody tr th:only-of-type {\n",
       "        vertical-align: middle;\n",
       "    }\n",
       "\n",
       "    .dataframe tbody tr th {\n",
       "        vertical-align: top;\n",
       "    }\n",
       "\n",
       "    .dataframe thead th {\n",
       "        text-align: right;\n",
       "    }\n",
       "</style>\n",
       "<table border=\"1\" class=\"dataframe\">\n",
       "  <thead>\n",
       "    <tr style=\"text-align: right;\">\n",
       "      <th></th>\n",
       "      <th>start</th>\n",
       "      <th>end</th>\n",
       "      <th>increase</th>\n",
       "    </tr>\n",
       "    <tr>\n",
       "      <th>channelname</th>\n",
       "      <th></th>\n",
       "      <th></th>\n",
       "      <th></th>\n",
       "    </tr>\n",
       "  </thead>\n",
       "  <tbody>\n",
       "    <tr>\n",
       "      <th>Balming Tiger</th>\n",
       "      <td>54300</td>\n",
       "      <td>56800</td>\n",
       "      <td>2500</td>\n",
       "    </tr>\n",
       "    <tr>\n",
       "      <th>곽토리 kwak tori</th>\n",
       "      <td>471000</td>\n",
       "      <td>469000</td>\n",
       "      <td>-2000</td>\n",
       "    </tr>\n",
       "    <tr>\n",
       "      <th>김농밀의 농밀한 삶</th>\n",
       "      <td>7520</td>\n",
       "      <td>9060</td>\n",
       "      <td>1540</td>\n",
       "    </tr>\n",
       "    <tr>\n",
       "      <th>꽈뚜룹</th>\n",
       "      <td>1330000</td>\n",
       "      <td>1400000</td>\n",
       "      <td>70000</td>\n",
       "    </tr>\n",
       "    <tr>\n",
       "      <th>논리왕 전기</th>\n",
       "      <td>922000</td>\n",
       "      <td>911000</td>\n",
       "      <td>-11000</td>\n",
       "    </tr>\n",
       "    <tr>\n",
       "      <th>릴펄 Lilpearl</th>\n",
       "      <td>10100</td>\n",
       "      <td>21100</td>\n",
       "      <td>11000</td>\n",
       "    </tr>\n",
       "    <tr>\n",
       "      <th>야전삽짱재</th>\n",
       "      <td>257000</td>\n",
       "      <td>268000</td>\n",
       "      <td>11000</td>\n",
       "    </tr>\n",
       "    <tr>\n",
       "      <th>와글와글 WagleWagle</th>\n",
       "      <td>55000</td>\n",
       "      <td>55000</td>\n",
       "      <td>0</td>\n",
       "    </tr>\n",
       "    <tr>\n",
       "      <th>조나단</th>\n",
       "      <td>215000</td>\n",
       "      <td>227000</td>\n",
       "      <td>12000</td>\n",
       "    </tr>\n",
       "    <tr>\n",
       "      <th>츄정ChuJeong</th>\n",
       "      <td>322000</td>\n",
       "      <td>323000</td>\n",
       "      <td>1000</td>\n",
       "    </tr>\n",
       "    <tr>\n",
       "      <th>형사!탐정되다</th>\n",
       "      <td>14900</td>\n",
       "      <td>25200</td>\n",
       "      <td>10300</td>\n",
       "    </tr>\n",
       "  </tbody>\n",
       "</table>\n",
       "</div>"
      ],
      "text/plain": [
       "                   start      end  increase\n",
       "channelname                                \n",
       "Balming Tiger      54300    56800      2500\n",
       "곽토리 kwak tori     471000   469000     -2000\n",
       "김농밀의 농밀한 삶          7520     9060      1540\n",
       "꽈뚜룹              1330000  1400000     70000\n",
       "논리왕 전기            922000   911000    -11000\n",
       "릴펄 Lilpearl        10100    21100     11000\n",
       "야전삽짱재             257000   268000     11000\n",
       "와글와글 WagleWagle    55000    55000         0\n",
       "조나단               215000   227000     12000\n",
       "츄정ChuJeong        322000   323000      1000\n",
       "형사!탐정되다            14900    25200     10300"
      ]
     },
     "execution_count": 25,
     "metadata": {},
     "output_type": "execute_result"
    }
   ],
   "source": [
    "start = pd.Timestamp(\"2021-10-03 03:00\")\n",
    "end = pd.Timestamp(\"2021-11-01 15:00\")\n",
    "target = channel[(channel[\"ct\"] >= start) & (channel[\"ct\"] <= end)]\n",
    "ans = target.sort_values(\"ct\").groupby(\"channelname\").agg(start = (\"subcnt\", \"first\"), end = (\"subcnt\", \"last\"))\n",
    "ans[\"increase\"] = ans[\"end\"] - ans[\"start\"]\n",
    "ans"
   ]
  },
  {
   "cell_type": "code",
   "execution_count": 26,
   "id": "b9032a9d",
   "metadata": {},
   "outputs": [
    {
     "data": {
      "text/html": [
       "<div>\n",
       "<style scoped>\n",
       "    .dataframe tbody tr th:only-of-type {\n",
       "        vertical-align: middle;\n",
       "    }\n",
       "\n",
       "    .dataframe tbody tr th {\n",
       "        vertical-align: top;\n",
       "    }\n",
       "\n",
       "    .dataframe thead th {\n",
       "        text-align: right;\n",
       "    }\n",
       "</style>\n",
       "<table border=\"1\" class=\"dataframe\">\n",
       "  <thead>\n",
       "    <tr style=\"text-align: right;\">\n",
       "      <th></th>\n",
       "      <th>channelname</th>\n",
       "      <th>increase</th>\n",
       "    </tr>\n",
       "  </thead>\n",
       "  <tbody>\n",
       "    <tr>\n",
       "      <th>0</th>\n",
       "      <td>Balming Tiger</td>\n",
       "      <td>2500</td>\n",
       "    </tr>\n",
       "    <tr>\n",
       "      <th>1</th>\n",
       "      <td>곽토리 kwak tori</td>\n",
       "      <td>-2000</td>\n",
       "    </tr>\n",
       "    <tr>\n",
       "      <th>2</th>\n",
       "      <td>김농밀의 농밀한 삶</td>\n",
       "      <td>1540</td>\n",
       "    </tr>\n",
       "    <tr>\n",
       "      <th>3</th>\n",
       "      <td>꽈뚜룹</td>\n",
       "      <td>70000</td>\n",
       "    </tr>\n",
       "    <tr>\n",
       "      <th>4</th>\n",
       "      <td>논리왕 전기</td>\n",
       "      <td>-11000</td>\n",
       "    </tr>\n",
       "    <tr>\n",
       "      <th>5</th>\n",
       "      <td>릴펄 Lilpearl</td>\n",
       "      <td>11000</td>\n",
       "    </tr>\n",
       "    <tr>\n",
       "      <th>6</th>\n",
       "      <td>야전삽짱재</td>\n",
       "      <td>11000</td>\n",
       "    </tr>\n",
       "    <tr>\n",
       "      <th>7</th>\n",
       "      <td>와글와글 WagleWagle</td>\n",
       "      <td>0</td>\n",
       "    </tr>\n",
       "    <tr>\n",
       "      <th>8</th>\n",
       "      <td>조나단</td>\n",
       "      <td>12000</td>\n",
       "    </tr>\n",
       "    <tr>\n",
       "      <th>9</th>\n",
       "      <td>츄정ChuJeong</td>\n",
       "      <td>1000</td>\n",
       "    </tr>\n",
       "    <tr>\n",
       "      <th>10</th>\n",
       "      <td>형사!탐정되다</td>\n",
       "      <td>10300</td>\n",
       "    </tr>\n",
       "  </tbody>\n",
       "</table>\n",
       "</div>"
      ],
      "text/plain": [
       "        channelname  increase\n",
       "0     Balming Tiger      2500\n",
       "1     곽토리 kwak tori     -2000\n",
       "2        김농밀의 농밀한 삶      1540\n",
       "3               꽈뚜룹     70000\n",
       "4            논리왕 전기    -11000\n",
       "5       릴펄 Lilpearl     11000\n",
       "6             야전삽짱재     11000\n",
       "7   와글와글 WagleWagle         0\n",
       "8               조나단     12000\n",
       "9        츄정ChuJeong      1000\n",
       "10          형사!탐정되다     10300"
      ]
     },
     "execution_count": 26,
     "metadata": {},
     "output_type": "execute_result"
    }
   ],
   "source": [
    "ans.reset_index()[[\"channelname\", \"increase\"]]"
   ]
  },
  {
   "cell_type": "markdown",
   "id": "fb82eb93",
   "metadata": {},
   "source": [
    "##### 15. 각 비디오는 10분 간격으로 구독자수, 좋아요, 싫어요수, 댓글수가 수집된것으로 알려졌다. 공범 EP1의 비디오정보 데이터중 수집간격이 5분 이하, 20분이상인 데이터 구간( 해당 시점 전,후) 의 시각을 모두 출력하라"
   ]
  },
  {
   "cell_type": "code",
   "execution_count": 27,
   "id": "71d45d3b",
   "metadata": {},
   "outputs": [
    {
     "data": {
      "text/html": [
       "<div>\n",
       "<style scoped>\n",
       "    .dataframe tbody tr th:only-of-type {\n",
       "        vertical-align: middle;\n",
       "    }\n",
       "\n",
       "    .dataframe tbody tr th {\n",
       "        vertical-align: top;\n",
       "    }\n",
       "\n",
       "    .dataframe thead th {\n",
       "        text-align: right;\n",
       "    }\n",
       "</style>\n",
       "<table border=\"1\" class=\"dataframe\">\n",
       "  <thead>\n",
       "    <tr style=\"text-align: right;\">\n",
       "      <th></th>\n",
       "      <th>videopk</th>\n",
       "      <th>viewcnt</th>\n",
       "      <th>likecnt</th>\n",
       "      <th>dislikecnt</th>\n",
       "      <th>favoritecnt</th>\n",
       "      <th>cmcnt</th>\n",
       "      <th>ct</th>\n",
       "      <th>videoname</th>\n",
       "    </tr>\n",
       "  </thead>\n",
       "  <tbody>\n",
       "    <tr>\n",
       "      <th>720</th>\n",
       "      <td>c5JQp6xafqc</td>\n",
       "      <td>2153676</td>\n",
       "      <td>34104</td>\n",
       "      <td>830</td>\n",
       "      <td>0</td>\n",
       "      <td>7120</td>\n",
       "      <td>2021-10-12 19:20:03</td>\n",
       "      <td>공범 EP1</td>\n",
       "    </tr>\n",
       "    <tr>\n",
       "      <th>721</th>\n",
       "      <td>c5JQp6xafqc</td>\n",
       "      <td>2228250</td>\n",
       "      <td>34559</td>\n",
       "      <td>849</td>\n",
       "      <td>0</td>\n",
       "      <td>7191</td>\n",
       "      <td>2021-10-13 09:41:37</td>\n",
       "      <td>공범 EP1</td>\n",
       "    </tr>\n",
       "    <tr>\n",
       "      <th>722</th>\n",
       "      <td>c5JQp6xafqc</td>\n",
       "      <td>2228250</td>\n",
       "      <td>34559</td>\n",
       "      <td>849</td>\n",
       "      <td>0</td>\n",
       "      <td>7191</td>\n",
       "      <td>2021-10-13 09:41:37</td>\n",
       "      <td>공범 EP1</td>\n",
       "    </tr>\n",
       "    <tr>\n",
       "      <th>723</th>\n",
       "      <td>c5JQp6xafqc</td>\n",
       "      <td>2228669</td>\n",
       "      <td>34566</td>\n",
       "      <td>849</td>\n",
       "      <td>0</td>\n",
       "      <td>7194</td>\n",
       "      <td>2021-10-13 09:50:03</td>\n",
       "      <td>공범 EP1</td>\n",
       "    </tr>\n",
       "    <tr>\n",
       "      <th>1635</th>\n",
       "      <td>c5JQp6xafqc</td>\n",
       "      <td>2706691</td>\n",
       "      <td>37893</td>\n",
       "      <td>987</td>\n",
       "      <td>0</td>\n",
       "      <td>7410</td>\n",
       "      <td>2021-10-19 17:50:02</td>\n",
       "      <td>공범 EP1</td>\n",
       "    </tr>\n",
       "    <tr>\n",
       "      <th>1636</th>\n",
       "      <td>c5JQp6xafqc</td>\n",
       "      <td>2707933</td>\n",
       "      <td>37901</td>\n",
       "      <td>988</td>\n",
       "      <td>0</td>\n",
       "      <td>7410</td>\n",
       "      <td>2021-10-19 18:20:03</td>\n",
       "      <td>공범 EP1</td>\n",
       "    </tr>\n",
       "    <tr>\n",
       "      <th>1637</th>\n",
       "      <td>c5JQp6xafqc</td>\n",
       "      <td>2708448</td>\n",
       "      <td>37903</td>\n",
       "      <td>988</td>\n",
       "      <td>0</td>\n",
       "      <td>7410</td>\n",
       "      <td>2021-10-19 18:30:03</td>\n",
       "      <td>공범 EP1</td>\n",
       "    </tr>\n",
       "  </tbody>\n",
       "</table>\n",
       "</div>"
      ],
      "text/plain": [
       "          videopk  viewcnt  likecnt  dislikecnt  favoritecnt  cmcnt  \\\n",
       "720   c5JQp6xafqc  2153676    34104         830            0   7120   \n",
       "721   c5JQp6xafqc  2228250    34559         849            0   7191   \n",
       "722   c5JQp6xafqc  2228250    34559         849            0   7191   \n",
       "723   c5JQp6xafqc  2228669    34566         849            0   7194   \n",
       "1635  c5JQp6xafqc  2706691    37893         987            0   7410   \n",
       "1636  c5JQp6xafqc  2707933    37901         988            0   7410   \n",
       "1637  c5JQp6xafqc  2708448    37903         988            0   7410   \n",
       "\n",
       "                      ct videoname  \n",
       "720  2021-10-12 19:20:03    공범 EP1  \n",
       "721  2021-10-13 09:41:37    공범 EP1  \n",
       "722  2021-10-13 09:41:37    공범 EP1  \n",
       "723  2021-10-13 09:50:03    공범 EP1  \n",
       "1635 2021-10-19 17:50:02    공범 EP1  \n",
       "1636 2021-10-19 18:20:03    공범 EP1  \n",
       "1637 2021-10-19 18:30:03    공범 EP1  "
      ]
     },
     "execution_count": 27,
     "metadata": {},
     "output_type": "execute_result"
    }
   ],
   "source": [
    "target = video[video[\"videoname\"].str.contains(\"공범 EP1\")].sort_values(\"ct\").reset_index(drop = True)\n",
    "target[(target[\"ct\"].diff() >= dt.timedelta(minutes = 20)) | (target[\"ct\"].diff() <= dt.timedelta(minutes = 5))]\n",
    "\n",
    "target[target.index.isin([720,721,722,723,1635,1636,1637])]"
   ]
  },
  {
   "cell_type": "markdown",
   "id": "c31ddf88",
   "metadata": {},
   "source": [
    "##### 16. 각 에피소드의 시작날짜(년-월-일)를 에피소드 이름과 묶어 데이터 프레임으로 만들고 출력하라"
   ]
  },
  {
   "cell_type": "code",
   "execution_count": 28,
   "id": "0b3131e3",
   "metadata": {},
   "outputs": [
    {
     "data": {
      "text/html": [
       "<div>\n",
       "<style scoped>\n",
       "    .dataframe tbody tr th:only-of-type {\n",
       "        vertical-align: middle;\n",
       "    }\n",
       "\n",
       "    .dataframe tbody tr th {\n",
       "        vertical-align: top;\n",
       "    }\n",
       "\n",
       "    .dataframe thead th {\n",
       "        text-align: right;\n",
       "    }\n",
       "</style>\n",
       "<table border=\"1\" class=\"dataframe\">\n",
       "  <thead>\n",
       "    <tr style=\"text-align: right;\">\n",
       "      <th></th>\n",
       "      <th>date</th>\n",
       "      <th>videoname</th>\n",
       "    </tr>\n",
       "  </thead>\n",
       "  <tbody>\n",
       "    <tr>\n",
       "      <th>10</th>\n",
       "      <td>2021-10-07</td>\n",
       "      <td>공범 EP1</td>\n",
       "    </tr>\n",
       "    <tr>\n",
       "      <th>3496</th>\n",
       "      <td>2021-10-09</td>\n",
       "      <td>공범 EP2</td>\n",
       "    </tr>\n",
       "    <tr>\n",
       "      <th>6696</th>\n",
       "      <td>2021-10-14</td>\n",
       "      <td>공범 EP3</td>\n",
       "    </tr>\n",
       "    <tr>\n",
       "      <th>9264</th>\n",
       "      <td>2021-10-16</td>\n",
       "      <td>공범 EP4</td>\n",
       "    </tr>\n",
       "    <tr>\n",
       "      <th>11544</th>\n",
       "      <td>2021-10-21</td>\n",
       "      <td>공범 EP5</td>\n",
       "    </tr>\n",
       "    <tr>\n",
       "      <th>13661</th>\n",
       "      <td>2021-10-23</td>\n",
       "      <td>공범 EP6</td>\n",
       "    </tr>\n",
       "    <tr>\n",
       "      <th>13106</th>\n",
       "      <td>2021-10-28</td>\n",
       "      <td>공범 EP7</td>\n",
       "    </tr>\n",
       "    <tr>\n",
       "      <th>14935</th>\n",
       "      <td>2021-10-30</td>\n",
       "      <td>공범 EP8</td>\n",
       "    </tr>\n",
       "  </tbody>\n",
       "</table>\n",
       "</div>"
      ],
      "text/plain": [
       "             date videoname\n",
       "10     2021-10-07    공범 EP1\n",
       "3496   2021-10-09    공범 EP2\n",
       "6696   2021-10-14    공범 EP3\n",
       "9264   2021-10-16    공범 EP4\n",
       "11544  2021-10-21    공범 EP5\n",
       "13661  2021-10-23    공범 EP6\n",
       "13106  2021-10-28    공범 EP7\n",
       "14935  2021-10-30    공범 EP8"
      ]
     },
     "execution_count": 28,
     "metadata": {},
     "output_type": "execute_result"
    }
   ],
   "source": [
    "start = video.sort_values([\"videoname\", \"ct\"]).drop_duplicates(\"videoname\")[[\"ct\", \"videoname\"]]\n",
    "start[\"date\"] = start[\"ct\"].dt.date\n",
    "start[[\"date\", \"videoname\"]]"
   ]
  },
  {
   "cell_type": "markdown",
   "id": "38cf785e",
   "metadata": {},
   "source": [
    "##### 17. “공범” 컨텐츠의 경우 19:00시에 공개 되는것으로 알려져있다. 공개된 날의 21시의 viewcnt, ct, videoname 으로 구성된 데이터 프레임을 viewcnt를 내림차순으로 정렬하여 출력하라"
   ]
  },
  {
   "cell_type": "code",
   "execution_count": 29,
   "id": "a2471fdc",
   "metadata": {},
   "outputs": [
    {
     "data": {
      "text/html": [
       "<div>\n",
       "<style scoped>\n",
       "    .dataframe tbody tr th:only-of-type {\n",
       "        vertical-align: middle;\n",
       "    }\n",
       "\n",
       "    .dataframe tbody tr th {\n",
       "        vertical-align: top;\n",
       "    }\n",
       "\n",
       "    .dataframe thead th {\n",
       "        text-align: right;\n",
       "    }\n",
       "</style>\n",
       "<table border=\"1\" class=\"dataframe\">\n",
       "  <thead>\n",
       "    <tr style=\"text-align: right;\">\n",
       "      <th></th>\n",
       "      <th>videoname</th>\n",
       "      <th>viewcnt</th>\n",
       "      <th>ct</th>\n",
       "    </tr>\n",
       "  </thead>\n",
       "  <tbody>\n",
       "    <tr>\n",
       "      <th>0</th>\n",
       "      <td>공범 EP8</td>\n",
       "      <td>264029</td>\n",
       "      <td>2021-10-30 21:00:08</td>\n",
       "    </tr>\n",
       "    <tr>\n",
       "      <th>1</th>\n",
       "      <td>공범 EP7</td>\n",
       "      <td>252032</td>\n",
       "      <td>2021-10-28 21:00:04</td>\n",
       "    </tr>\n",
       "    <tr>\n",
       "      <th>2</th>\n",
       "      <td>공범 EP4</td>\n",
       "      <td>217674</td>\n",
       "      <td>2021-10-16 21:00:04</td>\n",
       "    </tr>\n",
       "    <tr>\n",
       "      <th>3</th>\n",
       "      <td>공범 EP6</td>\n",
       "      <td>213899</td>\n",
       "      <td>2021-10-23 21:00:06</td>\n",
       "    </tr>\n",
       "    <tr>\n",
       "      <th>4</th>\n",
       "      <td>공범 EP5</td>\n",
       "      <td>201179</td>\n",
       "      <td>2021-10-21 21:00:04</td>\n",
       "    </tr>\n",
       "    <tr>\n",
       "      <th>5</th>\n",
       "      <td>공범 EP2</td>\n",
       "      <td>148144</td>\n",
       "      <td>2021-10-09 21:00:03</td>\n",
       "    </tr>\n",
       "    <tr>\n",
       "      <th>6</th>\n",
       "      <td>공범 EP3</td>\n",
       "      <td>147183</td>\n",
       "      <td>2021-10-14 21:00:04</td>\n",
       "    </tr>\n",
       "    <tr>\n",
       "      <th>7</th>\n",
       "      <td>공범 EP1</td>\n",
       "      <td>117340</td>\n",
       "      <td>2021-10-07 21:00:03</td>\n",
       "    </tr>\n",
       "  </tbody>\n",
       "</table>\n",
       "</div>"
      ],
      "text/plain": [
       "  videoname  viewcnt                  ct\n",
       "0    공범 EP8   264029 2021-10-30 21:00:08\n",
       "1    공범 EP7   252032 2021-10-28 21:00:04\n",
       "2    공범 EP4   217674 2021-10-16 21:00:04\n",
       "3    공범 EP6   213899 2021-10-23 21:00:06\n",
       "4    공범 EP5   201179 2021-10-21 21:00:04\n",
       "5    공범 EP2   148144 2021-10-09 21:00:03\n",
       "6    공범 EP3   147183 2021-10-14 21:00:04\n",
       "7    공범 EP1   117340 2021-10-07 21:00:03"
      ]
     },
     "execution_count": 29,
     "metadata": {},
     "output_type": "execute_result"
    }
   ],
   "source": [
    "ans = video[video[\"ct\"].dt.hour == 21].sort_values([\"videoname\",\"ct\"]).drop_duplicates(\"videoname\").sort_values(\"viewcnt\",ascending=False)[[\"videoname\",\"viewcnt\",\"ct\"]].reset_index(drop=True)\n",
    "ans"
   ]
  },
  {
   "cell_type": "markdown",
   "id": "2c48c6cc",
   "metadata": {},
   "source": [
    "##### 18. video 정보의 가장 최근 데이터들에서 각 에피소드의 싫어요/좋아요 비율을 ratio 컬럼으로 만들고 videoname, ratio로 구성된 데이터 프레임을 ratio를 오름차순으로 정렬하라"
   ]
  },
  {
   "cell_type": "code",
   "execution_count": 30,
   "id": "9ff28205",
   "metadata": {},
   "outputs": [
    {
     "data": {
      "text/html": [
       "<div>\n",
       "<style scoped>\n",
       "    .dataframe tbody tr th:only-of-type {\n",
       "        vertical-align: middle;\n",
       "    }\n",
       "\n",
       "    .dataframe tbody tr th {\n",
       "        vertical-align: top;\n",
       "    }\n",
       "\n",
       "    .dataframe thead th {\n",
       "        text-align: right;\n",
       "    }\n",
       "</style>\n",
       "<table border=\"1\" class=\"dataframe\">\n",
       "  <thead>\n",
       "    <tr style=\"text-align: right;\">\n",
       "      <th></th>\n",
       "      <th>videoname</th>\n",
       "      <th>ratio</th>\n",
       "    </tr>\n",
       "  </thead>\n",
       "  <tbody>\n",
       "    <tr>\n",
       "      <th>0</th>\n",
       "      <td>공범 EP7</td>\n",
       "      <td>0.013636</td>\n",
       "    </tr>\n",
       "    <tr>\n",
       "      <th>1</th>\n",
       "      <td>공범 EP6</td>\n",
       "      <td>0.015881</td>\n",
       "    </tr>\n",
       "    <tr>\n",
       "      <th>2</th>\n",
       "      <td>공범 EP4</td>\n",
       "      <td>0.017971</td>\n",
       "    </tr>\n",
       "    <tr>\n",
       "      <th>3</th>\n",
       "      <td>공범 EP5</td>\n",
       "      <td>0.021128</td>\n",
       "    </tr>\n",
       "    <tr>\n",
       "      <th>4</th>\n",
       "      <td>공범 EP3</td>\n",
       "      <td>0.022360</td>\n",
       "    </tr>\n",
       "    <tr>\n",
       "      <th>5</th>\n",
       "      <td>공범 EP1</td>\n",
       "      <td>0.027118</td>\n",
       "    </tr>\n",
       "    <tr>\n",
       "      <th>6</th>\n",
       "      <td>공범 EP2</td>\n",
       "      <td>0.029844</td>\n",
       "    </tr>\n",
       "    <tr>\n",
       "      <th>7</th>\n",
       "      <td>공범 EP8</td>\n",
       "      <td>0.141357</td>\n",
       "    </tr>\n",
       "  </tbody>\n",
       "</table>\n",
       "</div>"
      ],
      "text/plain": [
       "  videoname     ratio\n",
       "0    공범 EP7  0.013636\n",
       "1    공범 EP6  0.015881\n",
       "2    공범 EP4  0.017971\n",
       "3    공범 EP5  0.021128\n",
       "4    공범 EP3  0.022360\n",
       "5    공범 EP1  0.027118\n",
       "6    공범 EP2  0.029844\n",
       "7    공범 EP8  0.141357"
      ]
     },
     "execution_count": 30,
     "metadata": {},
     "output_type": "execute_result"
    }
   ],
   "source": [
    "target = video.sort_values(\"ct\").drop_duplicates(\"videoname\",keep=\"last\")\n",
    "target[\"ratio\"] = target[\"dislikecnt\"] / target[\"likecnt\"]\n",
    "target.sort_values(\"ratio\")[[\"videoname\", \"ratio\"]].reset_index(drop = True)"
   ]
  },
  {
   "cell_type": "markdown",
   "id": "e4757d1d",
   "metadata": {},
   "source": [
    "##### 19. 2021-11-01 00:00:00 ~ 15:00:00까지 각 에피소드별 viewcnt의 증가량을 데이터 프레임으로 만드시오"
   ]
  },
  {
   "cell_type": "code",
   "execution_count": 31,
   "id": "a65bbcaa",
   "metadata": {},
   "outputs": [
    {
     "data": {
      "text/html": [
       "<div>\n",
       "<style scoped>\n",
       "    .dataframe tbody tr th:only-of-type {\n",
       "        vertical-align: middle;\n",
       "    }\n",
       "\n",
       "    .dataframe tbody tr th {\n",
       "        vertical-align: top;\n",
       "    }\n",
       "\n",
       "    .dataframe thead th {\n",
       "        text-align: right;\n",
       "    }\n",
       "</style>\n",
       "<table border=\"1\" class=\"dataframe\">\n",
       "  <thead>\n",
       "    <tr style=\"text-align: right;\">\n",
       "      <th></th>\n",
       "      <th>videoname</th>\n",
       "      <th>increase</th>\n",
       "    </tr>\n",
       "  </thead>\n",
       "  <tbody>\n",
       "    <tr>\n",
       "      <th>0</th>\n",
       "      <td>공범 EP1</td>\n",
       "      <td>13298</td>\n",
       "    </tr>\n",
       "    <tr>\n",
       "      <th>1</th>\n",
       "      <td>공범 EP2</td>\n",
       "      <td>10300</td>\n",
       "    </tr>\n",
       "    <tr>\n",
       "      <th>2</th>\n",
       "      <td>공범 EP3</td>\n",
       "      <td>9927</td>\n",
       "    </tr>\n",
       "    <tr>\n",
       "      <th>3</th>\n",
       "      <td>공범 EP4</td>\n",
       "      <td>9824</td>\n",
       "    </tr>\n",
       "    <tr>\n",
       "      <th>4</th>\n",
       "      <td>공범 EP5</td>\n",
       "      <td>10824</td>\n",
       "    </tr>\n",
       "    <tr>\n",
       "      <th>5</th>\n",
       "      <td>공범 EP6</td>\n",
       "      <td>14141</td>\n",
       "    </tr>\n",
       "    <tr>\n",
       "      <th>6</th>\n",
       "      <td>공범 EP7</td>\n",
       "      <td>26949</td>\n",
       "    </tr>\n",
       "    <tr>\n",
       "      <th>7</th>\n",
       "      <td>공범 EP8</td>\n",
       "      <td>89147</td>\n",
       "    </tr>\n",
       "  </tbody>\n",
       "</table>\n",
       "</div>"
      ],
      "text/plain": [
       "  videoname  increase\n",
       "0    공범 EP1     13298\n",
       "1    공범 EP2     10300\n",
       "2    공범 EP3      9927\n",
       "3    공범 EP4      9824\n",
       "4    공범 EP5     10824\n",
       "5    공범 EP6     14141\n",
       "6    공범 EP7     26949\n",
       "7    공범 EP8     89147"
      ]
     },
     "execution_count": 31,
     "metadata": {},
     "output_type": "execute_result"
    }
   ],
   "source": [
    "start = pd.to_datetime(\"2021-11-01 00:00\")\n",
    "end = pd.to_datetime(\"2021-11-01 15:00\")\n",
    "target = video[(video[\"ct\"] >= start) & (video[\"ct\"] <= end)].sort_values(\"ct\").groupby(\"videoname\").agg(start = (\"viewcnt\",\"first\"), end = (\"viewcnt\", \"last\"))\n",
    "target[\"increase\"] = target[\"end\"] - target[\"start\"]\n",
    "target.reset_index()[[\"videoname\", \"increase\"]]"
   ]
  },
  {
   "cell_type": "markdown",
   "id": "5db758ad",
   "metadata": {},
   "source": [
    "##### 20. video 데이터 중에서 중복되는 데이터가 존재한다. 중복되는 각 데이터의 시간대와 videoname 을 구하여라"
   ]
  },
  {
   "cell_type": "code",
   "execution_count": 32,
   "id": "4412fa30",
   "metadata": {},
   "outputs": [
    {
     "data": {
      "text/plain": [
       "{722, 3927}"
      ]
     },
     "execution_count": 32,
     "metadata": {},
     "output_type": "execute_result"
    }
   ],
   "source": [
    "set(video.index) -  set(video.drop_duplicates().index)"
   ]
  },
  {
   "cell_type": "code",
   "execution_count": 33,
   "id": "be377a06",
   "metadata": {},
   "outputs": [
    {
     "data": {
      "text/html": [
       "<div>\n",
       "<style scoped>\n",
       "    .dataframe tbody tr th:only-of-type {\n",
       "        vertical-align: middle;\n",
       "    }\n",
       "\n",
       "    .dataframe tbody tr th {\n",
       "        vertical-align: top;\n",
       "    }\n",
       "\n",
       "    .dataframe thead th {\n",
       "        text-align: right;\n",
       "    }\n",
       "</style>\n",
       "<table border=\"1\" class=\"dataframe\">\n",
       "  <thead>\n",
       "    <tr style=\"text-align: right;\">\n",
       "      <th></th>\n",
       "      <th>videoname</th>\n",
       "      <th>ct</th>\n",
       "    </tr>\n",
       "  </thead>\n",
       "  <tbody>\n",
       "    <tr>\n",
       "      <th>722</th>\n",
       "      <td>공범 EP1</td>\n",
       "      <td>2021-10-13 09:41:37</td>\n",
       "    </tr>\n",
       "    <tr>\n",
       "      <th>3927</th>\n",
       "      <td>공범 EP2</td>\n",
       "      <td>2021-10-13 09:41:37</td>\n",
       "    </tr>\n",
       "  </tbody>\n",
       "</table>\n",
       "</div>"
      ],
      "text/plain": [
       "     videoname                  ct\n",
       "722     공범 EP1 2021-10-13 09:41:37\n",
       "3927    공범 EP2 2021-10-13 09:41:37"
      ]
     },
     "execution_count": 33,
     "metadata": {},
     "output_type": "execute_result"
    }
   ],
   "source": [
    "answer  = video[video.index.isin(set(video.index) -  set(video.drop_duplicates().index))]\n",
    "answer[[\"videoname\",\"ct\"]]"
   ]
  },
  {
   "cell_type": "markdown",
   "id": "31f53f71",
   "metadata": {},
   "source": [
    "# ❌ 월드컵 출전선수 골기록 데이터\n",
    "데이터 출처 :https://www.kaggle.com/darinhawley/fifa-world-cup-goalscorers-19302018(참고, 데이터 수정)  \n",
    "데이터 설명 : 1930 ~2018년도 월드컵 출전선수 골기록  \n",
    "data url = https://raw.githubusercontent.com/Datamanim/datarepo/main/worldcup/worldcupgoals.csv"
   ]
  },
  {
   "cell_type": "code",
   "execution_count": 34,
   "id": "861a500f",
   "metadata": {},
   "outputs": [
    {
     "data": {
      "text/html": [
       "<div>\n",
       "<style scoped>\n",
       "    .dataframe tbody tr th:only-of-type {\n",
       "        vertical-align: middle;\n",
       "    }\n",
       "\n",
       "    .dataframe tbody tr th {\n",
       "        vertical-align: top;\n",
       "    }\n",
       "\n",
       "    .dataframe thead th {\n",
       "        text-align: right;\n",
       "    }\n",
       "</style>\n",
       "<table border=\"1\" class=\"dataframe\">\n",
       "  <thead>\n",
       "    <tr style=\"text-align: right;\">\n",
       "      <th></th>\n",
       "      <th>Player</th>\n",
       "      <th>Goals</th>\n",
       "      <th>Years</th>\n",
       "      <th>Country</th>\n",
       "    </tr>\n",
       "  </thead>\n",
       "  <tbody>\n",
       "    <tr>\n",
       "      <th>0</th>\n",
       "      <td>Miroslav Klose</td>\n",
       "      <td>16</td>\n",
       "      <td>2002-2006-2010-2014</td>\n",
       "      <td>Germany</td>\n",
       "    </tr>\n",
       "    <tr>\n",
       "      <th>1</th>\n",
       "      <td>Ronaldo</td>\n",
       "      <td>15</td>\n",
       "      <td>1998-2002-2006</td>\n",
       "      <td>Brazil</td>\n",
       "    </tr>\n",
       "    <tr>\n",
       "      <th>2</th>\n",
       "      <td>Gerd Muller</td>\n",
       "      <td>14</td>\n",
       "      <td>1970-1974</td>\n",
       "      <td>Germany</td>\n",
       "    </tr>\n",
       "    <tr>\n",
       "      <th>3</th>\n",
       "      <td>Just Fontaine</td>\n",
       "      <td>13</td>\n",
       "      <td>1958</td>\n",
       "      <td>France</td>\n",
       "    </tr>\n",
       "    <tr>\n",
       "      <th>4</th>\n",
       "      <td>Pele</td>\n",
       "      <td>12</td>\n",
       "      <td>1958-1962-1966-1970</td>\n",
       "      <td>Brazil</td>\n",
       "    </tr>\n",
       "  </tbody>\n",
       "</table>\n",
       "</div>"
      ],
      "text/plain": [
       "           Player  Goals                Years  Country\n",
       "0  Miroslav Klose     16  2002-2006-2010-2014  Germany\n",
       "1         Ronaldo     15       1998-2002-2006   Brazil\n",
       "2     Gerd Muller     14            1970-1974  Germany\n",
       "3   Just Fontaine     13                 1958   France\n",
       "4            Pele     12  1958-1962-1966-1970   Brazil"
      ]
     },
     "execution_count": 34,
     "metadata": {},
     "output_type": "execute_result"
    }
   ],
   "source": [
    "df= pd.read_csv(\"https://raw.githubusercontent.com/Datamanim/datarepo/main/worldcup/worldcupgoals.csv\")\n",
    "df.head()"
   ]
  },
  {
   "cell_type": "markdown",
   "id": "68d28d35",
   "metadata": {},
   "source": [
    "##### 21. 주어진 전체 기간의 각 나라별 골득점수 상위 5개 국가와 그 득점수를 데이터프레임형태로 출력하라"
   ]
  },
  {
   "cell_type": "code",
   "execution_count": 35,
   "id": "9ccc4f56",
   "metadata": {},
   "outputs": [
    {
     "data": {
      "text/html": [
       "<div>\n",
       "<style scoped>\n",
       "    .dataframe tbody tr th:only-of-type {\n",
       "        vertical-align: middle;\n",
       "    }\n",
       "\n",
       "    .dataframe tbody tr th {\n",
       "        vertical-align: top;\n",
       "    }\n",
       "\n",
       "    .dataframe thead th {\n",
       "        text-align: right;\n",
       "    }\n",
       "</style>\n",
       "<table border=\"1\" class=\"dataframe\">\n",
       "  <thead>\n",
       "    <tr style=\"text-align: right;\">\n",
       "      <th></th>\n",
       "      <th>Player</th>\n",
       "      <th>Goals</th>\n",
       "      <th>Years</th>\n",
       "    </tr>\n",
       "    <tr>\n",
       "      <th>Country</th>\n",
       "      <th></th>\n",
       "      <th></th>\n",
       "      <th></th>\n",
       "    </tr>\n",
       "  </thead>\n",
       "  <tbody>\n",
       "    <tr>\n",
       "      <th>Brazil</th>\n",
       "      <td>RonaldoPeleAdemirJairzinhoVavaLeonidasRivaldoC...</td>\n",
       "      <td>228</td>\n",
       "      <td>1998-2002-20061958-1962-1966-197019501966-1970...</td>\n",
       "    </tr>\n",
       "    <tr>\n",
       "      <th>Germany</th>\n",
       "      <td>Miroslav KloseGerd MullerJurgen KlinsmannThoma...</td>\n",
       "      <td>226</td>\n",
       "      <td>2002-2006-2010-20141970-19741990-1994-19982010...</td>\n",
       "    </tr>\n",
       "    <tr>\n",
       "      <th>Argentina</th>\n",
       "      <td>Gabriel BatistutaDiego MaradonaGuillermo Stabi...</td>\n",
       "      <td>135</td>\n",
       "      <td>1994-1998-20021982-1986-1990-199419301974-1978...</td>\n",
       "    </tr>\n",
       "    <tr>\n",
       "      <th>Italy</th>\n",
       "      <td>Roberto BaggioPaolo RossiChristian VieriSalvat...</td>\n",
       "      <td>123</td>\n",
       "      <td>1990-1994-19981978-19821998-2002199019381982-1...</td>\n",
       "    </tr>\n",
       "    <tr>\n",
       "      <th>France</th>\n",
       "      <td>Just FontaineThierry HenryMichel PlatiniZinedi...</td>\n",
       "      <td>115</td>\n",
       "      <td>19581998-2002-2006-20101978-1982-19861998-2002...</td>\n",
       "    </tr>\n",
       "  </tbody>\n",
       "</table>\n",
       "</div>"
      ],
      "text/plain": [
       "                                                      Player  Goals  \\\n",
       "Country                                                               \n",
       "Brazil     RonaldoPeleAdemirJairzinhoVavaLeonidasRivaldoC...    228   \n",
       "Germany    Miroslav KloseGerd MullerJurgen KlinsmannThoma...    226   \n",
       "Argentina  Gabriel BatistutaDiego MaradonaGuillermo Stabi...    135   \n",
       "Italy      Roberto BaggioPaolo RossiChristian VieriSalvat...    123   \n",
       "France     Just FontaineThierry HenryMichel PlatiniZinedi...    115   \n",
       "\n",
       "                                                       Years  \n",
       "Country                                                       \n",
       "Brazil     1998-2002-20061958-1962-1966-197019501966-1970...  \n",
       "Germany    2002-2006-2010-20141970-19741990-1994-19982010...  \n",
       "Argentina  1994-1998-20021982-1986-1990-199419301974-1978...  \n",
       "Italy      1990-1994-19981978-19821998-2002199019381982-1...  \n",
       "France     19581998-2002-2006-20101978-1982-19861998-2002...  "
      ]
     },
     "execution_count": 35,
     "metadata": {},
     "output_type": "execute_result"
    }
   ],
   "source": [
    "df.groupby(\"Country\").sum().sort_values(\"Goals\", ascending = False).head(5)"
   ]
  },
  {
   "cell_type": "markdown",
   "id": "668df99c",
   "metadata": {},
   "source": [
    "##### 22. 주어진 전체기간동안 골득점을 한 선수가 가장 많은 나라 상위 5개 국가와 그 선수 숫자를 데이터 프레임 형식으로 출력하라"
   ]
  },
  {
   "cell_type": "code",
   "execution_count": 36,
   "id": "2c766fca",
   "metadata": {},
   "outputs": [
    {
     "data": {
      "text/plain": [
       "Country\n",
       "Brazil       81\n",
       "Germany      78\n",
       "Italy        60\n",
       "Argentina    59\n",
       "France       58\n",
       "dtype: int64"
      ]
     },
     "execution_count": 36,
     "metadata": {},
     "output_type": "execute_result"
    }
   ],
   "source": [
    "df.groupby(\"Country\").size().sort_values(ascending = False).head(5)"
   ]
  },
  {
   "cell_type": "markdown",
   "id": "08678e29",
   "metadata": {},
   "source": [
    "##### 23. Years 컬럼은 년도 -년도 형식으로 구성되어있고, 각 년도는 4자리 숫자이다. 년도 표기가 4자리 숫자로 안된 케이스가 존재한다. 해당 건은 몇건인지 출력하라"
   ]
  },
  {
   "cell_type": "code",
   "execution_count": 37,
   "id": "428f026b",
   "metadata": {},
   "outputs": [
    {
     "data": {
      "text/plain": [
       "45"
      ]
     },
     "execution_count": 37,
     "metadata": {},
     "output_type": "execute_result"
    }
   ],
   "source": [
    "df[\"Year_list\"] = df[\"Years\"].str.split(\"-\")\n",
    "\n",
    "def check_year(year):\n",
    "    for value in year:\n",
    "        if len(str(value)) != 4: return False\n",
    "\n",
    "    return True\n",
    "\n",
    "df[\"check\"] = df[\"Year_list\"].apply(check_year)\n",
    "len(df[df[\"check\"] == False])"
   ]
  },
  {
   "cell_type": "markdown",
   "id": "6a2e2092",
   "metadata": {},
   "source": [
    "##### 24. Q3에서 발생한 예외 케이스를 제외한 데이터프레임을 df2라고 정의하고 데이터의 행의 숫자를 출력하라 (아래 문제부터는 df2로 풀이하겠습니다)"
   ]
  },
  {
   "cell_type": "code",
   "execution_count": 38,
   "id": "17237403",
   "metadata": {},
   "outputs": [
    {
     "data": {
      "text/plain": [
       "1250"
      ]
     },
     "execution_count": 38,
     "metadata": {},
     "output_type": "execute_result"
    }
   ],
   "source": [
    "df2 = df[df[\"check\"] == True].reset_index(drop = True)\n",
    "df2.shape[0]"
   ]
  },
  {
   "cell_type": "markdown",
   "id": "4b74dc6c",
   "metadata": {},
   "source": [
    "##### 25. 월드컵 출전횟수를 나타내는 ‘LenCup’ 컬럼을 추가하고 4회 출전한 선수의 숫자를 구하여라"
   ]
  },
  {
   "cell_type": "code",
   "execution_count": 39,
   "id": "4787953c",
   "metadata": {},
   "outputs": [
    {
     "data": {
      "text/plain": [
       "np.int64(16)"
      ]
     },
     "execution_count": 39,
     "metadata": {},
     "output_type": "execute_result"
    }
   ],
   "source": [
    "df2[\"LenCup\"] = df2[\"Year_list\"].str.len()\n",
    "df2[\"LenCup\"].value_counts()[4] # 값이 4인 행이 몇 개인지 인덱싱"
   ]
  },
  {
   "cell_type": "markdown",
   "id": "588999ec",
   "metadata": {},
   "source": [
    "##### 26. Yugoslavia 국가의 월드컵 출전횟수가 2회인 선수들의 숫자를 구하여라"
   ]
  },
  {
   "cell_type": "code",
   "execution_count": 40,
   "id": "222fa1b8",
   "metadata": {},
   "outputs": [
    {
     "data": {
      "text/plain": [
       "7"
      ]
     },
     "execution_count": 40,
     "metadata": {},
     "output_type": "execute_result"
    }
   ],
   "source": [
    "len(df2[(df2[\"LenCup\"] == 2) & (df2[\"Country\"] == \"Yugoslavia\")])"
   ]
  },
  {
   "cell_type": "markdown",
   "id": "177ccb59",
   "metadata": {},
   "source": [
    "##### 27. 2002년도에 출전한 전체 선수는 몇 명인가?"
   ]
  },
  {
   "cell_type": "code",
   "execution_count": 41,
   "id": "80bbab6a",
   "metadata": {},
   "outputs": [
    {
     "data": {
      "text/plain": [
       "156"
      ]
     },
     "execution_count": 41,
     "metadata": {},
     "output_type": "execute_result"
    }
   ],
   "source": [
    "len(df2[df2[\"Years\"].str.contains(\"2002\")])"
   ]
  },
  {
   "cell_type": "markdown",
   "id": "39e7fd95",
   "metadata": {},
   "source": [
    "##### 28. 이름에 ‘carlos’ 단어가 들어가는 선수의 숫자는 몇 명인가? (대, 소문자 구분 x)"
   ]
  },
  {
   "cell_type": "code",
   "execution_count": 42,
   "id": "6fee24c9",
   "metadata": {},
   "outputs": [
    {
     "data": {
      "text/plain": [
       "13"
      ]
     },
     "execution_count": 42,
     "metadata": {},
     "output_type": "execute_result"
    }
   ],
   "source": [
    "len(df2[df2[\"Player\"].str.lower().str.contains(\"carlos\")])"
   ]
  },
  {
   "cell_type": "markdown",
   "id": "b681ae52",
   "metadata": {},
   "source": [
    "##### 29. 월드컵 출전 횟수가 1회뿐인 선수들 중에서 가장 많은 득점을 올렸던 선수는 누구인가?"
   ]
  },
  {
   "cell_type": "code",
   "execution_count": 43,
   "id": "2f59a20e",
   "metadata": {},
   "outputs": [
    {
     "data": {
      "text/plain": [
       "'Just Fontaine'"
      ]
     },
     "execution_count": 43,
     "metadata": {},
     "output_type": "execute_result"
    }
   ],
   "source": [
    "df2[df2[\"LenCup\"] == 1].sort_values(\"Goals\", ascending = False)[\"Player\"].values[0]"
   ]
  },
  {
   "cell_type": "markdown",
   "id": "daec4f65",
   "metadata": {},
   "source": [
    "##### 30. 월드컵 출전횟수가 1회 뿐인 선수들이 가장 많은 국가는 어디인가?"
   ]
  },
  {
   "cell_type": "code",
   "execution_count": 44,
   "id": "1d8e7418",
   "metadata": {},
   "outputs": [
    {
     "data": {
      "text/plain": [
       "'Brazil'"
      ]
     },
     "execution_count": 44,
     "metadata": {},
     "output_type": "execute_result"
    }
   ],
   "source": [
    "df2[df2[\"LenCup\"] == 1].groupby(\"Country\").size().sort_values(ascending = False).index[0]"
   ]
  },
  {
   "cell_type": "code",
   "execution_count": 45,
   "id": "46271d60",
   "metadata": {},
   "outputs": [
    {
     "data": {
      "text/plain": [
       "'Brazil'"
      ]
     },
     "execution_count": 45,
     "metadata": {},
     "output_type": "execute_result"
    }
   ],
   "source": [
    "df2[df2[\"LenCup\"] == 1][\"Country\"].value_counts().index[0]"
   ]
  },
  {
   "cell_type": "markdown",
   "id": "85c7e120",
   "metadata": {},
   "source": [
    "# 서울시 따릉이 이용정보 데이터\n",
    "데이터 출처 :https://www.data.go.kr/data/15051872/fileData.do(참고, 데이터 수정)  \n",
    "데이터 설명 : 서울특별시_공공자전거 시간대별 이용정보  \n",
    "data url = https://raw.githubusercontent.com/Datamanim/datarepo/main/bicycle/seoul_bi.csv"
   ]
  },
  {
   "cell_type": "code",
   "execution_count": 46,
   "id": "5e387006",
   "metadata": {},
   "outputs": [
    {
     "data": {
      "text/html": [
       "<div>\n",
       "<style scoped>\n",
       "    .dataframe tbody tr th:only-of-type {\n",
       "        vertical-align: middle;\n",
       "    }\n",
       "\n",
       "    .dataframe tbody tr th {\n",
       "        vertical-align: top;\n",
       "    }\n",
       "\n",
       "    .dataframe thead th {\n",
       "        text-align: right;\n",
       "    }\n",
       "</style>\n",
       "<table border=\"1\" class=\"dataframe\">\n",
       "  <thead>\n",
       "    <tr style=\"text-align: right;\">\n",
       "      <th></th>\n",
       "      <th>대여일자</th>\n",
       "      <th>대여시간</th>\n",
       "      <th>대여소번호</th>\n",
       "      <th>대여구분코드</th>\n",
       "      <th>성별</th>\n",
       "      <th>연령대코드</th>\n",
       "      <th>이용건수</th>\n",
       "      <th>운동량</th>\n",
       "      <th>탄소량</th>\n",
       "      <th>이동거리</th>\n",
       "      <th>사용시간</th>\n",
       "    </tr>\n",
       "  </thead>\n",
       "  <tbody>\n",
       "    <tr>\n",
       "      <th>0</th>\n",
       "      <td>2021-06-01</td>\n",
       "      <td>0</td>\n",
       "      <td>3541</td>\n",
       "      <td>정기권</td>\n",
       "      <td>F</td>\n",
       "      <td>~10대</td>\n",
       "      <td>1</td>\n",
       "      <td>0.00</td>\n",
       "      <td>0.00</td>\n",
       "      <td>0.00</td>\n",
       "      <td>8</td>\n",
       "    </tr>\n",
       "    <tr>\n",
       "      <th>1</th>\n",
       "      <td>2021-06-01</td>\n",
       "      <td>0</td>\n",
       "      <td>765</td>\n",
       "      <td>정기권</td>\n",
       "      <td>F</td>\n",
       "      <td>~10대</td>\n",
       "      <td>1</td>\n",
       "      <td>27.21</td>\n",
       "      <td>0.35</td>\n",
       "      <td>1526.81</td>\n",
       "      <td>19</td>\n",
       "    </tr>\n",
       "    <tr>\n",
       "      <th>2</th>\n",
       "      <td>2021-06-01</td>\n",
       "      <td>0</td>\n",
       "      <td>2637</td>\n",
       "      <td>정기권</td>\n",
       "      <td>F</td>\n",
       "      <td>~10대</td>\n",
       "      <td>1</td>\n",
       "      <td>41.40</td>\n",
       "      <td>0.37</td>\n",
       "      <td>1608.56</td>\n",
       "      <td>18</td>\n",
       "    </tr>\n",
       "    <tr>\n",
       "      <th>3</th>\n",
       "      <td>2021-06-01</td>\n",
       "      <td>0</td>\n",
       "      <td>2919</td>\n",
       "      <td>정기권</td>\n",
       "      <td>F</td>\n",
       "      <td>~10대</td>\n",
       "      <td>1</td>\n",
       "      <td>0.00</td>\n",
       "      <td>0.00</td>\n",
       "      <td>0.00</td>\n",
       "      <td>75</td>\n",
       "    </tr>\n",
       "    <tr>\n",
       "      <th>4</th>\n",
       "      <td>2021-06-01</td>\n",
       "      <td>0</td>\n",
       "      <td>549</td>\n",
       "      <td>정기권</td>\n",
       "      <td>F</td>\n",
       "      <td>~10대</td>\n",
       "      <td>1</td>\n",
       "      <td>13.04</td>\n",
       "      <td>0.17</td>\n",
       "      <td>731.55</td>\n",
       "      <td>6</td>\n",
       "    </tr>\n",
       "  </tbody>\n",
       "</table>\n",
       "</div>"
      ],
      "text/plain": [
       "         대여일자  대여시간  대여소번호 대여구분코드 성별 연령대코드  이용건수    운동량   탄소량     이동거리  사용시간\n",
       "0  2021-06-01     0   3541    정기권  F  ~10대     1   0.00  0.00     0.00     8\n",
       "1  2021-06-01     0    765    정기권  F  ~10대     1  27.21  0.35  1526.81    19\n",
       "2  2021-06-01     0   2637    정기권  F  ~10대     1  41.40  0.37  1608.56    18\n",
       "3  2021-06-01     0   2919    정기권  F  ~10대     1   0.00  0.00     0.00    75\n",
       "4  2021-06-01     0    549    정기권  F  ~10대     1  13.04  0.17   731.55     6"
      ]
     },
     "execution_count": 46,
     "metadata": {},
     "output_type": "execute_result"
    }
   ],
   "source": [
    "df = pd.read_csv(\"https://raw.githubusercontent.com/Datamanim/datarepo/main/bicycle/seoul_bi.csv\")\n",
    "df.head()"
   ]
  },
  {
   "cell_type": "markdown",
   "id": "da075c4b",
   "metadata": {},
   "source": [
    "##### 31. 대여일자별 데이터의 수를 데이터프레임으로 출력하고, 가장 많은 데이터가 있는 날짜를 출력하라"
   ]
  },
  {
   "cell_type": "code",
   "execution_count": 47,
   "id": "c7daa481",
   "metadata": {},
   "outputs": [
    {
     "data": {
      "text/html": [
       "<div>\n",
       "<style scoped>\n",
       "    .dataframe tbody tr th:only-of-type {\n",
       "        vertical-align: middle;\n",
       "    }\n",
       "\n",
       "    .dataframe tbody tr th {\n",
       "        vertical-align: top;\n",
       "    }\n",
       "\n",
       "    .dataframe thead th {\n",
       "        text-align: right;\n",
       "    }\n",
       "</style>\n",
       "<table border=\"1\" class=\"dataframe\">\n",
       "  <thead>\n",
       "    <tr style=\"text-align: right;\">\n",
       "      <th></th>\n",
       "      <th>count</th>\n",
       "    </tr>\n",
       "    <tr>\n",
       "      <th>대여일자</th>\n",
       "      <th></th>\n",
       "    </tr>\n",
       "  </thead>\n",
       "  <tbody>\n",
       "    <tr>\n",
       "      <th>2021-06-01</th>\n",
       "      <td>48081</td>\n",
       "    </tr>\n",
       "    <tr>\n",
       "      <th>2021-06-02</th>\n",
       "      <td>56100</td>\n",
       "    </tr>\n",
       "    <tr>\n",
       "      <th>2021-06-03</th>\n",
       "      <td>18985</td>\n",
       "    </tr>\n",
       "    <tr>\n",
       "      <th>2021-06-04</th>\n",
       "      <td>56788</td>\n",
       "    </tr>\n",
       "    <tr>\n",
       "      <th>2021-06-05</th>\n",
       "      <td>52730</td>\n",
       "    </tr>\n",
       "    <tr>\n",
       "      <th>2021-06-06</th>\n",
       "      <td>47787</td>\n",
       "    </tr>\n",
       "    <tr>\n",
       "      <th>2021-06-07</th>\n",
       "      <td>52623</td>\n",
       "    </tr>\n",
       "    <tr>\n",
       "      <th>2021-06-08</th>\n",
       "      <td>55623</td>\n",
       "    </tr>\n",
       "    <tr>\n",
       "      <th>2021-06-09</th>\n",
       "      <td>54507</td>\n",
       "    </tr>\n",
       "    <tr>\n",
       "      <th>2021-06-10</th>\n",
       "      <td>36992</td>\n",
       "    </tr>\n",
       "    <tr>\n",
       "      <th>2021-06-11</th>\n",
       "      <td>52089</td>\n",
       "    </tr>\n",
       "    <tr>\n",
       "      <th>2021-06-12</th>\n",
       "      <td>48569</td>\n",
       "    </tr>\n",
       "    <tr>\n",
       "      <th>2021-06-13</th>\n",
       "      <td>43131</td>\n",
       "    </tr>\n",
       "    <tr>\n",
       "      <th>2021-06-14</th>\n",
       "      <td>54945</td>\n",
       "    </tr>\n",
       "  </tbody>\n",
       "</table>\n",
       "</div>"
      ],
      "text/plain": [
       "            count\n",
       "대여일자             \n",
       "2021-06-01  48081\n",
       "2021-06-02  56100\n",
       "2021-06-03  18985\n",
       "2021-06-04  56788\n",
       "2021-06-05  52730\n",
       "2021-06-06  47787\n",
       "2021-06-07  52623\n",
       "2021-06-08  55623\n",
       "2021-06-09  54507\n",
       "2021-06-10  36992\n",
       "2021-06-11  52089\n",
       "2021-06-12  48569\n",
       "2021-06-13  43131\n",
       "2021-06-14  54945"
      ]
     },
     "metadata": {},
     "output_type": "display_data"
    },
    {
     "name": "stdout",
     "output_type": "stream",
     "text": [
      "2021-06-04\n"
     ]
    }
   ],
   "source": [
    "res = df[\"대여일자\"].value_counts().sort_index().to_frame()\n",
    "ans = res.sort_values(\"count\", ascending = False).index[0]\n",
    "\n",
    "display(res)\n",
    "print(ans)"
   ]
  },
  {
   "cell_type": "markdown",
   "id": "41bc8cb0",
   "metadata": {},
   "source": [
    "##### 32. 각 일자의 요일을 표기하고 (‘Monday’ ~’Sunday’) ‘day_name’컬럼을 추가하고 이를 이용하여 각 요일별 이용 횟수의 총합을 데이터 프레임으로 출력하라"
   ]
  },
  {
   "cell_type": "code",
   "execution_count": 48,
   "id": "45d50638",
   "metadata": {},
   "outputs": [
    {
     "data": {
      "text/html": [
       "<div>\n",
       "<style scoped>\n",
       "    .dataframe tbody tr th:only-of-type {\n",
       "        vertical-align: middle;\n",
       "    }\n",
       "\n",
       "    .dataframe tbody tr th {\n",
       "        vertical-align: top;\n",
       "    }\n",
       "\n",
       "    .dataframe thead th {\n",
       "        text-align: right;\n",
       "    }\n",
       "</style>\n",
       "<table border=\"1\" class=\"dataframe\">\n",
       "  <thead>\n",
       "    <tr style=\"text-align: right;\">\n",
       "      <th></th>\n",
       "      <th>count</th>\n",
       "    </tr>\n",
       "    <tr>\n",
       "      <th>day_name</th>\n",
       "      <th></th>\n",
       "    </tr>\n",
       "  </thead>\n",
       "  <tbody>\n",
       "    <tr>\n",
       "      <th>Wednesday</th>\n",
       "      <td>110607</td>\n",
       "    </tr>\n",
       "    <tr>\n",
       "      <th>Friday</th>\n",
       "      <td>108877</td>\n",
       "    </tr>\n",
       "    <tr>\n",
       "      <th>Monday</th>\n",
       "      <td>107568</td>\n",
       "    </tr>\n",
       "    <tr>\n",
       "      <th>Tuesday</th>\n",
       "      <td>103704</td>\n",
       "    </tr>\n",
       "    <tr>\n",
       "      <th>Saturday</th>\n",
       "      <td>101299</td>\n",
       "    </tr>\n",
       "    <tr>\n",
       "      <th>Sunday</th>\n",
       "      <td>90918</td>\n",
       "    </tr>\n",
       "    <tr>\n",
       "      <th>Thursday</th>\n",
       "      <td>55977</td>\n",
       "    </tr>\n",
       "  </tbody>\n",
       "</table>\n",
       "</div>"
      ],
      "text/plain": [
       "            count\n",
       "day_name         \n",
       "Wednesday  110607\n",
       "Friday     108877\n",
       "Monday     107568\n",
       "Tuesday    103704\n",
       "Saturday   101299\n",
       "Sunday      90918\n",
       "Thursday    55977"
      ]
     },
     "execution_count": 48,
     "metadata": {},
     "output_type": "execute_result"
    }
   ],
   "source": [
    "df[\"대여일자\"] = pd.to_datetime(df[\"대여일자\"])\n",
    "df[\"day_name\"]  = df[\"대여일자\"].dt.day_name()\n",
    "df[\"day_name\"].value_counts().to_frame()"
   ]
  },
  {
   "cell_type": "markdown",
   "id": "380eeb62",
   "metadata": {},
   "source": [
    "##### 33. 각 요일별 가장 많이 이용한 대여소의 이용횟수와 대여소 번호를 데이터 프레임으로 출력하라"
   ]
  },
  {
   "cell_type": "code",
   "execution_count": 49,
   "id": "d567594d",
   "metadata": {},
   "outputs": [
    {
     "data": {
      "text/html": [
       "<div>\n",
       "<style scoped>\n",
       "    .dataframe tbody tr th:only-of-type {\n",
       "        vertical-align: middle;\n",
       "    }\n",
       "\n",
       "    .dataframe tbody tr th {\n",
       "        vertical-align: top;\n",
       "    }\n",
       "\n",
       "    .dataframe thead th {\n",
       "        text-align: right;\n",
       "    }\n",
       "</style>\n",
       "<table border=\"1\" class=\"dataframe\">\n",
       "  <thead>\n",
       "    <tr style=\"text-align: right;\">\n",
       "      <th></th>\n",
       "      <th>day_name</th>\n",
       "      <th>대여소번호</th>\n",
       "      <th>size</th>\n",
       "    </tr>\n",
       "  </thead>\n",
       "  <tbody>\n",
       "    <tr>\n",
       "      <th>0</th>\n",
       "      <td>Wednesday</td>\n",
       "      <td>502</td>\n",
       "      <td>282</td>\n",
       "    </tr>\n",
       "    <tr>\n",
       "      <th>1</th>\n",
       "      <td>Tuesday</td>\n",
       "      <td>502</td>\n",
       "      <td>267</td>\n",
       "    </tr>\n",
       "    <tr>\n",
       "      <th>2</th>\n",
       "      <td>Thursday</td>\n",
       "      <td>2715</td>\n",
       "      <td>137</td>\n",
       "    </tr>\n",
       "    <tr>\n",
       "      <th>3</th>\n",
       "      <td>Sunday</td>\n",
       "      <td>502</td>\n",
       "      <td>372</td>\n",
       "    </tr>\n",
       "    <tr>\n",
       "      <th>4</th>\n",
       "      <td>Saturday</td>\n",
       "      <td>502</td>\n",
       "      <td>378</td>\n",
       "    </tr>\n",
       "    <tr>\n",
       "      <th>5</th>\n",
       "      <td>Monday</td>\n",
       "      <td>502</td>\n",
       "      <td>242</td>\n",
       "    </tr>\n",
       "    <tr>\n",
       "      <th>6</th>\n",
       "      <td>Friday</td>\n",
       "      <td>502</td>\n",
       "      <td>277</td>\n",
       "    </tr>\n",
       "  </tbody>\n",
       "</table>\n",
       "</div>"
      ],
      "text/plain": [
       "    day_name  대여소번호  size\n",
       "0  Wednesday    502   282\n",
       "1    Tuesday    502   267\n",
       "2   Thursday   2715   137\n",
       "3     Sunday    502   372\n",
       "4   Saturday    502   378\n",
       "5     Monday    502   242\n",
       "6     Friday    502   277"
      ]
     },
     "execution_count": 49,
     "metadata": {},
     "output_type": "execute_result"
    }
   ],
   "source": [
    "res = df.groupby([\"day_name\", \"대여소번호\"]).size().to_frame(\"size\").sort_values([\"day_name\", \"size\"], ascending = False).reset_index()\n",
    "res.drop_duplicates(\"day_name\", keep = \"first\").reset_index(drop = True)"
   ]
  },
  {
   "cell_type": "markdown",
   "id": "ea7d8bdc",
   "metadata": {},
   "source": [
    "##### 34. 나이대별 대여구분 코드의 (일일권/전체횟수) 비율을 구한 후 가장 높은 비율을 가지는 나이대를 확인하라. 일일권의 경우 일일권 과 일일권(비회원)을 모두 포함하라"
   ]
  },
  {
   "cell_type": "code",
   "execution_count": 50,
   "id": "36ea310c",
   "metadata": {},
   "outputs": [
    {
     "data": {
      "text/plain": [
       "'~10대'"
      ]
     },
     "execution_count": 50,
     "metadata": {},
     "output_type": "execute_result"
    }
   ],
   "source": [
    "daily = df[df[\"대여구분코드\"].isin([\"일일권\",\"일일권(비회원)\"])][\"연령대코드\"].value_counts().sort_index()\n",
    "total = df[\"연령대코드\"].value_counts().sort_index()\n",
    "\n",
    "(daily / total).sort_values(ascending = False).index[0]"
   ]
  },
  {
   "cell_type": "markdown",
   "id": "65e2ec23",
   "metadata": {},
   "source": [
    "##### 35. 연령대별 평균 이동거리를 구하여라"
   ]
  },
  {
   "cell_type": "code",
   "execution_count": 51,
   "id": "51fb5842",
   "metadata": {},
   "outputs": [
    {
     "data": {
      "text/html": [
       "<div>\n",
       "<style scoped>\n",
       "    .dataframe tbody tr th:only-of-type {\n",
       "        vertical-align: middle;\n",
       "    }\n",
       "\n",
       "    .dataframe tbody tr th {\n",
       "        vertical-align: top;\n",
       "    }\n",
       "\n",
       "    .dataframe thead th {\n",
       "        text-align: right;\n",
       "    }\n",
       "</style>\n",
       "<table border=\"1\" class=\"dataframe\">\n",
       "  <thead>\n",
       "    <tr style=\"text-align: right;\">\n",
       "      <th></th>\n",
       "      <th>이동거리</th>\n",
       "    </tr>\n",
       "    <tr>\n",
       "      <th>연령대코드</th>\n",
       "      <th></th>\n",
       "    </tr>\n",
       "  </thead>\n",
       "  <tbody>\n",
       "    <tr>\n",
       "      <th>20대</th>\n",
       "      <td>3211.890552</td>\n",
       "    </tr>\n",
       "    <tr>\n",
       "      <th>30대</th>\n",
       "      <td>3341.443859</td>\n",
       "    </tr>\n",
       "    <tr>\n",
       "      <th>40대</th>\n",
       "      <td>3514.857416</td>\n",
       "    </tr>\n",
       "    <tr>\n",
       "      <th>50대</th>\n",
       "      <td>3593.668100</td>\n",
       "    </tr>\n",
       "    <tr>\n",
       "      <th>60대</th>\n",
       "      <td>3538.145737</td>\n",
       "    </tr>\n",
       "    <tr>\n",
       "      <th>70대~</th>\n",
       "      <td>3085.039641</td>\n",
       "    </tr>\n",
       "    <tr>\n",
       "      <th>~10대</th>\n",
       "      <td>2634.426279</td>\n",
       "    </tr>\n",
       "  </tbody>\n",
       "</table>\n",
       "</div>"
      ],
      "text/plain": [
       "              이동거리\n",
       "연령대코드             \n",
       "20대    3211.890552\n",
       "30대    3341.443859\n",
       "40대    3514.857416\n",
       "50대    3593.668100\n",
       "60대    3538.145737\n",
       "70대~   3085.039641\n",
       "~10대   2634.426279"
      ]
     },
     "execution_count": 51,
     "metadata": {},
     "output_type": "execute_result"
    }
   ],
   "source": [
    "df[[\"연령대코드\",\"이동거리\"]].groupby([\"연령대코드\"]).mean()"
   ]
  },
  {
   "cell_type": "markdown",
   "id": "46e8c40d",
   "metadata": {},
   "source": [
    "##### 36. 연령대 코드가 20대인 데이터를 추출하고,이동거리값이 추출한 데이터의 이동거리값의 평균 이상인 데이터를 추출한다.최종 추출된 데이터를 대여일자, 대여소 번호 순서로 내림차순 정렬 후 1행부터 200행까지의 탄소량의 평균을 소숫점 3째 자리까지 구하여라"
   ]
  },
  {
   "cell_type": "code",
   "execution_count": 52,
   "id": "bed11360",
   "metadata": {},
   "outputs": [
    {
     "name": "stderr",
     "output_type": "stream",
     "text": [
      "C:\\Users\\cho03\\AppData\\Local\\Temp\\ipykernel_31996\\379943478.py:3: SettingWithCopyWarning: \n",
      "A value is trying to be set on a copy of a slice from a DataFrame.\n",
      "Try using .loc[row_indexer,col_indexer] = value instead\n",
      "\n",
      "See the caveats in the documentation: https://pandas.pydata.org/pandas-docs/stable/user_guide/indexing.html#returning-a-view-versus-a-copy\n",
      "  res[\"탄소량\"] = res[\"탄소량\"].astype(\"float\")\n"
     ]
    },
    {
     "data": {
      "text/plain": [
       "np.float64(1.613)"
      ]
     },
     "execution_count": 52,
     "metadata": {},
     "output_type": "execute_result"
    }
   ],
   "source": [
    "df2 = df[df[\"연령대코드\"] == \"20대\"]\n",
    "res = df2[df2[\"이동거리\"] >= df2[\"이동거리\"].mean()]\n",
    "res[\"탄소량\"] = res[\"탄소량\"].astype(\"float\")\n",
    "res = res.sort_values([\"대여일자\", \"대여소번호\"], ascending = False).iloc[0:200][\"탄소량\"]\n",
    "round(res.sum() / len(res), 3)"
   ]
  },
  {
   "cell_type": "markdown",
   "id": "b765b7fb",
   "metadata": {},
   "source": [
    "##### 37. 6월 7일 ~10대의 “이용건수”의 중앙값은?"
   ]
  },
  {
   "cell_type": "code",
   "execution_count": 53,
   "id": "f7152535",
   "metadata": {},
   "outputs": [
    {
     "data": {
      "text/plain": [
       "np.float64(1.0)"
      ]
     },
     "execution_count": 53,
     "metadata": {},
     "output_type": "execute_result"
    }
   ],
   "source": [
    "df[\"대여일자\"] = pd.to_datetime(df[\"대여일자\"])\n",
    "df[(df[\"연령대코드\"] == \"~10대\") & (df[\"대여일자\"] == pd.to_datetime(\"2021-06-07\"))][\"이용건수\"].median()"
   ]
  },
  {
   "cell_type": "markdown",
   "id": "fd28d5ac",
   "metadata": {},
   "source": [
    "##### 38. 평일 (월~금) 출근 시간대(오전 6,7,8시)의 대여소별 이용 횟수를 구해서 데이터 프레임 형태로 표현한 후 각 대여시간별 이용 횟수의 상위 3개 대여소와 이용횟수를 출력하라"
   ]
  },
  {
   "cell_type": "code",
   "execution_count": 54,
   "id": "599ef618",
   "metadata": {},
   "outputs": [
    {
     "data": {
      "text/html": [
       "<div>\n",
       "<style scoped>\n",
       "    .dataframe tbody tr th:only-of-type {\n",
       "        vertical-align: middle;\n",
       "    }\n",
       "\n",
       "    .dataframe tbody tr th {\n",
       "        vertical-align: top;\n",
       "    }\n",
       "\n",
       "    .dataframe thead th {\n",
       "        text-align: right;\n",
       "    }\n",
       "</style>\n",
       "<table border=\"1\" class=\"dataframe\">\n",
       "  <thead>\n",
       "    <tr style=\"text-align: right;\">\n",
       "      <th></th>\n",
       "      <th></th>\n",
       "      <th>이용 횟수</th>\n",
       "    </tr>\n",
       "    <tr>\n",
       "      <th>대여시간</th>\n",
       "      <th>대여소번호</th>\n",
       "      <th></th>\n",
       "    </tr>\n",
       "  </thead>\n",
       "  <tbody>\n",
       "    <tr>\n",
       "      <th rowspan=\"3\" valign=\"top\">8</th>\n",
       "      <th>2701</th>\n",
       "      <td>119</td>\n",
       "    </tr>\n",
       "    <tr>\n",
       "      <th>646</th>\n",
       "      <td>115</td>\n",
       "    </tr>\n",
       "    <tr>\n",
       "      <th>1152</th>\n",
       "      <td>92</td>\n",
       "    </tr>\n",
       "    <tr>\n",
       "      <th rowspan=\"3\" valign=\"top\">7</th>\n",
       "      <th>259</th>\n",
       "      <td>104</td>\n",
       "    </tr>\n",
       "    <tr>\n",
       "      <th>230</th>\n",
       "      <td>77</td>\n",
       "    </tr>\n",
       "    <tr>\n",
       "      <th>726</th>\n",
       "      <td>77</td>\n",
       "    </tr>\n",
       "    <tr>\n",
       "      <th rowspan=\"3\" valign=\"top\">6</th>\n",
       "      <th>2744</th>\n",
       "      <td>45</td>\n",
       "    </tr>\n",
       "    <tr>\n",
       "      <th>1125</th>\n",
       "      <td>40</td>\n",
       "    </tr>\n",
       "    <tr>\n",
       "      <th>1028</th>\n",
       "      <td>36</td>\n",
       "    </tr>\n",
       "  </tbody>\n",
       "</table>\n",
       "</div>"
      ],
      "text/plain": [
       "            이용 횟수\n",
       "대여시간 대여소번호       \n",
       "8    2701     119\n",
       "     646      115\n",
       "     1152      92\n",
       "7    259      104\n",
       "     230       77\n",
       "     726       77\n",
       "6    2744      45\n",
       "     1125      40\n",
       "     1028      36"
      ]
     },
     "execution_count": 54,
     "metadata": {},
     "output_type": "execute_result"
    }
   ],
   "source": [
    "df2 = df[(df[\"day_name\"].isin([\"Tuesday\", \"Wednesday\", \"Thursday\", \"Friday\",\"Monday\"])) & (df[\"대여시간\"].isin([6, 7, 8]))].reset_index()\n",
    "res = df2.groupby([\"대여시간\", \"대여소번호\"]).size().to_frame(\"이용 횟수\")\n",
    "res.sort_values([\"대여시간\", \"이용 횟수\"], ascending = False).groupby(\"대여시간\").head(3)"
   ]
  },
  {
   "cell_type": "markdown",
   "id": "a8383c7e",
   "metadata": {},
   "source": [
    "##### 39. 이동거리의 평균 이상의 이동거리 값을 가지는 데이터를 추출하여 추출데이터의 이동거리의 표본표준편차 값을 구하여라"
   ]
  },
  {
   "cell_type": "code",
   "execution_count": 55,
   "id": "9516802d",
   "metadata": {},
   "outputs": [
    {
     "data": {
      "text/plain": [
       "np.float64(5092.1397075053565)"
      ]
     },
     "execution_count": 55,
     "metadata": {},
     "output_type": "execute_result"
    }
   ],
   "source": [
    "res = df[df[\"이동거리\"] >= df[\"이동거리\"].mean()]\n",
    "res[\"이동거리\"].std()"
   ]
  },
  {
   "cell_type": "markdown",
   "id": "b136b414",
   "metadata": {},
   "source": [
    "##### 40. 남성(‘M’ or ‘m’)과 여성(‘F’ or ‘f’)의 이동거리값의 평균값을 구하여라"
   ]
  },
  {
   "cell_type": "code",
   "execution_count": 56,
   "id": "7209a8aa",
   "metadata": {},
   "outputs": [
    {
     "data": {
      "text/html": [
       "<div>\n",
       "<style scoped>\n",
       "    .dataframe tbody tr th:only-of-type {\n",
       "        vertical-align: middle;\n",
       "    }\n",
       "\n",
       "    .dataframe tbody tr th {\n",
       "        vertical-align: top;\n",
       "    }\n",
       "\n",
       "    .dataframe thead th {\n",
       "        text-align: right;\n",
       "    }\n",
       "</style>\n",
       "<table border=\"1\" class=\"dataframe\">\n",
       "  <thead>\n",
       "    <tr style=\"text-align: right;\">\n",
       "      <th></th>\n",
       "      <th>이동거리</th>\n",
       "    </tr>\n",
       "    <tr>\n",
       "      <th>sex</th>\n",
       "      <th></th>\n",
       "    </tr>\n",
       "  </thead>\n",
       "  <tbody>\n",
       "    <tr>\n",
       "      <th>남</th>\n",
       "      <td>3209.110871</td>\n",
       "    </tr>\n",
       "    <tr>\n",
       "      <th>여</th>\n",
       "      <td>3468.575025</td>\n",
       "    </tr>\n",
       "  </tbody>\n",
       "</table>\n",
       "</div>"
      ],
      "text/plain": [
       "            이동거리\n",
       "sex             \n",
       "남    3209.110871\n",
       "여    3468.575025"
      ]
     },
     "execution_count": 56,
     "metadata": {},
     "output_type": "execute_result"
    }
   ],
   "source": [
    "df['sex'] = df['성별'].map(lambda x: '남' if x in ['M','m'] else '여')\n",
    "df[[\"sex\", \"이동거리\"]].groupby(\"sex\").mean()"
   ]
  },
  {
   "cell_type": "markdown",
   "id": "998a6e1a",
   "metadata": {},
   "source": [
    "# 전세계 행복도 지표 데이터\n",
    "데이터 출처 :https://www.kaggle.com/unsdsn/world-happiness(참고, 데이터 수정)  \n",
    "데이터 설명 : 전세계 행복도 지표 조사  \n",
    "data url = https://raw.githubusercontent.com/Datamanim/datarepo/main/happy2/happiness.csv"
   ]
  },
  {
   "cell_type": "code",
   "execution_count": 57,
   "id": "988e9532",
   "metadata": {},
   "outputs": [
    {
     "data": {
      "text/html": [
       "<div>\n",
       "<style scoped>\n",
       "    .dataframe tbody tr th:only-of-type {\n",
       "        vertical-align: middle;\n",
       "    }\n",
       "\n",
       "    .dataframe tbody tr th {\n",
       "        vertical-align: top;\n",
       "    }\n",
       "\n",
       "    .dataframe thead th {\n",
       "        text-align: right;\n",
       "    }\n",
       "</style>\n",
       "<table border=\"1\" class=\"dataframe\">\n",
       "  <thead>\n",
       "    <tr style=\"text-align: right;\">\n",
       "      <th></th>\n",
       "      <th>행복랭킹</th>\n",
       "      <th>나라명</th>\n",
       "      <th>점수</th>\n",
       "      <th>상대GDP</th>\n",
       "      <th>사회적지원</th>\n",
       "      <th>행복기대치</th>\n",
       "      <th>선택의 자유도</th>\n",
       "      <th>관대함</th>\n",
       "      <th>부패에 대한인식</th>\n",
       "      <th>년도</th>\n",
       "    </tr>\n",
       "  </thead>\n",
       "  <tbody>\n",
       "    <tr>\n",
       "      <th>0</th>\n",
       "      <td>1</td>\n",
       "      <td>Finland</td>\n",
       "      <td>7.769</td>\n",
       "      <td>1.340</td>\n",
       "      <td>1.587</td>\n",
       "      <td>0.986</td>\n",
       "      <td>0.596</td>\n",
       "      <td>0.153</td>\n",
       "      <td>0.393</td>\n",
       "      <td>2019</td>\n",
       "    </tr>\n",
       "    <tr>\n",
       "      <th>1</th>\n",
       "      <td>2</td>\n",
       "      <td>Denmark</td>\n",
       "      <td>7.600</td>\n",
       "      <td>1.383</td>\n",
       "      <td>1.573</td>\n",
       "      <td>0.996</td>\n",
       "      <td>0.592</td>\n",
       "      <td>0.252</td>\n",
       "      <td>0.410</td>\n",
       "      <td>2019</td>\n",
       "    </tr>\n",
       "    <tr>\n",
       "      <th>2</th>\n",
       "      <td>3</td>\n",
       "      <td>Norway</td>\n",
       "      <td>7.554</td>\n",
       "      <td>1.488</td>\n",
       "      <td>1.582</td>\n",
       "      <td>1.028</td>\n",
       "      <td>0.603</td>\n",
       "      <td>0.271</td>\n",
       "      <td>0.341</td>\n",
       "      <td>2019</td>\n",
       "    </tr>\n",
       "    <tr>\n",
       "      <th>3</th>\n",
       "      <td>4</td>\n",
       "      <td>Iceland</td>\n",
       "      <td>7.494</td>\n",
       "      <td>1.380</td>\n",
       "      <td>1.624</td>\n",
       "      <td>1.026</td>\n",
       "      <td>0.591</td>\n",
       "      <td>0.354</td>\n",
       "      <td>0.118</td>\n",
       "      <td>2019</td>\n",
       "    </tr>\n",
       "    <tr>\n",
       "      <th>4</th>\n",
       "      <td>5</td>\n",
       "      <td>Netherlands</td>\n",
       "      <td>7.488</td>\n",
       "      <td>1.396</td>\n",
       "      <td>1.522</td>\n",
       "      <td>0.999</td>\n",
       "      <td>0.557</td>\n",
       "      <td>0.322</td>\n",
       "      <td>0.298</td>\n",
       "      <td>2019</td>\n",
       "    </tr>\n",
       "    <tr>\n",
       "      <th>...</th>\n",
       "      <td>...</td>\n",
       "      <td>...</td>\n",
       "      <td>...</td>\n",
       "      <td>...</td>\n",
       "      <td>...</td>\n",
       "      <td>...</td>\n",
       "      <td>...</td>\n",
       "      <td>...</td>\n",
       "      <td>...</td>\n",
       "      <td>...</td>\n",
       "    </tr>\n",
       "    <tr>\n",
       "      <th>307</th>\n",
       "      <td>152</td>\n",
       "      <td>Yemen</td>\n",
       "      <td>3.355</td>\n",
       "      <td>0.442</td>\n",
       "      <td>1.073</td>\n",
       "      <td>0.343</td>\n",
       "      <td>0.244</td>\n",
       "      <td>0.083</td>\n",
       "      <td>0.064</td>\n",
       "      <td>2018</td>\n",
       "    </tr>\n",
       "    <tr>\n",
       "      <th>308</th>\n",
       "      <td>153</td>\n",
       "      <td>Tanzania</td>\n",
       "      <td>3.303</td>\n",
       "      <td>0.455</td>\n",
       "      <td>0.991</td>\n",
       "      <td>0.381</td>\n",
       "      <td>0.481</td>\n",
       "      <td>0.270</td>\n",
       "      <td>0.097</td>\n",
       "      <td>2018</td>\n",
       "    </tr>\n",
       "    <tr>\n",
       "      <th>309</th>\n",
       "      <td>154</td>\n",
       "      <td>South Sudan</td>\n",
       "      <td>3.254</td>\n",
       "      <td>0.337</td>\n",
       "      <td>0.608</td>\n",
       "      <td>0.177</td>\n",
       "      <td>0.112</td>\n",
       "      <td>0.224</td>\n",
       "      <td>0.106</td>\n",
       "      <td>2018</td>\n",
       "    </tr>\n",
       "    <tr>\n",
       "      <th>310</th>\n",
       "      <td>155</td>\n",
       "      <td>Central African Republic</td>\n",
       "      <td>3.083</td>\n",
       "      <td>0.024</td>\n",
       "      <td>0.000</td>\n",
       "      <td>0.010</td>\n",
       "      <td>0.305</td>\n",
       "      <td>0.218</td>\n",
       "      <td>0.038</td>\n",
       "      <td>2018</td>\n",
       "    </tr>\n",
       "    <tr>\n",
       "      <th>311</th>\n",
       "      <td>156</td>\n",
       "      <td>Burundi</td>\n",
       "      <td>2.905</td>\n",
       "      <td>0.091</td>\n",
       "      <td>0.627</td>\n",
       "      <td>0.145</td>\n",
       "      <td>0.065</td>\n",
       "      <td>0.149</td>\n",
       "      <td>0.076</td>\n",
       "      <td>2018</td>\n",
       "    </tr>\n",
       "  </tbody>\n",
       "</table>\n",
       "<p>312 rows × 10 columns</p>\n",
       "</div>"
      ],
      "text/plain": [
       "     행복랭킹                       나라명     점수  상대GDP  사회적지원  행복기대치  선택의 자유도  \\\n",
       "0       1                   Finland  7.769  1.340  1.587  0.986    0.596   \n",
       "1       2                   Denmark  7.600  1.383  1.573  0.996    0.592   \n",
       "2       3                    Norway  7.554  1.488  1.582  1.028    0.603   \n",
       "3       4                   Iceland  7.494  1.380  1.624  1.026    0.591   \n",
       "4       5               Netherlands  7.488  1.396  1.522  0.999    0.557   \n",
       "..    ...                       ...    ...    ...    ...    ...      ...   \n",
       "307   152                     Yemen  3.355  0.442  1.073  0.343    0.244   \n",
       "308   153                  Tanzania  3.303  0.455  0.991  0.381    0.481   \n",
       "309   154               South Sudan  3.254  0.337  0.608  0.177    0.112   \n",
       "310   155  Central African Republic  3.083  0.024  0.000  0.010    0.305   \n",
       "311   156                   Burundi  2.905  0.091  0.627  0.145    0.065   \n",
       "\n",
       "       관대함  부패에 대한인식    년도  \n",
       "0    0.153     0.393  2019  \n",
       "1    0.252     0.410  2019  \n",
       "2    0.271     0.341  2019  \n",
       "3    0.354     0.118  2019  \n",
       "4    0.322     0.298  2019  \n",
       "..     ...       ...   ...  \n",
       "307  0.083     0.064  2018  \n",
       "308  0.270     0.097  2018  \n",
       "309  0.224     0.106  2018  \n",
       "310  0.218     0.038  2018  \n",
       "311  0.149     0.076  2018  \n",
       "\n",
       "[312 rows x 10 columns]"
      ]
     },
     "execution_count": 57,
     "metadata": {},
     "output_type": "execute_result"
    }
   ],
   "source": [
    "df = pd.read_csv(\"https://raw.githubusercontent.com/Datamanim/datarepo/main/happy2/happiness.csv\", encoding = \"utf-8\")\n",
    "df"
   ]
  },
  {
   "cell_type": "markdown",
   "id": "4b50e822",
   "metadata": {},
   "source": [
    "##### 41. 데이터는 2018년도와 2019년도의 전세계 행복 지수를 표현한다. 각년도의 행복랭킹 10위를 차지한 나라의 행복점수의 평균을 구하여라"
   ]
  },
  {
   "cell_type": "code",
   "execution_count": 58,
   "id": "8e981490",
   "metadata": {},
   "outputs": [
    {
     "data": {
      "text/plain": [
       "np.float64(7.259)"
      ]
     },
     "execution_count": 58,
     "metadata": {},
     "output_type": "execute_result"
    }
   ],
   "source": [
    "df[df[\"행복랭킹\"] == 10][\"점수\"].mean()"
   ]
  },
  {
   "cell_type": "markdown",
   "id": "576eaacd",
   "metadata": {},
   "source": [
    "##### 42. 데이터는 2018년도와 2019년도의 전세계 행복 지수를 표현한다. 각년도의 행복랭킹 50위이내의 나라들의 각각의 행복점수 평균을 데이터프레임으로 표시하라"
   ]
  },
  {
   "cell_type": "code",
   "execution_count": 59,
   "id": "8163b477",
   "metadata": {},
   "outputs": [
    {
     "data": {
      "text/html": [
       "<div>\n",
       "<style scoped>\n",
       "    .dataframe tbody tr th:only-of-type {\n",
       "        vertical-align: middle;\n",
       "    }\n",
       "\n",
       "    .dataframe tbody tr th {\n",
       "        vertical-align: top;\n",
       "    }\n",
       "\n",
       "    .dataframe thead th {\n",
       "        text-align: right;\n",
       "    }\n",
       "</style>\n",
       "<table border=\"1\" class=\"dataframe\">\n",
       "  <thead>\n",
       "    <tr style=\"text-align: right;\">\n",
       "      <th></th>\n",
       "      <th>점수</th>\n",
       "    </tr>\n",
       "    <tr>\n",
       "      <th>년도</th>\n",
       "      <th></th>\n",
       "    </tr>\n",
       "  </thead>\n",
       "  <tbody>\n",
       "    <tr>\n",
       "      <th>2018</th>\n",
       "      <td>6.64678</td>\n",
       "    </tr>\n",
       "    <tr>\n",
       "      <th>2019</th>\n",
       "      <td>6.67002</td>\n",
       "    </tr>\n",
       "  </tbody>\n",
       "</table>\n",
       "</div>"
      ],
      "text/plain": [
       "           점수\n",
       "년도           \n",
       "2018  6.64678\n",
       "2019  6.67002"
      ]
     },
     "execution_count": 59,
     "metadata": {},
     "output_type": "execute_result"
    }
   ],
   "source": [
    "df[df[\"행복랭킹\"] <= 50][[\"년도\", \"점수\"]].groupby(\"년도\").mean()"
   ]
  },
  {
   "cell_type": "markdown",
   "id": "39186930",
   "metadata": {},
   "source": [
    "##### 43. 2018년도 데이터들만 추출하여 행복점수와 부패에 대한 인식에 대한 상관계수를 구하여라"
   ]
  },
  {
   "cell_type": "code",
   "execution_count": 60,
   "id": "7dd45aa5",
   "metadata": {},
   "outputs": [
    {
     "data": {
      "text/plain": [
       "np.float64(0.40529152271510027)"
      ]
     },
     "execution_count": 60,
     "metadata": {},
     "output_type": "execute_result"
    }
   ],
   "source": [
    "df[df[\"년도\"] == 2018][[\"점수\", \"부패에 대한인식\"]].corr().iloc[0,1]"
   ]
  },
  {
   "cell_type": "markdown",
   "id": "b843098e",
   "metadata": {},
   "source": [
    "##### 44. 2018년도와 2019년도의 행복랭킹이 변화하지 않은 나라명의 수를 구하여라"
   ]
  },
  {
   "cell_type": "code",
   "execution_count": 61,
   "id": "1712dfaf",
   "metadata": {},
   "outputs": [
    {
     "data": {
      "text/plain": [
       "15"
      ]
     },
     "execution_count": 61,
     "metadata": {},
     "output_type": "execute_result"
    }
   ],
   "source": [
    "len(df[[\"행복랭킹\", \"나라명\"]]) - len(df[[\"행복랭킹\", \"나라명\"]].drop_duplicates())"
   ]
  },
  {
   "cell_type": "markdown",
   "id": "c237a88c",
   "metadata": {},
   "source": [
    "##### 45. ❌ 2019년도 데이터들만 추출하여 각변수간 상관계수를 구하고 내림차순으로 정렬한 후 상위 5개를 데이터 프레임으로 출력하라. 컬럼명은 v1,v2,corr으로 표시하라"
   ]
  },
  {
   "cell_type": "code",
   "execution_count": 62,
   "id": "69b2d64a",
   "metadata": {},
   "outputs": [
    {
     "data": {
      "text/plain": [
       "행복랭킹      행복랭킹        1.000000\n",
       "          점수         -0.990325\n",
       "          상대GDP      -0.803757\n",
       "          사회적지원      -0.752372\n",
       "          행복기대치      -0.757395\n",
       "                        ...   \n",
       "부패에 대한인식  사회적지원       0.200387\n",
       "          행복기대치       0.293732\n",
       "          선택의 자유도     0.443004\n",
       "          관대함         0.344607\n",
       "          부패에 대한인식    1.000000\n",
       "Length: 64, dtype: float64"
      ]
     },
     "execution_count": 62,
     "metadata": {},
     "output_type": "execute_result"
    }
   ],
   "source": [
    "df[[\"행복랭킹\", \"점수\", \"상대GDP\", \"사회적지원\", \"행복기대치\", \"선택의 자유도\", \"관대함\", \"부패에 대한인식\"]].corr().unstack()"
   ]
  },
  {
   "cell_type": "code",
   "execution_count": 63,
   "id": "f10bcf60",
   "metadata": {},
   "outputs": [
    {
     "data": {
      "text/html": [
       "<div>\n",
       "<style scoped>\n",
       "    .dataframe tbody tr th:only-of-type {\n",
       "        vertical-align: middle;\n",
       "    }\n",
       "\n",
       "    .dataframe tbody tr th {\n",
       "        vertical-align: top;\n",
       "    }\n",
       "\n",
       "    .dataframe thead th {\n",
       "        text-align: right;\n",
       "    }\n",
       "</style>\n",
       "<table border=\"1\" class=\"dataframe\">\n",
       "  <thead>\n",
       "    <tr style=\"text-align: right;\">\n",
       "      <th></th>\n",
       "      <th>v1</th>\n",
       "      <th>v2</th>\n",
       "      <th>corr</th>\n",
       "    </tr>\n",
       "  </thead>\n",
       "  <tbody>\n",
       "    <tr>\n",
       "      <th>0</th>\n",
       "      <td>상대GDP</td>\n",
       "      <td>행복기대치</td>\n",
       "      <td>0.835462</td>\n",
       "    </tr>\n",
       "    <tr>\n",
       "      <th>1</th>\n",
       "      <td>상대GDP</td>\n",
       "      <td>점수</td>\n",
       "      <td>0.793883</td>\n",
       "    </tr>\n",
       "    <tr>\n",
       "      <th>2</th>\n",
       "      <td>행복기대치</td>\n",
       "      <td>점수</td>\n",
       "      <td>0.779883</td>\n",
       "    </tr>\n",
       "    <tr>\n",
       "      <th>3</th>\n",
       "      <td>점수</td>\n",
       "      <td>사회적지원</td>\n",
       "      <td>0.777058</td>\n",
       "    </tr>\n",
       "    <tr>\n",
       "      <th>4</th>\n",
       "      <td>사회적지원</td>\n",
       "      <td>상대GDP</td>\n",
       "      <td>0.754906</td>\n",
       "    </tr>\n",
       "  </tbody>\n",
       "</table>\n",
       "</div>"
      ],
      "text/plain": [
       "      v1     v2      corr\n",
       "0  상대GDP  행복기대치  0.835462\n",
       "1  상대GDP     점수  0.793883\n",
       "2  행복기대치     점수  0.779883\n",
       "3     점수  사회적지원  0.777058\n",
       "4  사회적지원  상대GDP  0.754906"
      ]
     },
     "execution_count": 63,
     "metadata": {},
     "output_type": "execute_result"
    }
   ],
   "source": [
    "target = df[df[\"년도\"] == 2019]\n",
    "res = target[[\"행복랭킹\", \"점수\", \"상대GDP\", \"사회적지원\", \"행복기대치\", \"선택의 자유도\", \"관대함\", \"부패에 대한인식\"]].corr().unstack().reset_index().dropna()\n",
    "res = res[res[0] != 1].sort_values(0, ascending = False).drop_duplicates(0)\n",
    "ans = res.head(5).reset_index(drop = True)\n",
    "ans.columns = [\"v1\", \"v2\", \"corr\"]\n",
    "ans"
   ]
  },
  {
   "cell_type": "markdown",
   "id": "7b440129",
   "metadata": {},
   "source": [
    "##### 46. ❌ 각 년도별 하위 행복점수의 하위 5개 국가의 평균 행복점수를 구하여라"
   ]
  },
  {
   "cell_type": "code",
   "execution_count": 64,
   "id": "92ab9cc0",
   "metadata": {},
   "outputs": [
    {
     "data": {
      "text/html": [
       "<div>\n",
       "<style scoped>\n",
       "    .dataframe tbody tr th:only-of-type {\n",
       "        vertical-align: middle;\n",
       "    }\n",
       "\n",
       "    .dataframe tbody tr th {\n",
       "        vertical-align: top;\n",
       "    }\n",
       "\n",
       "    .dataframe thead th {\n",
       "        text-align: right;\n",
       "    }\n",
       "</style>\n",
       "<table border=\"1\" class=\"dataframe\">\n",
       "  <thead>\n",
       "    <tr style=\"text-align: right;\">\n",
       "      <th></th>\n",
       "      <th>년도</th>\n",
       "      <th>점수</th>\n",
       "    </tr>\n",
       "  </thead>\n",
       "  <tbody>\n",
       "    <tr>\n",
       "      <th>0</th>\n",
       "      <td>2018</td>\n",
       "      <td>3.1800</td>\n",
       "    </tr>\n",
       "    <tr>\n",
       "      <th>1</th>\n",
       "      <td>2019</td>\n",
       "      <td>3.1408</td>\n",
       "    </tr>\n",
       "  </tbody>\n",
       "</table>\n",
       "</div>"
      ],
      "text/plain": [
       "     년도      점수\n",
       "0  2018  3.1800\n",
       "1  2019  3.1408"
      ]
     },
     "execution_count": 64,
     "metadata": {},
     "output_type": "execute_result"
    }
   ],
   "source": [
    "df.groupby(\"년도\").tail(5).groupby(\"년도\", as_index = False)[\"점수\"].mean()"
   ]
  },
  {
   "cell_type": "markdown",
   "id": "01586b72",
   "metadata": {},
   "source": [
    "##### 47. 2019년 데이터를 추출하고 해당데이터의 상대 GDP 평균 이상의 나라들과 평균 이하의 나라들의 행복점수 평균을 각각 구하고 그 차이값을 출력하라"
   ]
  },
  {
   "cell_type": "code",
   "execution_count": 65,
   "id": "547d27ba",
   "metadata": {},
   "outputs": [
    {
     "name": "stdout",
     "output_type": "stream",
     "text": [
      "1.390483957219251\n"
     ]
    },
    {
     "name": "stderr",
     "output_type": "stream",
     "text": [
      "C:\\Users\\cho03\\AppData\\Local\\Temp\\ipykernel_31996\\580180198.py:2: UserWarning: Boolean Series key will be reindexed to match DataFrame index.\n",
      "  over = target[df[\"상대GDP\"] >= target[\"상대GDP\"].mean()][\"점수\"].mean()\n",
      "C:\\Users\\cho03\\AppData\\Local\\Temp\\ipykernel_31996\\580180198.py:3: UserWarning: Boolean Series key will be reindexed to match DataFrame index.\n",
      "  under = target[df[\"상대GDP\"] <= target[\"상대GDP\"].mean()][\"점수\"].mean()\n"
     ]
    }
   ],
   "source": [
    "target = df[df[\"년도\"] == 2019]\n",
    "over = target[df[\"상대GDP\"] >= target[\"상대GDP\"].mean()][\"점수\"].mean()\n",
    "under = target[df[\"상대GDP\"] <= target[\"상대GDP\"].mean()][\"점수\"].mean()\n",
    "\n",
    "print(over - under)"
   ]
  },
  {
   "cell_type": "markdown",
   "id": "f6a135f1",
   "metadata": {},
   "source": [
    "##### 48. ❌ 각 년도의 부패에 대한 인식을 내림차순 정렬했을때 상위 20개 국가의 부패에 대한 인식의 평균을 구하여라"
   ]
  },
  {
   "cell_type": "code",
   "execution_count": 66,
   "id": "aa821b09",
   "metadata": {},
   "outputs": [
    {
     "data": {
      "text/plain": [
       "년도\n",
       "2018    0.3267\n",
       "2019    0.3201\n",
       "Name: 부패에 대한인식, dtype: float64"
      ]
     },
     "execution_count": 66,
     "metadata": {},
     "output_type": "execute_result"
    }
   ],
   "source": [
    "df.sort_values([\"년도\", \"부패에 대한인식\"], ascending = False).groupby(\"년도\").head(20).groupby(\"년도\")[\"부패에 대한인식\"].mean()"
   ]
  },
  {
   "cell_type": "markdown",
   "id": "5aa384e6",
   "metadata": {},
   "source": [
    "##### 49. 2018년도 행복랭킹 50위 이내에 포함됐다가 2019년 50위 밖으로 밀려난 국가의 숫자를 구하여라"
   ]
  },
  {
   "cell_type": "code",
   "execution_count": 67,
   "id": "5b4b64ec",
   "metadata": {},
   "outputs": [
    {
     "data": {
      "text/plain": [
       "4"
      ]
     },
     "execution_count": 67,
     "metadata": {},
     "output_type": "execute_result"
    }
   ],
   "source": [
    "len(set(df[(df[\"년도\"] == 2018) & (df[\"행복랭킹\"] <= 50)][\"나라명\"])  -set(df[(df[\"년도\"] == 2019) & (df[\"행복랭킹\"] <= 50)][\"나라명\"]))"
   ]
  },
  {
   "cell_type": "markdown",
   "id": "331e8b03",
   "metadata": {},
   "source": [
    "##### 50. ❌ 2018년,2019년 모두 기록이 있는 나라들 중 년도별 행복점수가 가장 증가한 나라와 그 증가 수치는?"
   ]
  },
  {
   "cell_type": "code",
   "execution_count": 68,
   "id": "a8eb7350",
   "metadata": {},
   "outputs": [
    {
     "data": {
      "text/plain": [
       "점수    0.87\n",
       "Name: Burundi, dtype: float64"
      ]
     },
     "execution_count": 68,
     "metadata": {},
     "output_type": "execute_result"
    }
   ],
   "source": [
    "count = df[\"나라명\"].value_counts()\n",
    "target = count[count >= 2].index # 2018, 2019 모두 기록이 있는 나라명\n",
    "\n",
    "df2 = df.copy()\n",
    "multiple = df2[df2[\"나라명\"].isin(target)].reset_index(drop = True) # 2018, 2019 모두 기록이 있는 나라 데이터\n",
    "multiple.loc[multiple[\"년도\"] == 2018, \"점수\"] = multiple[multiple[\"년도\"] == 2018][\"점수\"].values * (-1)\n",
    "multiple.groupby(\"나라명\").sum()[\"점수\"].sort_values().to_frame().iloc[-1]"
   ]
  },
  {
   "cell_type": "markdown",
   "id": "21138c74",
   "metadata": {},
   "source": [
    "# 지역구 에너지 소비량 데이터2\n",
    "데이터 출처 : https://archive.ics.uci.edu/ml/datasets/Power+consumption+of+Tetouan+city (참고, 데이터 수정)  \n",
    "데이터 설명 : 기온, 습도,바람풍속에 따른 도시의 3개 지역구의 에너지 소비량  \n",
    "data url = https://raw.githubusercontent.com/Datamanim/datarepo/main/consum/Tetuan City power consumption.csv"
   ]
  },
  {
   "cell_type": "code",
   "execution_count": 69,
   "id": "5a1e1ddf",
   "metadata": {},
   "outputs": [
    {
     "data": {
      "text/html": [
       "<div>\n",
       "<style scoped>\n",
       "    .dataframe tbody tr th:only-of-type {\n",
       "        vertical-align: middle;\n",
       "    }\n",
       "\n",
       "    .dataframe tbody tr th {\n",
       "        vertical-align: top;\n",
       "    }\n",
       "\n",
       "    .dataframe thead th {\n",
       "        text-align: right;\n",
       "    }\n",
       "</style>\n",
       "<table border=\"1\" class=\"dataframe\">\n",
       "  <thead>\n",
       "    <tr style=\"text-align: right;\">\n",
       "      <th></th>\n",
       "      <th>DateTime</th>\n",
       "      <th>Temperature</th>\n",
       "      <th>Humidity</th>\n",
       "      <th>Wind Speed</th>\n",
       "      <th>general diffuse flows</th>\n",
       "      <th>diffuse flows</th>\n",
       "      <th>Zone 1 Power Consumption</th>\n",
       "      <th>Zone 2  Power Consumption</th>\n",
       "      <th>Zone 3  Power Consumption</th>\n",
       "    </tr>\n",
       "  </thead>\n",
       "  <tbody>\n",
       "    <tr>\n",
       "      <th>0</th>\n",
       "      <td>1/1/2017 0:00</td>\n",
       "      <td>6.559</td>\n",
       "      <td>73.8</td>\n",
       "      <td>0.083</td>\n",
       "      <td>0.051</td>\n",
       "      <td>0.119</td>\n",
       "      <td>34055.69620</td>\n",
       "      <td>16128.87538</td>\n",
       "      <td>20240.96386</td>\n",
       "    </tr>\n",
       "    <tr>\n",
       "      <th>1</th>\n",
       "      <td>1/1/2017 0:10</td>\n",
       "      <td>6.414</td>\n",
       "      <td>74.5</td>\n",
       "      <td>0.083</td>\n",
       "      <td>0.070</td>\n",
       "      <td>0.085</td>\n",
       "      <td>29814.68354</td>\n",
       "      <td>19375.07599</td>\n",
       "      <td>20131.08434</td>\n",
       "    </tr>\n",
       "    <tr>\n",
       "      <th>2</th>\n",
       "      <td>1/1/2017 0:20</td>\n",
       "      <td>6.313</td>\n",
       "      <td>74.5</td>\n",
       "      <td>0.080</td>\n",
       "      <td>0.062</td>\n",
       "      <td>0.100</td>\n",
       "      <td>29128.10127</td>\n",
       "      <td>19006.68693</td>\n",
       "      <td>19668.43373</td>\n",
       "    </tr>\n",
       "    <tr>\n",
       "      <th>3</th>\n",
       "      <td>1/1/2017 0:30</td>\n",
       "      <td>6.121</td>\n",
       "      <td>75.0</td>\n",
       "      <td>0.083</td>\n",
       "      <td>0.091</td>\n",
       "      <td>0.096</td>\n",
       "      <td>28228.86076</td>\n",
       "      <td>18361.09422</td>\n",
       "      <td>18899.27711</td>\n",
       "    </tr>\n",
       "    <tr>\n",
       "      <th>4</th>\n",
       "      <td>1/1/2017 0:40</td>\n",
       "      <td>5.921</td>\n",
       "      <td>75.7</td>\n",
       "      <td>0.081</td>\n",
       "      <td>0.048</td>\n",
       "      <td>0.085</td>\n",
       "      <td>27335.69620</td>\n",
       "      <td>17872.34043</td>\n",
       "      <td>18442.40964</td>\n",
       "    </tr>\n",
       "  </tbody>\n",
       "</table>\n",
       "</div>"
      ],
      "text/plain": [
       "        DateTime  Temperature  Humidity  Wind Speed  general diffuse flows  \\\n",
       "0  1/1/2017 0:00        6.559      73.8       0.083                  0.051   \n",
       "1  1/1/2017 0:10        6.414      74.5       0.083                  0.070   \n",
       "2  1/1/2017 0:20        6.313      74.5       0.080                  0.062   \n",
       "3  1/1/2017 0:30        6.121      75.0       0.083                  0.091   \n",
       "4  1/1/2017 0:40        5.921      75.7       0.081                  0.048   \n",
       "\n",
       "   diffuse flows  Zone 1 Power Consumption  Zone 2  Power Consumption  \\\n",
       "0          0.119               34055.69620                16128.87538   \n",
       "1          0.085               29814.68354                19375.07599   \n",
       "2          0.100               29128.10127                19006.68693   \n",
       "3          0.096               28228.86076                18361.09422   \n",
       "4          0.085               27335.69620                17872.34043   \n",
       "\n",
       "   Zone 3  Power Consumption  \n",
       "0                20240.96386  \n",
       "1                20131.08434  \n",
       "2                19668.43373  \n",
       "3                18899.27711  \n",
       "4                18442.40964  "
      ]
     },
     "execution_count": 69,
     "metadata": {},
     "output_type": "execute_result"
    }
   ],
   "source": [
    "df = pd.read_csv(\"https://raw.githubusercontent.com/Datamanim/datarepo/main/consum/Tetuan%20City%20power%20consumption.csv\")\n",
    "df.head()"
   ]
  },
  {
   "cell_type": "markdown",
   "id": "be2be8f8",
   "metadata": {},
   "source": [
    "##### 51. DateTime컬럼을 통해 각 월별로 몇개의 데이터가 있는지 데이터 프레임으로 구하여라"
   ]
  },
  {
   "cell_type": "code",
   "execution_count": 70,
   "id": "139906e9",
   "metadata": {},
   "outputs": [
    {
     "data": {
      "text/html": [
       "<div>\n",
       "<style scoped>\n",
       "    .dataframe tbody tr th:only-of-type {\n",
       "        vertical-align: middle;\n",
       "    }\n",
       "\n",
       "    .dataframe tbody tr th {\n",
       "        vertical-align: top;\n",
       "    }\n",
       "\n",
       "    .dataframe thead th {\n",
       "        text-align: right;\n",
       "    }\n",
       "</style>\n",
       "<table border=\"1\" class=\"dataframe\">\n",
       "  <thead>\n",
       "    <tr style=\"text-align: right;\">\n",
       "      <th></th>\n",
       "      <th>count</th>\n",
       "    </tr>\n",
       "    <tr>\n",
       "      <th>DateTime</th>\n",
       "      <th></th>\n",
       "    </tr>\n",
       "  </thead>\n",
       "  <tbody>\n",
       "    <tr>\n",
       "      <th>1</th>\n",
       "      <td>4464</td>\n",
       "    </tr>\n",
       "    <tr>\n",
       "      <th>2</th>\n",
       "      <td>4032</td>\n",
       "    </tr>\n",
       "    <tr>\n",
       "      <th>3</th>\n",
       "      <td>4464</td>\n",
       "    </tr>\n",
       "    <tr>\n",
       "      <th>4</th>\n",
       "      <td>4320</td>\n",
       "    </tr>\n",
       "    <tr>\n",
       "      <th>5</th>\n",
       "      <td>4464</td>\n",
       "    </tr>\n",
       "    <tr>\n",
       "      <th>6</th>\n",
       "      <td>4320</td>\n",
       "    </tr>\n",
       "    <tr>\n",
       "      <th>7</th>\n",
       "      <td>4464</td>\n",
       "    </tr>\n",
       "    <tr>\n",
       "      <th>8</th>\n",
       "      <td>4464</td>\n",
       "    </tr>\n",
       "    <tr>\n",
       "      <th>9</th>\n",
       "      <td>4320</td>\n",
       "    </tr>\n",
       "    <tr>\n",
       "      <th>10</th>\n",
       "      <td>4464</td>\n",
       "    </tr>\n",
       "    <tr>\n",
       "      <th>11</th>\n",
       "      <td>4320</td>\n",
       "    </tr>\n",
       "    <tr>\n",
       "      <th>12</th>\n",
       "      <td>4320</td>\n",
       "    </tr>\n",
       "  </tbody>\n",
       "</table>\n",
       "</div>"
      ],
      "text/plain": [
       "          count\n",
       "DateTime       \n",
       "1          4464\n",
       "2          4032\n",
       "3          4464\n",
       "4          4320\n",
       "5          4464\n",
       "6          4320\n",
       "7          4464\n",
       "8          4464\n",
       "9          4320\n",
       "10         4464\n",
       "11         4320\n",
       "12         4320"
      ]
     },
     "execution_count": 70,
     "metadata": {},
     "output_type": "execute_result"
    }
   ],
   "source": [
    "df[\"DateTime\"] = pd.to_datetime(df[\"DateTime\"])\n",
    "df['DateTime'].dt.month.value_counts().sort_index().to_frame()"
   ]
  },
  {
   "cell_type": "markdown",
   "id": "cb7a2084",
   "metadata": {},
   "source": [
    "##### 52. 3월달의 각 시간대별 온도의 평균들 중 가장 낮은 시간대의 온도를 출력하라"
   ]
  },
  {
   "cell_type": "code",
   "execution_count": 71,
   "id": "6a3ea8ac",
   "metadata": {},
   "outputs": [
    {
     "data": {
      "text/plain": [
       "np.float64(11.506612903225806)"
      ]
     },
     "execution_count": 71,
     "metadata": {},
     "output_type": "execute_result"
    }
   ],
   "source": [
    "target = df[df[\"DateTime\"].dt.month == 3]\n",
    "target.groupby(target[\"DateTime\"].dt.hour)[\"Temperature\"].mean().sort_values().values[0]"
   ]
  },
  {
   "cell_type": "markdown",
   "id": "33ed2914",
   "metadata": {},
   "source": [
    "##### 53. 3월달의 각 시간대별 온도의 평균들 중 가장 높은 시간대의 온도를 출력하라"
   ]
  },
  {
   "cell_type": "code",
   "execution_count": 72,
   "id": "ace3c9bc",
   "metadata": {},
   "outputs": [
    {
     "data": {
      "text/plain": [
       "np.float64(18.393602150537635)"
      ]
     },
     "execution_count": 72,
     "metadata": {},
     "output_type": "execute_result"
    }
   ],
   "source": [
    "target.groupby(target[\"DateTime\"].dt.hour)[\"Temperature\"].mean().sort_values().values[-1]"
   ]
  },
  {
   "cell_type": "markdown",
   "id": "29b34920",
   "metadata": {},
   "source": [
    "##### 54. Zone 1 Power Consumption 컬럼의 value값의 크기가 Zone 2 Power Consumption 컬럼의 value값의 크기보다 큰 데이터들의 Humidity의 평균을 구하여라"
   ]
  },
  {
   "cell_type": "code",
   "execution_count": 73,
   "id": "5ade30f5",
   "metadata": {},
   "outputs": [
    {
     "data": {
      "text/plain": [
       "np.float64(68.23624448055051)"
      ]
     },
     "execution_count": 73,
     "metadata": {},
     "output_type": "execute_result"
    }
   ],
   "source": [
    "df[df[\"Zone 1 Power Consumption\"] > df[\"Zone 2  Power Consumption\"]][\"Humidity\"].mean()"
   ]
  },
  {
   "cell_type": "markdown",
   "id": "b87d1642",
   "metadata": {},
   "source": [
    "##### 55. 각 zone의 에너지 소비량의 상관관계를 구해서 데이터 프레임으로 표기하라"
   ]
  },
  {
   "cell_type": "code",
   "execution_count": 74,
   "id": "5beeecf9",
   "metadata": {},
   "outputs": [
    {
     "data": {
      "text/html": [
       "<div>\n",
       "<style scoped>\n",
       "    .dataframe tbody tr th:only-of-type {\n",
       "        vertical-align: middle;\n",
       "    }\n",
       "\n",
       "    .dataframe tbody tr th {\n",
       "        vertical-align: top;\n",
       "    }\n",
       "\n",
       "    .dataframe thead th {\n",
       "        text-align: right;\n",
       "    }\n",
       "</style>\n",
       "<table border=\"1\" class=\"dataframe\">\n",
       "  <thead>\n",
       "    <tr style=\"text-align: right;\">\n",
       "      <th></th>\n",
       "      <th>Zone 1 Power Consumption</th>\n",
       "      <th>Zone 2  Power Consumption</th>\n",
       "      <th>Zone 3  Power Consumption</th>\n",
       "    </tr>\n",
       "  </thead>\n",
       "  <tbody>\n",
       "    <tr>\n",
       "      <th>Zone 1 Power Consumption</th>\n",
       "      <td>1.000000</td>\n",
       "      <td>0.834519</td>\n",
       "      <td>0.750733</td>\n",
       "    </tr>\n",
       "    <tr>\n",
       "      <th>Zone 2  Power Consumption</th>\n",
       "      <td>0.834519</td>\n",
       "      <td>1.000000</td>\n",
       "      <td>0.570932</td>\n",
       "    </tr>\n",
       "    <tr>\n",
       "      <th>Zone 3  Power Consumption</th>\n",
       "      <td>0.750733</td>\n",
       "      <td>0.570932</td>\n",
       "      <td>1.000000</td>\n",
       "    </tr>\n",
       "  </tbody>\n",
       "</table>\n",
       "</div>"
      ],
      "text/plain": [
       "                           Zone 1 Power Consumption  \\\n",
       "Zone 1 Power Consumption                   1.000000   \n",
       "Zone 2  Power Consumption                  0.834519   \n",
       "Zone 3  Power Consumption                  0.750733   \n",
       "\n",
       "                           Zone 2  Power Consumption  \\\n",
       "Zone 1 Power Consumption                    0.834519   \n",
       "Zone 2  Power Consumption                   1.000000   \n",
       "Zone 3  Power Consumption                   0.570932   \n",
       "\n",
       "                           Zone 3  Power Consumption  \n",
       "Zone 1 Power Consumption                    0.750733  \n",
       "Zone 2  Power Consumption                   0.570932  \n",
       "Zone 3  Power Consumption                   1.000000  "
      ]
     },
     "execution_count": 74,
     "metadata": {},
     "output_type": "execute_result"
    }
   ],
   "source": [
    "df[[\"Zone 1 Power Consumption\", \"Zone 2  Power Consumption\", \"Zone 3  Power Consumption\"]].corr()"
   ]
  },
  {
   "cell_type": "markdown",
   "id": "caa3947a",
   "metadata": {},
   "source": [
    "##### 56. Temperature의 값이 10미만의 경우 A, 10이상 20미만의 경우 B,20이상 30미만의 경우 C, 그 외의 경우 D라고 할때 각 단계의 데이터 숫자를 구하여라"
   ]
  },
  {
   "cell_type": "code",
   "execution_count": 75,
   "id": "8f2220bd",
   "metadata": {},
   "outputs": [
    {
     "data": {
      "text/plain": [
       "sp\n",
       "B    26993\n",
       "C    21105\n",
       "A     2874\n",
       "D     1444\n",
       "Name: count, dtype: int64"
      ]
     },
     "execution_count": 75,
     "metadata": {},
     "output_type": "execute_result"
    }
   ],
   "source": [
    "def split_data(x):\n",
    "    if x < 10: return \"A\"\n",
    "    elif x < 20: return \"B\"\n",
    "    elif x < 30: return \"C\"\n",
    "    else: return \"D\"\n",
    "    \n",
    "df[\"sp\"] = df[\"Temperature\"].map(split_data)\n",
    "df[\"sp\"].value_counts()"
   ]
  },
  {
   "cell_type": "markdown",
   "id": "8de5ccfa",
   "metadata": {},
   "source": [
    "##### 57. 6월 데이터중 12시의 Temperature의 표준편차를 구하여라"
   ]
  },
  {
   "cell_type": "code",
   "execution_count": 76,
   "id": "46d4ab09",
   "metadata": {},
   "outputs": [
    {
     "data": {
      "text/plain": [
       "np.float64(2.0499417827951025)"
      ]
     },
     "execution_count": 76,
     "metadata": {},
     "output_type": "execute_result"
    }
   ],
   "source": [
    "df[(df[\"DateTime\"].dt.month == 6) & (df[\"DateTime\"].dt.hour == 12)][\"Temperature\"].std()"
   ]
  },
  {
   "cell_type": "markdown",
   "id": "cd230a16",
   "metadata": {},
   "source": [
    "##### 58. 6월 데이터중 12시의 Temperature의 분산을 구하여라"
   ]
  },
  {
   "cell_type": "code",
   "execution_count": 77,
   "id": "7b7408f4",
   "metadata": {},
   "outputs": [
    {
     "data": {
      "text/plain": [
       "np.float64(4.202261312849163)"
      ]
     },
     "execution_count": 77,
     "metadata": {},
     "output_type": "execute_result"
    }
   ],
   "source": [
    "df[(df[\"DateTime\"].dt.month == 6) & (df[\"DateTime\"].dt.hour == 12)][\"Temperature\"].var()"
   ]
  },
  {
   "cell_type": "markdown",
   "id": "85c32af0",
   "metadata": {},
   "source": [
    "##### 59. Temperature의 평균이상의 Temperature의 값을 가지는 데이터를 Temperature를 기준으로 정렬 했을때 4번째 행의 Humidity 값은?"
   ]
  },
  {
   "cell_type": "code",
   "execution_count": 78,
   "id": "6f4651c1",
   "metadata": {},
   "outputs": [
    {
     "data": {
      "text/plain": [
       "np.float64(79.7)"
      ]
     },
     "execution_count": 78,
     "metadata": {},
     "output_type": "execute_result"
    }
   ],
   "source": [
    "df[df[\"Temperature\"] >= df[\"Temperature\"].mean()].sort_values(\"Temperature\")[\"Humidity\"].values[3]"
   ]
  },
  {
   "cell_type": "markdown",
   "id": "a35b8e9a",
   "metadata": {},
   "source": [
    "##### 60. Temperature의 중간값 이상의 Temperature의 값을 가지는 데이터를Temperature를 기준으로 정렬 했을때 4번째 행의 Humidity 값은?"
   ]
  },
  {
   "cell_type": "code",
   "execution_count": 79,
   "id": "462b252a",
   "metadata": {},
   "outputs": [
    {
     "data": {
      "text/plain": [
       "np.float64(58.98)"
      ]
     },
     "execution_count": 79,
     "metadata": {},
     "output_type": "execute_result"
    }
   ],
   "source": [
    "df[df[\"Temperature\"] >= df[\"Temperature\"].median()].sort_values(\"Temperature\")[\"Humidity\"].values[3]"
   ]
  },
  {
   "cell_type": "markdown",
   "id": "82b06e2a",
   "metadata": {},
   "source": [
    "# 포켓몬 정보 데이터\n",
    "데이터 출처 : https://www.kaggle.com/abcsds/pokemon (참고, 데이터 수정)  \n",
    "데이터 설명 : 포켓몬 정보  \n",
    "data url = https://raw.githubusercontent.com/Datamanim/datarepo/main/pok/Pokemon.csv"
   ]
  },
  {
   "cell_type": "code",
   "execution_count": 80,
   "id": "8a826182",
   "metadata": {},
   "outputs": [
    {
     "data": {
      "text/html": [
       "<div>\n",
       "<style scoped>\n",
       "    .dataframe tbody tr th:only-of-type {\n",
       "        vertical-align: middle;\n",
       "    }\n",
       "\n",
       "    .dataframe tbody tr th {\n",
       "        vertical-align: top;\n",
       "    }\n",
       "\n",
       "    .dataframe thead th {\n",
       "        text-align: right;\n",
       "    }\n",
       "</style>\n",
       "<table border=\"1\" class=\"dataframe\">\n",
       "  <thead>\n",
       "    <tr style=\"text-align: right;\">\n",
       "      <th></th>\n",
       "      <th>#</th>\n",
       "      <th>Name</th>\n",
       "      <th>Type 1</th>\n",
       "      <th>Type 2</th>\n",
       "      <th>Total</th>\n",
       "      <th>HP</th>\n",
       "      <th>Attack</th>\n",
       "      <th>Defense</th>\n",
       "      <th>Sp. Atk</th>\n",
       "      <th>Sp. Def</th>\n",
       "      <th>Speed</th>\n",
       "      <th>Generation</th>\n",
       "      <th>Legendary</th>\n",
       "    </tr>\n",
       "  </thead>\n",
       "  <tbody>\n",
       "    <tr>\n",
       "      <th>0</th>\n",
       "      <td>1</td>\n",
       "      <td>Bulbasaur</td>\n",
       "      <td>Grass</td>\n",
       "      <td>Poison</td>\n",
       "      <td>318</td>\n",
       "      <td>45</td>\n",
       "      <td>49</td>\n",
       "      <td>49</td>\n",
       "      <td>65</td>\n",
       "      <td>65</td>\n",
       "      <td>45</td>\n",
       "      <td>1</td>\n",
       "      <td>False</td>\n",
       "    </tr>\n",
       "    <tr>\n",
       "      <th>1</th>\n",
       "      <td>2</td>\n",
       "      <td>Ivysaur</td>\n",
       "      <td>Grass</td>\n",
       "      <td>Poison</td>\n",
       "      <td>405</td>\n",
       "      <td>60</td>\n",
       "      <td>62</td>\n",
       "      <td>63</td>\n",
       "      <td>80</td>\n",
       "      <td>80</td>\n",
       "      <td>60</td>\n",
       "      <td>1</td>\n",
       "      <td>False</td>\n",
       "    </tr>\n",
       "    <tr>\n",
       "      <th>2</th>\n",
       "      <td>3</td>\n",
       "      <td>Venusaur</td>\n",
       "      <td>Grass</td>\n",
       "      <td>Poison</td>\n",
       "      <td>525</td>\n",
       "      <td>80</td>\n",
       "      <td>82</td>\n",
       "      <td>83</td>\n",
       "      <td>100</td>\n",
       "      <td>100</td>\n",
       "      <td>80</td>\n",
       "      <td>1</td>\n",
       "      <td>False</td>\n",
       "    </tr>\n",
       "    <tr>\n",
       "      <th>3</th>\n",
       "      <td>3</td>\n",
       "      <td>VenusaurMega Venusaur</td>\n",
       "      <td>Grass</td>\n",
       "      <td>Poison</td>\n",
       "      <td>625</td>\n",
       "      <td>80</td>\n",
       "      <td>100</td>\n",
       "      <td>123</td>\n",
       "      <td>122</td>\n",
       "      <td>120</td>\n",
       "      <td>80</td>\n",
       "      <td>1</td>\n",
       "      <td>False</td>\n",
       "    </tr>\n",
       "    <tr>\n",
       "      <th>4</th>\n",
       "      <td>4</td>\n",
       "      <td>Charmander</td>\n",
       "      <td>Fire</td>\n",
       "      <td>NaN</td>\n",
       "      <td>309</td>\n",
       "      <td>39</td>\n",
       "      <td>52</td>\n",
       "      <td>43</td>\n",
       "      <td>60</td>\n",
       "      <td>50</td>\n",
       "      <td>65</td>\n",
       "      <td>1</td>\n",
       "      <td>False</td>\n",
       "    </tr>\n",
       "    <tr>\n",
       "      <th>...</th>\n",
       "      <td>...</td>\n",
       "      <td>...</td>\n",
       "      <td>...</td>\n",
       "      <td>...</td>\n",
       "      <td>...</td>\n",
       "      <td>...</td>\n",
       "      <td>...</td>\n",
       "      <td>...</td>\n",
       "      <td>...</td>\n",
       "      <td>...</td>\n",
       "      <td>...</td>\n",
       "      <td>...</td>\n",
       "      <td>...</td>\n",
       "    </tr>\n",
       "    <tr>\n",
       "      <th>795</th>\n",
       "      <td>719</td>\n",
       "      <td>Diancie</td>\n",
       "      <td>Rock</td>\n",
       "      <td>Fairy</td>\n",
       "      <td>600</td>\n",
       "      <td>50</td>\n",
       "      <td>100</td>\n",
       "      <td>150</td>\n",
       "      <td>100</td>\n",
       "      <td>150</td>\n",
       "      <td>50</td>\n",
       "      <td>6</td>\n",
       "      <td>True</td>\n",
       "    </tr>\n",
       "    <tr>\n",
       "      <th>796</th>\n",
       "      <td>719</td>\n",
       "      <td>DiancieMega Diancie</td>\n",
       "      <td>Rock</td>\n",
       "      <td>Fairy</td>\n",
       "      <td>700</td>\n",
       "      <td>50</td>\n",
       "      <td>160</td>\n",
       "      <td>110</td>\n",
       "      <td>160</td>\n",
       "      <td>110</td>\n",
       "      <td>110</td>\n",
       "      <td>6</td>\n",
       "      <td>True</td>\n",
       "    </tr>\n",
       "    <tr>\n",
       "      <th>797</th>\n",
       "      <td>720</td>\n",
       "      <td>HoopaHoopa Confined</td>\n",
       "      <td>Psychic</td>\n",
       "      <td>Ghost</td>\n",
       "      <td>600</td>\n",
       "      <td>80</td>\n",
       "      <td>110</td>\n",
       "      <td>60</td>\n",
       "      <td>150</td>\n",
       "      <td>130</td>\n",
       "      <td>70</td>\n",
       "      <td>6</td>\n",
       "      <td>True</td>\n",
       "    </tr>\n",
       "    <tr>\n",
       "      <th>798</th>\n",
       "      <td>720</td>\n",
       "      <td>HoopaHoopa Unbound</td>\n",
       "      <td>Psychic</td>\n",
       "      <td>Dark</td>\n",
       "      <td>680</td>\n",
       "      <td>80</td>\n",
       "      <td>160</td>\n",
       "      <td>60</td>\n",
       "      <td>170</td>\n",
       "      <td>130</td>\n",
       "      <td>80</td>\n",
       "      <td>6</td>\n",
       "      <td>True</td>\n",
       "    </tr>\n",
       "    <tr>\n",
       "      <th>799</th>\n",
       "      <td>721</td>\n",
       "      <td>Volcanion</td>\n",
       "      <td>Fire</td>\n",
       "      <td>Water</td>\n",
       "      <td>600</td>\n",
       "      <td>80</td>\n",
       "      <td>110</td>\n",
       "      <td>120</td>\n",
       "      <td>130</td>\n",
       "      <td>90</td>\n",
       "      <td>70</td>\n",
       "      <td>6</td>\n",
       "      <td>True</td>\n",
       "    </tr>\n",
       "  </tbody>\n",
       "</table>\n",
       "<p>800 rows × 13 columns</p>\n",
       "</div>"
      ],
      "text/plain": [
       "       #                   Name   Type 1  Type 2  Total  HP  Attack  Defense  \\\n",
       "0      1              Bulbasaur    Grass  Poison    318  45      49       49   \n",
       "1      2                Ivysaur    Grass  Poison    405  60      62       63   \n",
       "2      3               Venusaur    Grass  Poison    525  80      82       83   \n",
       "3      3  VenusaurMega Venusaur    Grass  Poison    625  80     100      123   \n",
       "4      4             Charmander     Fire     NaN    309  39      52       43   \n",
       "..   ...                    ...      ...     ...    ...  ..     ...      ...   \n",
       "795  719                Diancie     Rock   Fairy    600  50     100      150   \n",
       "796  719    DiancieMega Diancie     Rock   Fairy    700  50     160      110   \n",
       "797  720    HoopaHoopa Confined  Psychic   Ghost    600  80     110       60   \n",
       "798  720     HoopaHoopa Unbound  Psychic    Dark    680  80     160       60   \n",
       "799  721              Volcanion     Fire   Water    600  80     110      120   \n",
       "\n",
       "     Sp. Atk  Sp. Def  Speed  Generation  Legendary  \n",
       "0         65       65     45           1      False  \n",
       "1         80       80     60           1      False  \n",
       "2        100      100     80           1      False  \n",
       "3        122      120     80           1      False  \n",
       "4         60       50     65           1      False  \n",
       "..       ...      ...    ...         ...        ...  \n",
       "795      100      150     50           6       True  \n",
       "796      160      110    110           6       True  \n",
       "797      150      130     70           6       True  \n",
       "798      170      130     80           6       True  \n",
       "799      130       90     70           6       True  \n",
       "\n",
       "[800 rows x 13 columns]"
      ]
     },
     "execution_count": 80,
     "metadata": {},
     "output_type": "execute_result"
    }
   ],
   "source": [
    "df = pd.read_csv(\"https://raw.githubusercontent.com/Datamanim/datarepo/main/pok/Pokemon.csv\")\n",
    "df"
   ]
  },
  {
   "cell_type": "markdown",
   "id": "9e34603d",
   "metadata": {},
   "source": [
    "##### 61. Legendary 컬럼은 전설포켓몬 유무를 나타낸다.전설포켓몬과 그렇지 않은 포켓몬들의 HP평균의 차이를 구하여라"
   ]
  },
  {
   "cell_type": "code",
   "execution_count": 81,
   "id": "b6e17fc7",
   "metadata": {},
   "outputs": [
    {
     "data": {
      "text/plain": [
       "np.float64(25.55614861329147)"
      ]
     },
     "execution_count": 81,
     "metadata": {},
     "output_type": "execute_result"
    }
   ],
   "source": [
    "leg = df[df[\"Legendary\"] == True][\"HP\"].mean()\n",
    "nleg = df[df[\"Legendary\"] == False][\"HP\"].mean()\n",
    "\n",
    "leg - nleg"
   ]
  },
  {
   "cell_type": "markdown",
   "id": "7655f349",
   "metadata": {},
   "source": [
    "##### 62. Type 1은 주속성 Type 2 는 부속성을 나타낸다. 가장 많은 부속성 종류는 무엇인가?"
   ]
  },
  {
   "cell_type": "code",
   "execution_count": 82,
   "id": "970d92c9",
   "metadata": {},
   "outputs": [
    {
     "data": {
      "text/plain": [
       "'Flying'"
      ]
     },
     "execution_count": 82,
     "metadata": {},
     "output_type": "execute_result"
    }
   ],
   "source": [
    "df.value_counts(\"Type 2\").index[0]"
   ]
  },
  {
   "cell_type": "code",
   "execution_count": 83,
   "id": "5d12d9e0",
   "metadata": {},
   "outputs": [
    {
     "data": {
      "text/plain": [
       "'Flying'"
      ]
     },
     "execution_count": 83,
     "metadata": {},
     "output_type": "execute_result"
    }
   ],
   "source": [
    "df.groupby(\"Type 2\").size().sort_values().index[-1]"
   ]
  },
  {
   "cell_type": "markdown",
   "id": "6cae0608",
   "metadata": {},
   "source": [
    "##### 63. 가장 많은 Type 1 의 종의 평균 Attack 을 평균 Defense로 나눈값은?"
   ]
  },
  {
   "cell_type": "code",
   "execution_count": 84,
   "id": "7a81fb85",
   "metadata": {},
   "outputs": [
    {
     "data": {
      "text/plain": [
       "np.float64(1.0165238678090576)"
      ]
     },
     "execution_count": 84,
     "metadata": {},
     "output_type": "execute_result"
    }
   ],
   "source": [
    "max = df['Type 1'].value_counts().index[0]\n",
    "\n",
    "df[df[\"Type 1\"] == max][\"Attack\"].mean() / df[df[\"Type 1\"]== max][\"Defense\"].mean()"
   ]
  },
  {
   "cell_type": "markdown",
   "id": "ffa8b590",
   "metadata": {},
   "source": [
    "##### 64. 포켓몬 세대(Generation) 중 가장많은 Legendary를 보유한 세대는 몇세대인가?"
   ]
  },
  {
   "cell_type": "code",
   "execution_count": 85,
   "id": "07c98a31",
   "metadata": {},
   "outputs": [
    {
     "name": "stdout",
     "output_type": "stream",
     "text": [
      "3\n"
     ]
    }
   ],
   "source": [
    "print(df[df[\"Legendary\"] == True][\"Generation\"].value_counts().index[0])"
   ]
  },
  {
   "cell_type": "markdown",
   "id": "8071dab9",
   "metadata": {},
   "source": [
    "##### 65. ‘HP’, ‘Attack’, ‘Defense’, ‘Sp. Atk’, ‘Sp. Def’, ‘Speed’ 간의 상관 계수중 가장 절댓값이 큰 두 변수와 그 값을 구하여라"
   ]
  },
  {
   "cell_type": "code",
   "execution_count": 86,
   "id": "aeca0374",
   "metadata": {},
   "outputs": [
    {
     "data": {
      "text/plain": [
       "level_0     Defense\n",
       "level_1     Sp. Def\n",
       "0          0.510747\n",
       "Name: 16, dtype: object"
      ]
     },
     "execution_count": 86,
     "metadata": {},
     "output_type": "execute_result"
    }
   ],
   "source": [
    "target = df[[\"HP\", \"Attack\", \"Defense\", \"Sp. Atk\", \"Sp. Def\", \"Speed\"]].corr().unstack().reset_index()\n",
    "target[target[0] != 1].sort_values(0, ascending = False).iloc[0]"
   ]
  },
  {
   "cell_type": "markdown",
   "id": "79b17cce",
   "metadata": {},
   "source": [
    "##### 66. 각 Generation의 Attack으로 오름차순 정렬시 상위 3개 데이터들(18개)의 Attack의 전체 평균을 구하여라"
   ]
  },
  {
   "cell_type": "code",
   "execution_count": 87,
   "id": "0dd5775d",
   "metadata": {},
   "outputs": [
    {
     "data": {
      "text/plain": [
       "np.float64(19.5)"
      ]
     },
     "execution_count": 87,
     "metadata": {},
     "output_type": "execute_result"
    }
   ],
   "source": [
    "df.sort_values([\"Generation\", \"Attack\"]).groupby(\"Generation\").head(3)[\"Attack\"].mean()"
   ]
  },
  {
   "cell_type": "markdown",
   "id": "365dde48",
   "metadata": {},
   "source": [
    "##### 67. 각 Generation의 Attack으로 내림차순 정렬시 상위 5개 데이터들(30개)의 Attack의 전체 평균을 구하여라"
   ]
  },
  {
   "cell_type": "code",
   "execution_count": 88,
   "id": "6b855238",
   "metadata": {},
   "outputs": [
    {
     "data": {
      "text/plain": [
       "np.float64(157.23333333333332)"
      ]
     },
     "execution_count": 88,
     "metadata": {},
     "output_type": "execute_result"
    }
   ],
   "source": [
    "df.sort_values([\"Generation\", \"Attack\"], ascending = False).groupby(\"Generation\").head(5)[\"Attack\"].mean()"
   ]
  },
  {
   "cell_type": "markdown",
   "id": "62b16d07",
   "metadata": {},
   "source": [
    "##### 68. 가장 흔하게 발견되는 (Type1 , Type2) 의 쌍은 무엇인가?"
   ]
  },
  {
   "cell_type": "code",
   "execution_count": 89,
   "id": "231395c7",
   "metadata": {},
   "outputs": [
    {
     "data": {
      "text/plain": [
       "Type 1  Type 2\n",
       "Normal  Flying    24\n",
       "Name: count, dtype: int64"
      ]
     },
     "execution_count": 89,
     "metadata": {},
     "output_type": "execute_result"
    }
   ],
   "source": [
    "df[['Type 1','Type 2']].value_counts().head(1)"
   ]
  },
  {
   "cell_type": "markdown",
   "id": "73591cfc",
   "metadata": {},
   "source": [
    "##### 69. 한번씩만 존재하는 (Type1 , Type2)의 쌍의 갯수는 몇개인가?"
   ]
  },
  {
   "cell_type": "code",
   "execution_count": 90,
   "id": "9911930b",
   "metadata": {},
   "outputs": [
    {
     "data": {
      "text/plain": [
       "39"
      ]
     },
     "execution_count": 90,
     "metadata": {},
     "output_type": "execute_result"
    }
   ],
   "source": [
    "target = df[['Type 1','Type 2']].value_counts()\n",
    "len(target[target == 1])"
   ]
  },
  {
   "cell_type": "markdown",
   "id": "ec220163",
   "metadata": {},
   "source": [
    "##### 70. ❌ 한번씩만 존재하는 (Type1 , Type2)의 쌍을 각 세대(Generation)은 각각 몇개씩 가지고 있는가?"
   ]
  },
  {
   "cell_type": "code",
   "execution_count": 91,
   "id": "bee9621a",
   "metadata": {},
   "outputs": [
    {
     "name": "stdout",
     "output_type": "stream",
     "text": [
      "Generation\n",
      "1     1\n",
      "2     4\n",
      "3     5\n",
      "4    13\n",
      "5     7\n",
      "6     9\n",
      "Name: count, dtype: int64\n"
     ]
    }
   ],
   "source": [
    "target2 = target[target == 1]\n",
    "\n",
    "lst = []\n",
    "for value in target2.reset_index().values:\n",
    "    t1 = value[0]\n",
    "    t2 = value[1]\n",
    "    \n",
    "    sp = df[(df[\"Type 1\"] == t1) & (df[\"Type 2\"] == t2)]\n",
    "    lst.append(sp)\n",
    "\n",
    "result = pd.concat(lst).reset_index(drop = True)[\"Generation\"].value_counts().sort_index()\n",
    "print(result)"
   ]
  },
  {
   "cell_type": "markdown",
   "id": "90c6ffac",
   "metadata": {},
   "source": [
    "# 대한민국 체력장 데이터\n",
    "데이터 출처 : 국민체육진흥공단 (문화 빅데이터플랫폼) (참고, 데이터 수정)  \n",
    "데이터 설명 : 대한민국 국민 체력장 평가  \n",
    "data url = https://raw.githubusercontent.com/Datamanim/datarepo/main/body/body.csv"
   ]
  },
  {
   "cell_type": "code",
   "execution_count": 92,
   "id": "0c2f3ce5",
   "metadata": {},
   "outputs": [],
   "source": [
    "df = pd.read_csv(\"https://raw.githubusercontent.com/Datamanim/datarepo/main/body/body.csv\")"
   ]
  },
  {
   "cell_type": "markdown",
   "id": "7ab81413",
   "metadata": {},
   "source": [
    "##### 71. 전체데이터의 수축기혈압(최고) - 이완기혈압(최저)의 평균을 구하여라"
   ]
  },
  {
   "cell_type": "code",
   "execution_count": 93,
   "id": "89456153",
   "metadata": {},
   "outputs": [
    {
     "data": {
      "text/plain": [
       "np.float64(52.19539414750672)"
      ]
     },
     "execution_count": 93,
     "metadata": {},
     "output_type": "execute_result"
    }
   ],
   "source": [
    "(df[\"수축기혈압(최고) : mmHg\"] - df[\"이완기혈압(최저) : mmHg\"]).mean()"
   ]
  },
  {
   "cell_type": "markdown",
   "id": "f7562e69",
   "metadata": {},
   "source": [
    "##### 72. 50~59세의 신장평균을 구하여라"
   ]
  },
  {
   "cell_type": "code",
   "execution_count": 94,
   "id": "41f763fc",
   "metadata": {},
   "outputs": [
    {
     "data": {
      "text/plain": [
       "np.float64(164.07490107405314)"
      ]
     },
     "execution_count": 94,
     "metadata": {},
     "output_type": "execute_result"
    }
   ],
   "source": [
    "df[(df[\"측정나이\"] >= 50) & (df[\"측정나이\"] <= 59)][\"신장 : cm\"].mean()"
   ]
  },
  {
   "cell_type": "markdown",
   "id": "550802df",
   "metadata": {},
   "source": [
    "##### 73. 연령대 (20~29 : 20대 …) 별 인원수를 구하여라"
   ]
  },
  {
   "cell_type": "code",
   "execution_count": 95,
   "id": "f01f963a",
   "metadata": {},
   "outputs": [
    {
     "data": {
      "text/plain": [
       "연령대\n",
       "20.0    5831\n",
       "30.0    2660\n",
       "40.0    1801\n",
       "50.0    1769\n",
       "60.0    1335\n",
       "Name: count, dtype: int64"
      ]
     },
     "execution_count": 95,
     "metadata": {},
     "output_type": "execute_result"
    }
   ],
   "source": [
    "df[\"연령대\"]  = df[\"측정나이\"] // 10 * 10\n",
    "df[\"연령대\"].value_counts()"
   ]
  },
  {
   "cell_type": "markdown",
   "id": "b9496da3",
   "metadata": {},
   "source": [
    "##### 74. 연령대 (20~29 : 20대 …) 별 등급의 숫자를 데이터 프레임으로 표현하라"
   ]
  },
  {
   "cell_type": "code",
   "execution_count": 96,
   "id": "b1e59aec",
   "metadata": {},
   "outputs": [
    {
     "data": {
      "text/html": [
       "<div>\n",
       "<style scoped>\n",
       "    .dataframe tbody tr th:only-of-type {\n",
       "        vertical-align: middle;\n",
       "    }\n",
       "\n",
       "    .dataframe tbody tr th {\n",
       "        vertical-align: top;\n",
       "    }\n",
       "\n",
       "    .dataframe thead th {\n",
       "        text-align: right;\n",
       "    }\n",
       "</style>\n",
       "<table border=\"1\" class=\"dataframe\">\n",
       "  <thead>\n",
       "    <tr style=\"text-align: right;\">\n",
       "      <th></th>\n",
       "      <th>연령대</th>\n",
       "      <th>등급</th>\n",
       "      <th>size</th>\n",
       "    </tr>\n",
       "  </thead>\n",
       "  <tbody>\n",
       "    <tr>\n",
       "      <th>0</th>\n",
       "      <td>20.0</td>\n",
       "      <td>A</td>\n",
       "      <td>1585</td>\n",
       "    </tr>\n",
       "    <tr>\n",
       "      <th>1</th>\n",
       "      <td>20.0</td>\n",
       "      <td>B</td>\n",
       "      <td>1443</td>\n",
       "    </tr>\n",
       "    <tr>\n",
       "      <th>2</th>\n",
       "      <td>20.0</td>\n",
       "      <td>C</td>\n",
       "      <td>1455</td>\n",
       "    </tr>\n",
       "    <tr>\n",
       "      <th>3</th>\n",
       "      <td>20.0</td>\n",
       "      <td>D</td>\n",
       "      <td>1348</td>\n",
       "    </tr>\n",
       "    <tr>\n",
       "      <th>4</th>\n",
       "      <td>30.0</td>\n",
       "      <td>A</td>\n",
       "      <td>743</td>\n",
       "    </tr>\n",
       "    <tr>\n",
       "      <th>5</th>\n",
       "      <td>30.0</td>\n",
       "      <td>B</td>\n",
       "      <td>697</td>\n",
       "    </tr>\n",
       "    <tr>\n",
       "      <th>6</th>\n",
       "      <td>30.0</td>\n",
       "      <td>C</td>\n",
       "      <td>626</td>\n",
       "    </tr>\n",
       "    <tr>\n",
       "      <th>7</th>\n",
       "      <td>30.0</td>\n",
       "      <td>D</td>\n",
       "      <td>594</td>\n",
       "    </tr>\n",
       "    <tr>\n",
       "      <th>8</th>\n",
       "      <td>40.0</td>\n",
       "      <td>A</td>\n",
       "      <td>386</td>\n",
       "    </tr>\n",
       "    <tr>\n",
       "      <th>9</th>\n",
       "      <td>40.0</td>\n",
       "      <td>B</td>\n",
       "      <td>428</td>\n",
       "    </tr>\n",
       "    <tr>\n",
       "      <th>10</th>\n",
       "      <td>40.0</td>\n",
       "      <td>C</td>\n",
       "      <td>455</td>\n",
       "    </tr>\n",
       "    <tr>\n",
       "      <th>11</th>\n",
       "      <td>40.0</td>\n",
       "      <td>D</td>\n",
       "      <td>532</td>\n",
       "    </tr>\n",
       "    <tr>\n",
       "      <th>12</th>\n",
       "      <td>50.0</td>\n",
       "      <td>A</td>\n",
       "      <td>321</td>\n",
       "    </tr>\n",
       "    <tr>\n",
       "      <th>13</th>\n",
       "      <td>50.0</td>\n",
       "      <td>B</td>\n",
       "      <td>410</td>\n",
       "    </tr>\n",
       "    <tr>\n",
       "      <th>14</th>\n",
       "      <td>50.0</td>\n",
       "      <td>C</td>\n",
       "      <td>474</td>\n",
       "    </tr>\n",
       "    <tr>\n",
       "      <th>15</th>\n",
       "      <td>50.0</td>\n",
       "      <td>D</td>\n",
       "      <td>564</td>\n",
       "    </tr>\n",
       "    <tr>\n",
       "      <th>16</th>\n",
       "      <td>60.0</td>\n",
       "      <td>A</td>\n",
       "      <td>314</td>\n",
       "    </tr>\n",
       "    <tr>\n",
       "      <th>17</th>\n",
       "      <td>60.0</td>\n",
       "      <td>B</td>\n",
       "      <td>371</td>\n",
       "    </tr>\n",
       "    <tr>\n",
       "      <th>18</th>\n",
       "      <td>60.0</td>\n",
       "      <td>C</td>\n",
       "      <td>339</td>\n",
       "    </tr>\n",
       "    <tr>\n",
       "      <th>19</th>\n",
       "      <td>60.0</td>\n",
       "      <td>D</td>\n",
       "      <td>311</td>\n",
       "    </tr>\n",
       "  </tbody>\n",
       "</table>\n",
       "</div>"
      ],
      "text/plain": [
       "     연령대 등급  size\n",
       "0   20.0  A  1585\n",
       "1   20.0  B  1443\n",
       "2   20.0  C  1455\n",
       "3   20.0  D  1348\n",
       "4   30.0  A   743\n",
       "5   30.0  B   697\n",
       "6   30.0  C   626\n",
       "7   30.0  D   594\n",
       "8   40.0  A   386\n",
       "9   40.0  B   428\n",
       "10  40.0  C   455\n",
       "11  40.0  D   532\n",
       "12  50.0  A   321\n",
       "13  50.0  B   410\n",
       "14  50.0  C   474\n",
       "15  50.0  D   564\n",
       "16  60.0  A   314\n",
       "17  60.0  B   371\n",
       "18  60.0  C   339\n",
       "19  60.0  D   311"
      ]
     },
     "execution_count": 96,
     "metadata": {},
     "output_type": "execute_result"
    }
   ],
   "source": [
    "df.groupby(['연령대','등급'], as_index = False).size()"
   ]
  },
  {
   "cell_type": "code",
   "execution_count": 97,
   "id": "bbbfd1b8",
   "metadata": {},
   "outputs": [
    {
     "data": {
      "text/html": [
       "<div>\n",
       "<style scoped>\n",
       "    .dataframe tbody tr th:only-of-type {\n",
       "        vertical-align: middle;\n",
       "    }\n",
       "\n",
       "    .dataframe tbody tr th {\n",
       "        vertical-align: top;\n",
       "    }\n",
       "\n",
       "    .dataframe thead th {\n",
       "        text-align: right;\n",
       "    }\n",
       "</style>\n",
       "<table border=\"1\" class=\"dataframe\">\n",
       "  <thead>\n",
       "    <tr style=\"text-align: right;\">\n",
       "      <th></th>\n",
       "      <th>연령대</th>\n",
       "      <th>등급</th>\n",
       "      <th>size</th>\n",
       "    </tr>\n",
       "  </thead>\n",
       "  <tbody>\n",
       "    <tr>\n",
       "      <th>0</th>\n",
       "      <td>20.0</td>\n",
       "      <td>A</td>\n",
       "      <td>1585</td>\n",
       "    </tr>\n",
       "    <tr>\n",
       "      <th>1</th>\n",
       "      <td>20.0</td>\n",
       "      <td>C</td>\n",
       "      <td>1455</td>\n",
       "    </tr>\n",
       "    <tr>\n",
       "      <th>2</th>\n",
       "      <td>20.0</td>\n",
       "      <td>B</td>\n",
       "      <td>1443</td>\n",
       "    </tr>\n",
       "    <tr>\n",
       "      <th>3</th>\n",
       "      <td>20.0</td>\n",
       "      <td>D</td>\n",
       "      <td>1348</td>\n",
       "    </tr>\n",
       "    <tr>\n",
       "      <th>4</th>\n",
       "      <td>30.0</td>\n",
       "      <td>A</td>\n",
       "      <td>743</td>\n",
       "    </tr>\n",
       "    <tr>\n",
       "      <th>5</th>\n",
       "      <td>30.0</td>\n",
       "      <td>B</td>\n",
       "      <td>697</td>\n",
       "    </tr>\n",
       "    <tr>\n",
       "      <th>6</th>\n",
       "      <td>30.0</td>\n",
       "      <td>C</td>\n",
       "      <td>626</td>\n",
       "    </tr>\n",
       "    <tr>\n",
       "      <th>7</th>\n",
       "      <td>30.0</td>\n",
       "      <td>D</td>\n",
       "      <td>594</td>\n",
       "    </tr>\n",
       "    <tr>\n",
       "      <th>8</th>\n",
       "      <td>50.0</td>\n",
       "      <td>D</td>\n",
       "      <td>564</td>\n",
       "    </tr>\n",
       "    <tr>\n",
       "      <th>9</th>\n",
       "      <td>40.0</td>\n",
       "      <td>D</td>\n",
       "      <td>532</td>\n",
       "    </tr>\n",
       "    <tr>\n",
       "      <th>10</th>\n",
       "      <td>50.0</td>\n",
       "      <td>C</td>\n",
       "      <td>474</td>\n",
       "    </tr>\n",
       "    <tr>\n",
       "      <th>11</th>\n",
       "      <td>40.0</td>\n",
       "      <td>C</td>\n",
       "      <td>455</td>\n",
       "    </tr>\n",
       "    <tr>\n",
       "      <th>12</th>\n",
       "      <td>40.0</td>\n",
       "      <td>B</td>\n",
       "      <td>428</td>\n",
       "    </tr>\n",
       "    <tr>\n",
       "      <th>13</th>\n",
       "      <td>50.0</td>\n",
       "      <td>B</td>\n",
       "      <td>410</td>\n",
       "    </tr>\n",
       "    <tr>\n",
       "      <th>14</th>\n",
       "      <td>40.0</td>\n",
       "      <td>A</td>\n",
       "      <td>386</td>\n",
       "    </tr>\n",
       "    <tr>\n",
       "      <th>15</th>\n",
       "      <td>60.0</td>\n",
       "      <td>B</td>\n",
       "      <td>371</td>\n",
       "    </tr>\n",
       "    <tr>\n",
       "      <th>16</th>\n",
       "      <td>60.0</td>\n",
       "      <td>C</td>\n",
       "      <td>339</td>\n",
       "    </tr>\n",
       "    <tr>\n",
       "      <th>17</th>\n",
       "      <td>50.0</td>\n",
       "      <td>A</td>\n",
       "      <td>321</td>\n",
       "    </tr>\n",
       "    <tr>\n",
       "      <th>18</th>\n",
       "      <td>60.0</td>\n",
       "      <td>A</td>\n",
       "      <td>314</td>\n",
       "    </tr>\n",
       "    <tr>\n",
       "      <th>19</th>\n",
       "      <td>60.0</td>\n",
       "      <td>D</td>\n",
       "      <td>311</td>\n",
       "    </tr>\n",
       "  </tbody>\n",
       "</table>\n",
       "</div>"
      ],
      "text/plain": [
       "     연령대 등급  size\n",
       "0   20.0  A  1585\n",
       "1   20.0  C  1455\n",
       "2   20.0  B  1443\n",
       "3   20.0  D  1348\n",
       "4   30.0  A   743\n",
       "5   30.0  B   697\n",
       "6   30.0  C   626\n",
       "7   30.0  D   594\n",
       "8   50.0  D   564\n",
       "9   40.0  D   532\n",
       "10  50.0  C   474\n",
       "11  40.0  C   455\n",
       "12  40.0  B   428\n",
       "13  50.0  B   410\n",
       "14  40.0  A   386\n",
       "15  60.0  B   371\n",
       "16  60.0  C   339\n",
       "17  50.0  A   321\n",
       "18  60.0  A   314\n",
       "19  60.0  D   311"
      ]
     },
     "execution_count": 97,
     "metadata": {},
     "output_type": "execute_result"
    }
   ],
   "source": [
    "df[[\"연령대\", \"등급\"]].value_counts().reset_index(name = \"size\")"
   ]
  },
  {
   "cell_type": "markdown",
   "id": "df1323c7",
   "metadata": {},
   "source": [
    "##### 75. 남성 중 A등급과 D등급의 체지방률 평균의 차이(큰 값에서 작은 값의 차)를 구하여라"
   ]
  },
  {
   "cell_type": "code",
   "execution_count": 98,
   "id": "c0e754a1",
   "metadata": {},
   "outputs": [
    {
     "data": {
      "text/plain": [
       "np.float64(7.932086486137521)"
      ]
     },
     "execution_count": 98,
     "metadata": {},
     "output_type": "execute_result"
    }
   ],
   "source": [
    "target = df[df[\"측정회원성별\"] == \"M\"]\n",
    "abs(target[target[\"등급\"] == \"A\"][\"체지방율 : %\"].mean() - target[target[\"등급\"] == \"D\"][\"체지방율 : %\"].mean())"
   ]
  },
  {
   "cell_type": "markdown",
   "id": "f882ff49",
   "metadata": {},
   "source": [
    "##### 76. 여성 중 A등급과 D등급의 체중의 평균의 차이(큰 값에서 작은 값의 차)를 구하여라"
   ]
  },
  {
   "cell_type": "code",
   "execution_count": 99,
   "id": "f24620cf",
   "metadata": {},
   "outputs": [
    {
     "data": {
      "text/plain": [
       "np.float64(5.176211590296504)"
      ]
     },
     "execution_count": 99,
     "metadata": {},
     "output_type": "execute_result"
    }
   ],
   "source": [
    "target = df[df[\"측정회원성별\"] == \"F\"]\n",
    "abs(target[target[\"등급\"] == \"A\"][\"체중 : kg\"].mean() - target[target[\"등급\"] == \"D\"][\"체중 : kg\"].mean())"
   ]
  },
  {
   "cell_type": "markdown",
   "id": "99883cc6",
   "metadata": {},
   "source": [
    "##### 77. bmi는 자신의 몸무게(kg)를 키의 제곱(m)으로 나눈값이다. 데이터의 bmi 를 구한 새로운 컬럼을 만들고 남성의 bmi 평균을 구하여라"
   ]
  },
  {
   "cell_type": "code",
   "execution_count": 100,
   "id": "53f59853",
   "metadata": {},
   "outputs": [
    {
     "data": {
      "text/plain": [
       "np.float64(24.46134409819308)"
      ]
     },
     "execution_count": 100,
     "metadata": {},
     "output_type": "execute_result"
    }
   ],
   "source": [
    "df[\"bmi\"] = df[\"체중 : kg\"] / ((df[\"신장 : cm\"] / 100) ** 2)\n",
    "df[df[\"측정회원성별\"] == \"M\"][\"bmi\"].mean()"
   ]
  },
  {
   "cell_type": "markdown",
   "id": "aa5a5d7d",
   "metadata": {},
   "source": [
    "##### 78. bmi보다 체지방율이 높은 사람들의 체중평균을 구하여라"
   ]
  },
  {
   "cell_type": "code",
   "execution_count": 101,
   "id": "9d010f61",
   "metadata": {},
   "outputs": [
    {
     "data": {
      "text/plain": [
       "np.float64(61.7408806392542)"
      ]
     },
     "execution_count": 101,
     "metadata": {},
     "output_type": "execute_result"
    }
   ],
   "source": [
    "df[df[\"체지방율 : %\"] > df[\"bmi\"]][\"체중 : kg\"].mean()"
   ]
  },
  {
   "cell_type": "markdown",
   "id": "31e4acdd",
   "metadata": {},
   "source": [
    "##### 79. 남성과 여성의 악력 평균의 차이를 구하여라"
   ]
  },
  {
   "cell_type": "code",
   "execution_count": 102,
   "id": "211579bd",
   "metadata": {},
   "outputs": [
    {
     "data": {
      "text/plain": [
       "np.float64(17.55954185047465)"
      ]
     },
     "execution_count": 102,
     "metadata": {},
     "output_type": "execute_result"
    }
   ],
   "source": [
    "df[df[\"측정회원성별\"] == \"M\"][\"악력D : kg\"].mean() - df[df[\"측정회원성별\"] == \"F\"][\"악력D : kg\"].mean()"
   ]
  },
  {
   "cell_type": "markdown",
   "id": "7d2d78cf",
   "metadata": {},
   "source": [
    "##### 80. 남성과 여성의 교차윗몸일으키기 횟수의 평균의 차이를 구하여라"
   ]
  },
  {
   "cell_type": "code",
   "execution_count": 103,
   "id": "7742d677",
   "metadata": {},
   "outputs": [
    {
     "data": {
      "text/plain": [
       "np.float64(14.243156833157627)"
      ]
     },
     "execution_count": 103,
     "metadata": {},
     "output_type": "execute_result"
    }
   ],
   "source": [
    "df[df[\"측정회원성별\"] == \"M\"][\"교차윗몸일으키기 : 회\"].mean() - df[df[\"측정회원성별\"] == \"F\"][\"교차윗몸일으키기 : 회\"].mean()"
   ]
  },
  {
   "cell_type": "markdown",
   "id": "990f2dfa",
   "metadata": {},
   "source": [
    "# 기온 강수량 데이터\n",
    "데이터 출처 : https://data.kma.go.kr/cmmn/static/staticPage.do?page=intro  \n",
    "데이터 설명 : 2020년도 이화동(서울) , 수영동(부산)의 시간단위의 기온과 강수량  \n",
    "데이터 url : https://raw.githubusercontent.com/Datamanim/datarepo/main/weather/weather2.csv"
   ]
  },
  {
   "cell_type": "code",
   "execution_count": 104,
   "id": "2bf0b1a2",
   "metadata": {},
   "outputs": [
    {
     "data": {
      "text/html": [
       "<div>\n",
       "<style scoped>\n",
       "    .dataframe tbody tr th:only-of-type {\n",
       "        vertical-align: middle;\n",
       "    }\n",
       "\n",
       "    .dataframe tbody tr th {\n",
       "        vertical-align: top;\n",
       "    }\n",
       "\n",
       "    .dataframe thead th {\n",
       "        text-align: right;\n",
       "    }\n",
       "</style>\n",
       "<table border=\"1\" class=\"dataframe\">\n",
       "  <thead>\n",
       "    <tr style=\"text-align: right;\">\n",
       "      <th></th>\n",
       "      <th>time</th>\n",
       "      <th>이화동강수</th>\n",
       "      <th>이화동기온</th>\n",
       "      <th>수영동강수</th>\n",
       "      <th>수영동기온</th>\n",
       "    </tr>\n",
       "  </thead>\n",
       "  <tbody>\n",
       "    <tr>\n",
       "      <th>0</th>\n",
       "      <td>2020-01-01 00:00:00</td>\n",
       "      <td>0.1</td>\n",
       "      <td>-3.9</td>\n",
       "      <td>0.0</td>\n",
       "      <td>2.5</td>\n",
       "    </tr>\n",
       "    <tr>\n",
       "      <th>1</th>\n",
       "      <td>2020-01-01 01:00:00</td>\n",
       "      <td>0.0</td>\n",
       "      <td>-3.1</td>\n",
       "      <td>0.0</td>\n",
       "      <td>3.4</td>\n",
       "    </tr>\n",
       "    <tr>\n",
       "      <th>2</th>\n",
       "      <td>2020-01-01 02:00:00</td>\n",
       "      <td>0.0</td>\n",
       "      <td>-1.8</td>\n",
       "      <td>0.0</td>\n",
       "      <td>3.8</td>\n",
       "    </tr>\n",
       "    <tr>\n",
       "      <th>3</th>\n",
       "      <td>2020-01-01 03:00:00</td>\n",
       "      <td>0.0</td>\n",
       "      <td>-0.8</td>\n",
       "      <td>0.0</td>\n",
       "      <td>4.6</td>\n",
       "    </tr>\n",
       "    <tr>\n",
       "      <th>4</th>\n",
       "      <td>2020-01-01 04:00:00</td>\n",
       "      <td>0.0</td>\n",
       "      <td>-0.1</td>\n",
       "      <td>0.0</td>\n",
       "      <td>5.1</td>\n",
       "    </tr>\n",
       "    <tr>\n",
       "      <th>...</th>\n",
       "      <td>...</td>\n",
       "      <td>...</td>\n",
       "      <td>...</td>\n",
       "      <td>...</td>\n",
       "      <td>...</td>\n",
       "    </tr>\n",
       "    <tr>\n",
       "      <th>8779</th>\n",
       "      <td>2020-12-31 19:00:00</td>\n",
       "      <td>0.0</td>\n",
       "      <td>-9.5</td>\n",
       "      <td>0.0</td>\n",
       "      <td>-4.5</td>\n",
       "    </tr>\n",
       "    <tr>\n",
       "      <th>8780</th>\n",
       "      <td>2020-12-31 20:00:00</td>\n",
       "      <td>0.0</td>\n",
       "      <td>-9.5</td>\n",
       "      <td>0.0</td>\n",
       "      <td>-5.0</td>\n",
       "    </tr>\n",
       "    <tr>\n",
       "      <th>8781</th>\n",
       "      <td>2020-12-31 21:00:00</td>\n",
       "      <td>0.0</td>\n",
       "      <td>-9.3</td>\n",
       "      <td>0.0</td>\n",
       "      <td>-6.5</td>\n",
       "    </tr>\n",
       "    <tr>\n",
       "      <th>8782</th>\n",
       "      <td>2020-12-31 22:00:00</td>\n",
       "      <td>0.0</td>\n",
       "      <td>-9.2</td>\n",
       "      <td>0.0</td>\n",
       "      <td>-4.6</td>\n",
       "    </tr>\n",
       "    <tr>\n",
       "      <th>8783</th>\n",
       "      <td>2020-12-31 23:00:00</td>\n",
       "      <td>0.0</td>\n",
       "      <td>-7.8</td>\n",
       "      <td>0.0</td>\n",
       "      <td>-0.2</td>\n",
       "    </tr>\n",
       "  </tbody>\n",
       "</table>\n",
       "<p>8784 rows × 5 columns</p>\n",
       "</div>"
      ],
      "text/plain": [
       "                     time  이화동강수  이화동기온  수영동강수  수영동기온\n",
       "0     2020-01-01 00:00:00    0.1   -3.9    0.0    2.5\n",
       "1     2020-01-01 01:00:00    0.0   -3.1    0.0    3.4\n",
       "2     2020-01-01 02:00:00    0.0   -1.8    0.0    3.8\n",
       "3     2020-01-01 03:00:00    0.0   -0.8    0.0    4.6\n",
       "4     2020-01-01 04:00:00    0.0   -0.1    0.0    5.1\n",
       "...                   ...    ...    ...    ...    ...\n",
       "8779  2020-12-31 19:00:00    0.0   -9.5    0.0   -4.5\n",
       "8780  2020-12-31 20:00:00    0.0   -9.5    0.0   -5.0\n",
       "8781  2020-12-31 21:00:00    0.0   -9.3    0.0   -6.5\n",
       "8782  2020-12-31 22:00:00    0.0   -9.2    0.0   -4.6\n",
       "8783  2020-12-31 23:00:00    0.0   -7.8    0.0   -0.2\n",
       "\n",
       "[8784 rows x 5 columns]"
      ]
     },
     "execution_count": 104,
     "metadata": {},
     "output_type": "execute_result"
    }
   ],
   "source": [
    "df = pd.read_csv(\"https://raw.githubusercontent.com/Datamanim/datarepo/main/weather/weather2.csv\")\n",
    "df"
   ]
  },
  {
   "cell_type": "markdown",
   "id": "35386854",
   "metadata": {},
   "source": [
    "##### 81. 여름철(6월,7월,8월) 이화동이 수영동보다 높은 기온을 가진 시간대는 몇개인가?"
   ]
  },
  {
   "cell_type": "code",
   "execution_count": 105,
   "id": "595e6b18",
   "metadata": {},
   "outputs": [
    {
     "data": {
      "text/plain": [
       "1415"
      ]
     },
     "execution_count": 105,
     "metadata": {},
     "output_type": "execute_result"
    }
   ],
   "source": [
    "df[\"time\"] = pd.to_datetime(df[\"time\"])\n",
    "target = df[df[\"time\"].dt.month.isin([6, 7, 8])]\n",
    "len(target[target[\"이화동기온\"] > target[\"수영동기온\"]])"
   ]
  },
  {
   "cell_type": "markdown",
   "id": "fadc48df",
   "metadata": {},
   "source": [
    "##### 82. 이화동과 수영동의 최대강수량의 시간대를 각각 구하여라"
   ]
  },
  {
   "cell_type": "code",
   "execution_count": 106,
   "id": "b3a4776f",
   "metadata": {},
   "outputs": [
    {
     "name": "stdout",
     "output_type": "stream",
     "text": [
      "['2020-09-30T09:00:00.000000000'] ['2020-07-23T12:00:00.000000000']\n"
     ]
    }
   ],
   "source": [
    "print(df[df[\"이화동강수\"] == df[\"이화동강수\"].max()][\"time\"].values, df[df[\"수영동강수\"] == df[\"수영동강수\"].max()][\"time\"].values)"
   ]
  },
  {
   "cell_type": "markdown",
   "id": "878d967a",
   "metadata": {},
   "source": [
    "# 서비스 이탈예측 데이터\n",
    "데이터 출처 : https://www.kaggle.com/shubh0799/churn-modelling 에서 변형  \n",
    "데이터 설명 : 고객의 신상정보 데이터를 통한 회사 서비스 이탈 예측 (종속변수 : Exited)  \n",
    "Data url : https://raw.githubusercontent.com/Datamanim/datarepo/main/churn/train.csv"
   ]
  },
  {
   "cell_type": "code",
   "execution_count": 107,
   "id": "a462dc5d",
   "metadata": {},
   "outputs": [
    {
     "data": {
      "text/html": [
       "<div>\n",
       "<style scoped>\n",
       "    .dataframe tbody tr th:only-of-type {\n",
       "        vertical-align: middle;\n",
       "    }\n",
       "\n",
       "    .dataframe tbody tr th {\n",
       "        vertical-align: top;\n",
       "    }\n",
       "\n",
       "    .dataframe thead th {\n",
       "        text-align: right;\n",
       "    }\n",
       "</style>\n",
       "<table border=\"1\" class=\"dataframe\">\n",
       "  <thead>\n",
       "    <tr style=\"text-align: right;\">\n",
       "      <th></th>\n",
       "      <th>RowNumber</th>\n",
       "      <th>CustomerId</th>\n",
       "      <th>Surname</th>\n",
       "      <th>CreditScore</th>\n",
       "      <th>Geography</th>\n",
       "      <th>Gender</th>\n",
       "      <th>Age</th>\n",
       "      <th>Tenure</th>\n",
       "      <th>Balance</th>\n",
       "      <th>NumOfProducts</th>\n",
       "      <th>HasCrCard</th>\n",
       "      <th>IsActiveMember</th>\n",
       "      <th>EstimatedSalary</th>\n",
       "      <th>Exited</th>\n",
       "    </tr>\n",
       "  </thead>\n",
       "  <tbody>\n",
       "    <tr>\n",
       "      <th>0</th>\n",
       "      <td>6842</td>\n",
       "      <td>15793491</td>\n",
       "      <td>Cherkasova</td>\n",
       "      <td>714</td>\n",
       "      <td>Germany</td>\n",
       "      <td>Male</td>\n",
       "      <td>26</td>\n",
       "      <td>3</td>\n",
       "      <td>119545.48</td>\n",
       "      <td>2</td>\n",
       "      <td>1</td>\n",
       "      <td>0</td>\n",
       "      <td>65482.94</td>\n",
       "      <td>0</td>\n",
       "    </tr>\n",
       "    <tr>\n",
       "      <th>1</th>\n",
       "      <td>8963</td>\n",
       "      <td>15607874</td>\n",
       "      <td>Keane</td>\n",
       "      <td>687</td>\n",
       "      <td>France</td>\n",
       "      <td>Male</td>\n",
       "      <td>38</td>\n",
       "      <td>0</td>\n",
       "      <td>144450.58</td>\n",
       "      <td>1</td>\n",
       "      <td>0</td>\n",
       "      <td>1</td>\n",
       "      <td>137276.83</td>\n",
       "      <td>0</td>\n",
       "    </tr>\n",
       "    <tr>\n",
       "      <th>2</th>\n",
       "      <td>7047</td>\n",
       "      <td>15737627</td>\n",
       "      <td>Rivero</td>\n",
       "      <td>589</td>\n",
       "      <td>Germany</td>\n",
       "      <td>Female</td>\n",
       "      <td>20</td>\n",
       "      <td>2</td>\n",
       "      <td>121093.29</td>\n",
       "      <td>2</td>\n",
       "      <td>1</td>\n",
       "      <td>0</td>\n",
       "      <td>3529.72</td>\n",
       "      <td>0</td>\n",
       "    </tr>\n",
       "    <tr>\n",
       "      <th>3</th>\n",
       "      <td>7503</td>\n",
       "      <td>15697844</td>\n",
       "      <td>Whitehouse</td>\n",
       "      <td>721</td>\n",
       "      <td>Spain</td>\n",
       "      <td>Female</td>\n",
       "      <td>32</td>\n",
       "      <td>10</td>\n",
       "      <td>0.00</td>\n",
       "      <td>1</td>\n",
       "      <td>1</td>\n",
       "      <td>0</td>\n",
       "      <td>136119.96</td>\n",
       "      <td>1</td>\n",
       "    </tr>\n",
       "    <tr>\n",
       "      <th>4</th>\n",
       "      <td>3439</td>\n",
       "      <td>15722404</td>\n",
       "      <td>Carpenter</td>\n",
       "      <td>445</td>\n",
       "      <td>France</td>\n",
       "      <td>Female</td>\n",
       "      <td>30</td>\n",
       "      <td>3</td>\n",
       "      <td>0.00</td>\n",
       "      <td>2</td>\n",
       "      <td>1</td>\n",
       "      <td>1</td>\n",
       "      <td>127939.19</td>\n",
       "      <td>0</td>\n",
       "    </tr>\n",
       "    <tr>\n",
       "      <th>...</th>\n",
       "      <td>...</td>\n",
       "      <td>...</td>\n",
       "      <td>...</td>\n",
       "      <td>...</td>\n",
       "      <td>...</td>\n",
       "      <td>...</td>\n",
       "      <td>...</td>\n",
       "      <td>...</td>\n",
       "      <td>...</td>\n",
       "      <td>...</td>\n",
       "      <td>...</td>\n",
       "      <td>...</td>\n",
       "      <td>...</td>\n",
       "      <td>...</td>\n",
       "    </tr>\n",
       "    <tr>\n",
       "      <th>7994</th>\n",
       "      <td>1607</td>\n",
       "      <td>15714080</td>\n",
       "      <td>Goliwe</td>\n",
       "      <td>566</td>\n",
       "      <td>Germany</td>\n",
       "      <td>Female</td>\n",
       "      <td>40</td>\n",
       "      <td>2</td>\n",
       "      <td>97001.36</td>\n",
       "      <td>2</td>\n",
       "      <td>1</td>\n",
       "      <td>0</td>\n",
       "      <td>154486.01</td>\n",
       "      <td>0</td>\n",
       "    </tr>\n",
       "    <tr>\n",
       "      <th>7995</th>\n",
       "      <td>7744</td>\n",
       "      <td>15741643</td>\n",
       "      <td>Chiang</td>\n",
       "      <td>777</td>\n",
       "      <td>Germany</td>\n",
       "      <td>Male</td>\n",
       "      <td>35</td>\n",
       "      <td>7</td>\n",
       "      <td>122917.69</td>\n",
       "      <td>1</td>\n",
       "      <td>1</td>\n",
       "      <td>1</td>\n",
       "      <td>76169.68</td>\n",
       "      <td>0</td>\n",
       "    </tr>\n",
       "    <tr>\n",
       "      <th>7996</th>\n",
       "      <td>4231</td>\n",
       "      <td>15566660</td>\n",
       "      <td>Cole</td>\n",
       "      <td>670</td>\n",
       "      <td>France</td>\n",
       "      <td>Female</td>\n",
       "      <td>41</td>\n",
       "      <td>10</td>\n",
       "      <td>0.00</td>\n",
       "      <td>3</td>\n",
       "      <td>1</td>\n",
       "      <td>0</td>\n",
       "      <td>81602.02</td>\n",
       "      <td>0</td>\n",
       "    </tr>\n",
       "    <tr>\n",
       "      <th>7997</th>\n",
       "      <td>8870</td>\n",
       "      <td>15733597</td>\n",
       "      <td>Y?an</td>\n",
       "      <td>669</td>\n",
       "      <td>France</td>\n",
       "      <td>Female</td>\n",
       "      <td>41</td>\n",
       "      <td>0</td>\n",
       "      <td>150219.41</td>\n",
       "      <td>2</td>\n",
       "      <td>0</td>\n",
       "      <td>0</td>\n",
       "      <td>107839.03</td>\n",
       "      <td>0</td>\n",
       "    </tr>\n",
       "    <tr>\n",
       "      <th>7998</th>\n",
       "      <td>523</td>\n",
       "      <td>15595766</td>\n",
       "      <td>Watts</td>\n",
       "      <td>527</td>\n",
       "      <td>Spain</td>\n",
       "      <td>Male</td>\n",
       "      <td>37</td>\n",
       "      <td>5</td>\n",
       "      <td>93722.73</td>\n",
       "      <td>2</td>\n",
       "      <td>1</td>\n",
       "      <td>1</td>\n",
       "      <td>139093.73</td>\n",
       "      <td>0</td>\n",
       "    </tr>\n",
       "  </tbody>\n",
       "</table>\n",
       "<p>7999 rows × 14 columns</p>\n",
       "</div>"
      ],
      "text/plain": [
       "      RowNumber  CustomerId     Surname  CreditScore Geography  Gender  Age  \\\n",
       "0          6842    15793491  Cherkasova          714   Germany    Male   26   \n",
       "1          8963    15607874       Keane          687    France    Male   38   \n",
       "2          7047    15737627      Rivero          589   Germany  Female   20   \n",
       "3          7503    15697844  Whitehouse          721     Spain  Female   32   \n",
       "4          3439    15722404   Carpenter          445    France  Female   30   \n",
       "...         ...         ...         ...          ...       ...     ...  ...   \n",
       "7994       1607    15714080      Goliwe          566   Germany  Female   40   \n",
       "7995       7744    15741643      Chiang          777   Germany    Male   35   \n",
       "7996       4231    15566660        Cole          670    France  Female   41   \n",
       "7997       8870    15733597        Y?an          669    France  Female   41   \n",
       "7998        523    15595766       Watts          527     Spain    Male   37   \n",
       "\n",
       "      Tenure    Balance  NumOfProducts  HasCrCard  IsActiveMember  \\\n",
       "0          3  119545.48              2          1               0   \n",
       "1          0  144450.58              1          0               1   \n",
       "2          2  121093.29              2          1               0   \n",
       "3         10       0.00              1          1               0   \n",
       "4          3       0.00              2          1               1   \n",
       "...      ...        ...            ...        ...             ...   \n",
       "7994       2   97001.36              2          1               0   \n",
       "7995       7  122917.69              1          1               1   \n",
       "7996      10       0.00              3          1               0   \n",
       "7997       0  150219.41              2          0               0   \n",
       "7998       5   93722.73              2          1               1   \n",
       "\n",
       "      EstimatedSalary  Exited  \n",
       "0            65482.94       0  \n",
       "1           137276.83       0  \n",
       "2             3529.72       0  \n",
       "3           136119.96       1  \n",
       "4           127939.19       0  \n",
       "...               ...     ...  \n",
       "7994        154486.01       0  \n",
       "7995         76169.68       0  \n",
       "7996         81602.02       0  \n",
       "7997        107839.03       0  \n",
       "7998        139093.73       0  \n",
       "\n",
       "[7999 rows x 14 columns]"
      ]
     },
     "execution_count": 107,
     "metadata": {},
     "output_type": "execute_result"
    }
   ],
   "source": [
    "df = pd.read_csv(\"https://raw.githubusercontent.com/Datamanim/datarepo/main/churn/train.csv\")\n",
    "df"
   ]
  },
  {
   "cell_type": "markdown",
   "id": "dfbd248c",
   "metadata": {},
   "source": [
    "##### 83. ❌ 남성 이탈(Exited)이 가장 많은 국가(Geography)는 어디이고 이탈 인원은 몇명인가?"
   ]
  },
  {
   "cell_type": "code",
   "execution_count": 108,
   "id": "d6e36af9",
   "metadata": {},
   "outputs": [
    {
     "data": {
      "text/plain": [
       "Geography\n",
       "Germany    287\n",
       "Name: Exited, dtype: int64"
      ]
     },
     "execution_count": 108,
     "metadata": {},
     "output_type": "execute_result"
    }
   ],
   "source": [
    "df[df[\"Gender\"] == \"Male\"].groupby(\"Geography\").sum()[\"Exited\"].sort_values(ascending = False).head(1)"
   ]
  },
  {
   "cell_type": "markdown",
   "id": "e4ffcd4e",
   "metadata": {},
   "source": [
    "##### 84. 카드를 소유(HasCrCard ==1)하고 있으면서 활성멤버(IsActiveMember ==1) 인 고객들의 평균 나이를 소숫점이하 4자리까지 구하여라"
   ]
  },
  {
   "cell_type": "code",
   "execution_count": 109,
   "id": "41f6b33c",
   "metadata": {},
   "outputs": [
    {
     "data": {
      "text/plain": [
       "np.float64(39.6102)"
      ]
     },
     "execution_count": 109,
     "metadata": {},
     "output_type": "execute_result"
    }
   ],
   "source": [
    "round(df.loc[(df[\"HasCrCard\"] == 1) & (df[\"IsActiveMember\"] == 1)][\"Age\"].mean(), 4)"
   ]
  },
  {
   "cell_type": "markdown",
   "id": "d9832fcc",
   "metadata": {},
   "source": [
    "##### 85. Balance 값이 중간값 이상을 가지는 고객들의 CreditScore의 표준편차를 소숫점이하 3자리까지 구하여라"
   ]
  },
  {
   "cell_type": "code",
   "execution_count": 110,
   "id": "f96c1537",
   "metadata": {},
   "outputs": [
    {
     "data": {
      "text/plain": [
       "np.float64(97.295)"
      ]
     },
     "execution_count": 110,
     "metadata": {},
     "output_type": "execute_result"
    }
   ],
   "source": [
    "round(df[df[\"Balance\"] >= df[\"Balance\"].median()][\"CreditScore\"].std(), 3)"
   ]
  },
  {
   "cell_type": "markdown",
   "id": "e2b651d0",
   "metadata": {},
   "source": [
    "# 성인 건강검진 데이터\n",
    "데이터 출처 :https://www.data.go.kr/data/15007122/fileData.do (참고, 데이터 수정)  \n",
    "데이터 설명 : 2018년도 성인의 건강검 진데이터 (흡연상태 1- 흡연, 0-비흡연 )  \n",
    "데이터 url : https://raw.githubusercontent.com/Datamanim/datarepo/main/smoke/train.csv"
   ]
  },
  {
   "cell_type": "code",
   "execution_count": 111,
   "id": "0ef83b43",
   "metadata": {},
   "outputs": [
    {
     "data": {
      "text/html": [
       "<div>\n",
       "<style scoped>\n",
       "    .dataframe tbody tr th:only-of-type {\n",
       "        vertical-align: middle;\n",
       "    }\n",
       "\n",
       "    .dataframe tbody tr th {\n",
       "        vertical-align: top;\n",
       "    }\n",
       "\n",
       "    .dataframe thead th {\n",
       "        text-align: right;\n",
       "    }\n",
       "</style>\n",
       "<table border=\"1\" class=\"dataframe\">\n",
       "  <thead>\n",
       "    <tr style=\"text-align: right;\">\n",
       "      <th></th>\n",
       "      <th>성별코드</th>\n",
       "      <th>연령대코드(5세단위)</th>\n",
       "      <th>신장(5Cm단위)</th>\n",
       "      <th>체중(5Kg단위)</th>\n",
       "      <th>허리둘레</th>\n",
       "      <th>시력(좌)</th>\n",
       "      <th>시력(우)</th>\n",
       "      <th>청력(좌)</th>\n",
       "      <th>청력(우)</th>\n",
       "      <th>수축기혈압</th>\n",
       "      <th>...</th>\n",
       "      <th>혈색소</th>\n",
       "      <th>요단백</th>\n",
       "      <th>혈청크레아티닌</th>\n",
       "      <th>(혈청지오티)AST</th>\n",
       "      <th>(혈청지오티)ALT</th>\n",
       "      <th>감마지티피</th>\n",
       "      <th>흡연상태</th>\n",
       "      <th>구강검진수검여부</th>\n",
       "      <th>치아우식증유무</th>\n",
       "      <th>치석</th>\n",
       "    </tr>\n",
       "  </thead>\n",
       "  <tbody>\n",
       "    <tr>\n",
       "      <th>0</th>\n",
       "      <td>F</td>\n",
       "      <td>55</td>\n",
       "      <td>145</td>\n",
       "      <td>55</td>\n",
       "      <td>73.0</td>\n",
       "      <td>0.7</td>\n",
       "      <td>0.5</td>\n",
       "      <td>1.0</td>\n",
       "      <td>1.0</td>\n",
       "      <td>129.0</td>\n",
       "      <td>...</td>\n",
       "      <td>12.9</td>\n",
       "      <td>1.0</td>\n",
       "      <td>0.9</td>\n",
       "      <td>172.0</td>\n",
       "      <td>209.0</td>\n",
       "      <td>15.0</td>\n",
       "      <td>0</td>\n",
       "      <td>Y</td>\n",
       "      <td>0.0</td>\n",
       "      <td>Y</td>\n",
       "    </tr>\n",
       "    <tr>\n",
       "      <th>1</th>\n",
       "      <td>M</td>\n",
       "      <td>40</td>\n",
       "      <td>180</td>\n",
       "      <td>55</td>\n",
       "      <td>74.0</td>\n",
       "      <td>1.5</td>\n",
       "      <td>1.5</td>\n",
       "      <td>1.0</td>\n",
       "      <td>1.0</td>\n",
       "      <td>102.0</td>\n",
       "      <td>...</td>\n",
       "      <td>15.6</td>\n",
       "      <td>1.0</td>\n",
       "      <td>0.8</td>\n",
       "      <td>30.0</td>\n",
       "      <td>19.0</td>\n",
       "      <td>23.0</td>\n",
       "      <td>1</td>\n",
       "      <td>Y</td>\n",
       "      <td>0.0</td>\n",
       "      <td>Y</td>\n",
       "    </tr>\n",
       "    <tr>\n",
       "      <th>2</th>\n",
       "      <td>F</td>\n",
       "      <td>55</td>\n",
       "      <td>150</td>\n",
       "      <td>50</td>\n",
       "      <td>72.0</td>\n",
       "      <td>1.0</td>\n",
       "      <td>0.2</td>\n",
       "      <td>1.0</td>\n",
       "      <td>1.0</td>\n",
       "      <td>116.0</td>\n",
       "      <td>...</td>\n",
       "      <td>14.1</td>\n",
       "      <td>1.0</td>\n",
       "      <td>1.0</td>\n",
       "      <td>31.0</td>\n",
       "      <td>19.0</td>\n",
       "      <td>10.0</td>\n",
       "      <td>0</td>\n",
       "      <td>Y</td>\n",
       "      <td>0.0</td>\n",
       "      <td>N</td>\n",
       "    </tr>\n",
       "    <tr>\n",
       "      <th>3</th>\n",
       "      <td>M</td>\n",
       "      <td>40</td>\n",
       "      <td>170</td>\n",
       "      <td>85</td>\n",
       "      <td>89.0</td>\n",
       "      <td>1.0</td>\n",
       "      <td>0.8</td>\n",
       "      <td>1.0</td>\n",
       "      <td>1.0</td>\n",
       "      <td>124.0</td>\n",
       "      <td>...</td>\n",
       "      <td>16.7</td>\n",
       "      <td>1.0</td>\n",
       "      <td>1.0</td>\n",
       "      <td>26.0</td>\n",
       "      <td>38.0</td>\n",
       "      <td>108.0</td>\n",
       "      <td>1</td>\n",
       "      <td>Y</td>\n",
       "      <td>1.0</td>\n",
       "      <td>Y</td>\n",
       "    </tr>\n",
       "    <tr>\n",
       "      <th>4</th>\n",
       "      <td>F</td>\n",
       "      <td>40</td>\n",
       "      <td>155</td>\n",
       "      <td>45</td>\n",
       "      <td>62.0</td>\n",
       "      <td>0.5</td>\n",
       "      <td>1.0</td>\n",
       "      <td>1.0</td>\n",
       "      <td>1.0</td>\n",
       "      <td>127.0</td>\n",
       "      <td>...</td>\n",
       "      <td>12.9</td>\n",
       "      <td>1.0</td>\n",
       "      <td>0.7</td>\n",
       "      <td>20.0</td>\n",
       "      <td>11.0</td>\n",
       "      <td>13.0</td>\n",
       "      <td>0</td>\n",
       "      <td>Y</td>\n",
       "      <td>0.0</td>\n",
       "      <td>N</td>\n",
       "    </tr>\n",
       "    <tr>\n",
       "      <th>...</th>\n",
       "      <td>...</td>\n",
       "      <td>...</td>\n",
       "      <td>...</td>\n",
       "      <td>...</td>\n",
       "      <td>...</td>\n",
       "      <td>...</td>\n",
       "      <td>...</td>\n",
       "      <td>...</td>\n",
       "      <td>...</td>\n",
       "      <td>...</td>\n",
       "      <td>...</td>\n",
       "      <td>...</td>\n",
       "      <td>...</td>\n",
       "      <td>...</td>\n",
       "      <td>...</td>\n",
       "      <td>...</td>\n",
       "      <td>...</td>\n",
       "      <td>...</td>\n",
       "      <td>...</td>\n",
       "      <td>...</td>\n",
       "      <td>...</td>\n",
       "    </tr>\n",
       "    <tr>\n",
       "      <th>44548</th>\n",
       "      <td>F</td>\n",
       "      <td>60</td>\n",
       "      <td>145</td>\n",
       "      <td>50</td>\n",
       "      <td>87.0</td>\n",
       "      <td>1.0</td>\n",
       "      <td>1.0</td>\n",
       "      <td>1.0</td>\n",
       "      <td>1.0</td>\n",
       "      <td>140.0</td>\n",
       "      <td>...</td>\n",
       "      <td>12.3</td>\n",
       "      <td>1.0</td>\n",
       "      <td>0.5</td>\n",
       "      <td>24.0</td>\n",
       "      <td>32.0</td>\n",
       "      <td>15.0</td>\n",
       "      <td>0</td>\n",
       "      <td>Y</td>\n",
       "      <td>1.0</td>\n",
       "      <td>Y</td>\n",
       "    </tr>\n",
       "    <tr>\n",
       "      <th>44549</th>\n",
       "      <td>M</td>\n",
       "      <td>40</td>\n",
       "      <td>175</td>\n",
       "      <td>75</td>\n",
       "      <td>88.0</td>\n",
       "      <td>1.5</td>\n",
       "      <td>1.2</td>\n",
       "      <td>1.0</td>\n",
       "      <td>1.0</td>\n",
       "      <td>139.0</td>\n",
       "      <td>...</td>\n",
       "      <td>15.3</td>\n",
       "      <td>1.0</td>\n",
       "      <td>0.8</td>\n",
       "      <td>62.0</td>\n",
       "      <td>106.0</td>\n",
       "      <td>49.0</td>\n",
       "      <td>1</td>\n",
       "      <td>Y</td>\n",
       "      <td>0.0</td>\n",
       "      <td>Y</td>\n",
       "    </tr>\n",
       "    <tr>\n",
       "      <th>44550</th>\n",
       "      <td>F</td>\n",
       "      <td>60</td>\n",
       "      <td>150</td>\n",
       "      <td>55</td>\n",
       "      <td>82.0</td>\n",
       "      <td>0.9</td>\n",
       "      <td>0.9</td>\n",
       "      <td>1.0</td>\n",
       "      <td>1.0</td>\n",
       "      <td>124.0</td>\n",
       "      <td>...</td>\n",
       "      <td>14.1</td>\n",
       "      <td>1.0</td>\n",
       "      <td>0.5</td>\n",
       "      <td>38.0</td>\n",
       "      <td>34.0</td>\n",
       "      <td>26.0</td>\n",
       "      <td>0</td>\n",
       "      <td>Y</td>\n",
       "      <td>0.0</td>\n",
       "      <td>Y</td>\n",
       "    </tr>\n",
       "    <tr>\n",
       "      <th>44551</th>\n",
       "      <td>M</td>\n",
       "      <td>40</td>\n",
       "      <td>170</td>\n",
       "      <td>50</td>\n",
       "      <td>69.0</td>\n",
       "      <td>0.4</td>\n",
       "      <td>1.2</td>\n",
       "      <td>1.0</td>\n",
       "      <td>1.0</td>\n",
       "      <td>117.0</td>\n",
       "      <td>...</td>\n",
       "      <td>14.2</td>\n",
       "      <td>1.0</td>\n",
       "      <td>0.9</td>\n",
       "      <td>22.0</td>\n",
       "      <td>17.0</td>\n",
       "      <td>55.0</td>\n",
       "      <td>1</td>\n",
       "      <td>Y</td>\n",
       "      <td>0.0</td>\n",
       "      <td>N</td>\n",
       "    </tr>\n",
       "    <tr>\n",
       "      <th>44552</th>\n",
       "      <td>F</td>\n",
       "      <td>40</td>\n",
       "      <td>155</td>\n",
       "      <td>50</td>\n",
       "      <td>72.5</td>\n",
       "      <td>1.0</td>\n",
       "      <td>1.0</td>\n",
       "      <td>1.0</td>\n",
       "      <td>1.0</td>\n",
       "      <td>109.0</td>\n",
       "      <td>...</td>\n",
       "      <td>11.7</td>\n",
       "      <td>1.0</td>\n",
       "      <td>0.6</td>\n",
       "      <td>16.0</td>\n",
       "      <td>10.0</td>\n",
       "      <td>7.0</td>\n",
       "      <td>0</td>\n",
       "      <td>Y</td>\n",
       "      <td>0.0</td>\n",
       "      <td>N</td>\n",
       "    </tr>\n",
       "  </tbody>\n",
       "</table>\n",
       "<p>44553 rows × 26 columns</p>\n",
       "</div>"
      ],
      "text/plain": [
       "      성별코드  연령대코드(5세단위)  신장(5Cm단위)  체중(5Kg단위)  허리둘레  시력(좌)  시력(우)  청력(좌)  \\\n",
       "0        F           55        145         55  73.0    0.7    0.5    1.0   \n",
       "1        M           40        180         55  74.0    1.5    1.5    1.0   \n",
       "2        F           55        150         50  72.0    1.0    0.2    1.0   \n",
       "3        M           40        170         85  89.0    1.0    0.8    1.0   \n",
       "4        F           40        155         45  62.0    0.5    1.0    1.0   \n",
       "...    ...          ...        ...        ...   ...    ...    ...    ...   \n",
       "44548    F           60        145         50  87.0    1.0    1.0    1.0   \n",
       "44549    M           40        175         75  88.0    1.5    1.2    1.0   \n",
       "44550    F           60        150         55  82.0    0.9    0.9    1.0   \n",
       "44551    M           40        170         50  69.0    0.4    1.2    1.0   \n",
       "44552    F           40        155         50  72.5    1.0    1.0    1.0   \n",
       "\n",
       "       청력(우)  수축기혈압  ...   혈색소  요단백  혈청크레아티닌  (혈청지오티)AST  (혈청지오티)ALT  감마지티피  \\\n",
       "0        1.0  129.0  ...  12.9  1.0      0.9       172.0       209.0   15.0   \n",
       "1        1.0  102.0  ...  15.6  1.0      0.8        30.0        19.0   23.0   \n",
       "2        1.0  116.0  ...  14.1  1.0      1.0        31.0        19.0   10.0   \n",
       "3        1.0  124.0  ...  16.7  1.0      1.0        26.0        38.0  108.0   \n",
       "4        1.0  127.0  ...  12.9  1.0      0.7        20.0        11.0   13.0   \n",
       "...      ...    ...  ...   ...  ...      ...         ...         ...    ...   \n",
       "44548    1.0  140.0  ...  12.3  1.0      0.5        24.0        32.0   15.0   \n",
       "44549    1.0  139.0  ...  15.3  1.0      0.8        62.0       106.0   49.0   \n",
       "44550    1.0  124.0  ...  14.1  1.0      0.5        38.0        34.0   26.0   \n",
       "44551    1.0  117.0  ...  14.2  1.0      0.9        22.0        17.0   55.0   \n",
       "44552    1.0  109.0  ...  11.7  1.0      0.6        16.0        10.0    7.0   \n",
       "\n",
       "       흡연상태  구강검진수검여부  치아우식증유무  치석  \n",
       "0         0         Y      0.0   Y  \n",
       "1         1         Y      0.0   Y  \n",
       "2         0         Y      0.0   N  \n",
       "3         1         Y      1.0   Y  \n",
       "4         0         Y      0.0   N  \n",
       "...     ...       ...      ...  ..  \n",
       "44548     0         Y      1.0   Y  \n",
       "44549     1         Y      0.0   Y  \n",
       "44550     0         Y      0.0   Y  \n",
       "44551     1         Y      0.0   N  \n",
       "44552     0         Y      0.0   N  \n",
       "\n",
       "[44553 rows x 26 columns]"
      ]
     },
     "execution_count": 111,
     "metadata": {},
     "output_type": "execute_result"
    }
   ],
   "source": [
    "df = pd.read_csv(\"https://raw.githubusercontent.com/Datamanim/datarepo/main/smoke/train.csv\")\n",
    "df"
   ]
  },
  {
   "cell_type": "markdown",
   "id": "ed835720",
   "metadata": {},
   "source": [
    "##### 86. 수축기혈압과 이완기 혈압기 수치의 차이를 새로운 컬럼(‘혈압차’) 으로 생성하고, 연령대 코드별 각 그룹 중 ‘혈압차’ 의 분산이 5번째로 큰 연령대 코드를 구하여라"
   ]
  },
  {
   "cell_type": "code",
   "execution_count": 112,
   "id": "a853d9e3",
   "metadata": {},
   "outputs": [
    {
     "data": {
      "text/plain": [
       "np.int64(60)"
      ]
     },
     "execution_count": 112,
     "metadata": {},
     "output_type": "execute_result"
    }
   ],
   "source": [
    "df[\"혈압차\"] = df[\"수축기혈압\"] - df[\"이완기혈압\"]\n",
    "df.groupby(\"연령대코드(5세단위)\")[\"혈압차\"].var().sort_values(ascending = False).index[4]"
   ]
  },
  {
   "cell_type": "markdown",
   "id": "58984883",
   "metadata": {},
   "source": [
    "##### 87. ❌ 비만도를 나타내는 지표인 WHtR는 허리둘레 / 키로 표현한다. 일반적으로 0.58이상이면 비만으로 분류한다. 데이터중 WHtR 지표상 비만인 인원의 남/여 비율을 구하여라"
   ]
  },
  {
   "cell_type": "code",
   "execution_count": 113,
   "id": "f036d424",
   "metadata": {},
   "outputs": [
    {
     "data": {
      "text/plain": [
       "np.float64(1.1693877551020408)"
      ]
     },
     "execution_count": 113,
     "metadata": {},
     "output_type": "execute_result"
    }
   ],
   "source": [
    "df[\"WHtR\"] = df[\"허리둘레\"] / df[\"신장(5Cm단위)\"]\n",
    "res = df[df[\"WHtR\"] >= 0.58][\"성별코드\"].value_counts()\n",
    "res[\"M\"] / res[\"F\"]"
   ]
  },
  {
   "cell_type": "markdown",
   "id": "36bf4db1",
   "metadata": {},
   "source": [
    "# 자동차 보험가입 예측데이터\n",
    "데이터 출처 :https://www.kaggle.com/anmolkumar/health-insurance-cross-sell-prediction(참고, 데이터 수정)  \n",
    "데이터 설명 : 자동차 보험 가입 예측  \n",
    "Data url : https://raw.githubusercontent.com/Datamanim/datarepo/main/insurance/train.csv"
   ]
  },
  {
   "cell_type": "code",
   "execution_count": 114,
   "id": "9eefb140",
   "metadata": {},
   "outputs": [
    {
     "data": {
      "text/html": [
       "<div>\n",
       "<style scoped>\n",
       "    .dataframe tbody tr th:only-of-type {\n",
       "        vertical-align: middle;\n",
       "    }\n",
       "\n",
       "    .dataframe tbody tr th {\n",
       "        vertical-align: top;\n",
       "    }\n",
       "\n",
       "    .dataframe thead th {\n",
       "        text-align: right;\n",
       "    }\n",
       "</style>\n",
       "<table border=\"1\" class=\"dataframe\">\n",
       "  <thead>\n",
       "    <tr style=\"text-align: right;\">\n",
       "      <th></th>\n",
       "      <th>id</th>\n",
       "      <th>Gender</th>\n",
       "      <th>Age</th>\n",
       "      <th>Driving_License</th>\n",
       "      <th>Region_Code</th>\n",
       "      <th>Previously_Insured</th>\n",
       "      <th>Vehicle_Age</th>\n",
       "      <th>Vehicle_Damage</th>\n",
       "      <th>Annual_Premium</th>\n",
       "      <th>Policy_Sales_Channel</th>\n",
       "      <th>Vintage</th>\n",
       "      <th>Response</th>\n",
       "    </tr>\n",
       "  </thead>\n",
       "  <tbody>\n",
       "    <tr>\n",
       "      <th>0</th>\n",
       "      <td>188957</td>\n",
       "      <td>Female</td>\n",
       "      <td>25</td>\n",
       "      <td>1</td>\n",
       "      <td>17.0</td>\n",
       "      <td>1</td>\n",
       "      <td>&lt; 1 Year</td>\n",
       "      <td>No</td>\n",
       "      <td>38785.0</td>\n",
       "      <td>152.0</td>\n",
       "      <td>59</td>\n",
       "      <td>0</td>\n",
       "    </tr>\n",
       "    <tr>\n",
       "      <th>1</th>\n",
       "      <td>275631</td>\n",
       "      <td>Male</td>\n",
       "      <td>20</td>\n",
       "      <td>1</td>\n",
       "      <td>22.0</td>\n",
       "      <td>0</td>\n",
       "      <td>&lt; 1 Year</td>\n",
       "      <td>No</td>\n",
       "      <td>2630.0</td>\n",
       "      <td>160.0</td>\n",
       "      <td>113</td>\n",
       "      <td>0</td>\n",
       "    </tr>\n",
       "    <tr>\n",
       "      <th>2</th>\n",
       "      <td>329036</td>\n",
       "      <td>Female</td>\n",
       "      <td>40</td>\n",
       "      <td>1</td>\n",
       "      <td>41.0</td>\n",
       "      <td>0</td>\n",
       "      <td>1-2 Year</td>\n",
       "      <td>Yes</td>\n",
       "      <td>33165.0</td>\n",
       "      <td>124.0</td>\n",
       "      <td>188</td>\n",
       "      <td>0</td>\n",
       "    </tr>\n",
       "    <tr>\n",
       "      <th>3</th>\n",
       "      <td>227288</td>\n",
       "      <td>Female</td>\n",
       "      <td>28</td>\n",
       "      <td>1</td>\n",
       "      <td>30.0</td>\n",
       "      <td>1</td>\n",
       "      <td>&lt; 1 Year</td>\n",
       "      <td>No</td>\n",
       "      <td>29038.0</td>\n",
       "      <td>152.0</td>\n",
       "      <td>233</td>\n",
       "      <td>0</td>\n",
       "    </tr>\n",
       "    <tr>\n",
       "      <th>4</th>\n",
       "      <td>300441</td>\n",
       "      <td>Female</td>\n",
       "      <td>50</td>\n",
       "      <td>1</td>\n",
       "      <td>28.0</td>\n",
       "      <td>0</td>\n",
       "      <td>1-2 Year</td>\n",
       "      <td>Yes</td>\n",
       "      <td>31325.0</td>\n",
       "      <td>124.0</td>\n",
       "      <td>258</td>\n",
       "      <td>0</td>\n",
       "    </tr>\n",
       "    <tr>\n",
       "      <th>...</th>\n",
       "      <td>...</td>\n",
       "      <td>...</td>\n",
       "      <td>...</td>\n",
       "      <td>...</td>\n",
       "      <td>...</td>\n",
       "      <td>...</td>\n",
       "      <td>...</td>\n",
       "      <td>...</td>\n",
       "      <td>...</td>\n",
       "      <td>...</td>\n",
       "      <td>...</td>\n",
       "      <td>...</td>\n",
       "    </tr>\n",
       "    <tr>\n",
       "      <th>304882</th>\n",
       "      <td>351529</td>\n",
       "      <td>Male</td>\n",
       "      <td>75</td>\n",
       "      <td>1</td>\n",
       "      <td>33.0</td>\n",
       "      <td>0</td>\n",
       "      <td>1-2 Year</td>\n",
       "      <td>Yes</td>\n",
       "      <td>32412.0</td>\n",
       "      <td>26.0</td>\n",
       "      <td>296</td>\n",
       "      <td>1</td>\n",
       "    </tr>\n",
       "    <tr>\n",
       "      <th>304883</th>\n",
       "      <td>287917</td>\n",
       "      <td>Male</td>\n",
       "      <td>57</td>\n",
       "      <td>1</td>\n",
       "      <td>28.0</td>\n",
       "      <td>1</td>\n",
       "      <td>1-2 Year</td>\n",
       "      <td>No</td>\n",
       "      <td>44602.0</td>\n",
       "      <td>52.0</td>\n",
       "      <td>135</td>\n",
       "      <td>0</td>\n",
       "    </tr>\n",
       "    <tr>\n",
       "      <th>304884</th>\n",
       "      <td>21023</td>\n",
       "      <td>Female</td>\n",
       "      <td>40</td>\n",
       "      <td>1</td>\n",
       "      <td>35.0</td>\n",
       "      <td>0</td>\n",
       "      <td>1-2 Year</td>\n",
       "      <td>Yes</td>\n",
       "      <td>38779.0</td>\n",
       "      <td>26.0</td>\n",
       "      <td>293</td>\n",
       "      <td>0</td>\n",
       "    </tr>\n",
       "    <tr>\n",
       "      <th>304885</th>\n",
       "      <td>67340</td>\n",
       "      <td>Male</td>\n",
       "      <td>24</td>\n",
       "      <td>1</td>\n",
       "      <td>41.0</td>\n",
       "      <td>0</td>\n",
       "      <td>&lt; 1 Year</td>\n",
       "      <td>Yes</td>\n",
       "      <td>26669.0</td>\n",
       "      <td>152.0</td>\n",
       "      <td>29</td>\n",
       "      <td>0</td>\n",
       "    </tr>\n",
       "    <tr>\n",
       "      <th>304886</th>\n",
       "      <td>127164</td>\n",
       "      <td>Female</td>\n",
       "      <td>22</td>\n",
       "      <td>1</td>\n",
       "      <td>50.0</td>\n",
       "      <td>1</td>\n",
       "      <td>&lt; 1 Year</td>\n",
       "      <td>No</td>\n",
       "      <td>35063.0</td>\n",
       "      <td>152.0</td>\n",
       "      <td>184</td>\n",
       "      <td>0</td>\n",
       "    </tr>\n",
       "  </tbody>\n",
       "</table>\n",
       "<p>304887 rows × 12 columns</p>\n",
       "</div>"
      ],
      "text/plain": [
       "            id  Gender  Age  Driving_License  Region_Code  Previously_Insured  \\\n",
       "0       188957  Female   25                1         17.0                   1   \n",
       "1       275631    Male   20                1         22.0                   0   \n",
       "2       329036  Female   40                1         41.0                   0   \n",
       "3       227288  Female   28                1         30.0                   1   \n",
       "4       300441  Female   50                1         28.0                   0   \n",
       "...        ...     ...  ...              ...          ...                 ...   \n",
       "304882  351529    Male   75                1         33.0                   0   \n",
       "304883  287917    Male   57                1         28.0                   1   \n",
       "304884   21023  Female   40                1         35.0                   0   \n",
       "304885   67340    Male   24                1         41.0                   0   \n",
       "304886  127164  Female   22                1         50.0                   1   \n",
       "\n",
       "       Vehicle_Age Vehicle_Damage  Annual_Premium  Policy_Sales_Channel  \\\n",
       "0         < 1 Year             No         38785.0                 152.0   \n",
       "1         < 1 Year             No          2630.0                 160.0   \n",
       "2         1-2 Year            Yes         33165.0                 124.0   \n",
       "3         < 1 Year             No         29038.0                 152.0   \n",
       "4         1-2 Year            Yes         31325.0                 124.0   \n",
       "...            ...            ...             ...                   ...   \n",
       "304882    1-2 Year            Yes         32412.0                  26.0   \n",
       "304883    1-2 Year             No         44602.0                  52.0   \n",
       "304884    1-2 Year            Yes         38779.0                  26.0   \n",
       "304885    < 1 Year            Yes         26669.0                 152.0   \n",
       "304886    < 1 Year             No         35063.0                 152.0   \n",
       "\n",
       "        Vintage  Response  \n",
       "0            59         0  \n",
       "1           113         0  \n",
       "2           188         0  \n",
       "3           233         0  \n",
       "4           258         0  \n",
       "...         ...       ...  \n",
       "304882      296         1  \n",
       "304883      135         0  \n",
       "304884      293         0  \n",
       "304885       29         0  \n",
       "304886      184         0  \n",
       "\n",
       "[304887 rows x 12 columns]"
      ]
     },
     "execution_count": 114,
     "metadata": {},
     "output_type": "execute_result"
    }
   ],
   "source": [
    "df = pd.read_csv(\"https://raw.githubusercontent.com/Datamanim/datarepo/main/insurance/train.csv\")\n",
    "df"
   ]
  },
  {
   "cell_type": "markdown",
   "id": "db34bcd2",
   "metadata": {},
   "source": [
    "##### 88. Vehicle_Age 값이 2년 이상인 사람들만 필터링 하고 그중에서 Annual_Premium 값이 전체 데이터의 중간값 이상인 사람들을 찾고, 그들의 Vintage값의 평균을 구하여라"
   ]
  },
  {
   "cell_type": "code",
   "execution_count": 115,
   "id": "905cb98d",
   "metadata": {},
   "outputs": [
    {
     "data": {
      "text/plain": [
       "np.float64(154.43647182359118)"
      ]
     },
     "execution_count": 115,
     "metadata": {},
     "output_type": "execute_result"
    }
   ],
   "source": [
    "df[(df[\"Vehicle_Age\"]==\"> 2 Years\") & (df[\"Annual_Premium\"] >= df[\"Annual_Premium\"].median())][\"Vintage\"].mean()"
   ]
  },
  {
   "cell_type": "markdown",
   "id": "6278b97e",
   "metadata": {},
   "source": [
    "##### 89. ❌ vehicle_age에 따른 각 성별(gender)그룹의 Annual_Premium값의 평균을 구하여 아래 테이블과 동일하게 구현하라"
   ]
  },
  {
   "cell_type": "code",
   "execution_count": 116,
   "id": "9947147a",
   "metadata": {},
   "outputs": [
    {
     "data": {
      "text/html": [
       "<div>\n",
       "<style scoped>\n",
       "    .dataframe tbody tr th:only-of-type {\n",
       "        vertical-align: middle;\n",
       "    }\n",
       "\n",
       "    .dataframe tbody tr th {\n",
       "        vertical-align: top;\n",
       "    }\n",
       "\n",
       "    .dataframe thead th {\n",
       "        text-align: right;\n",
       "    }\n",
       "</style>\n",
       "<table border=\"1\" class=\"dataframe\">\n",
       "  <thead>\n",
       "    <tr style=\"text-align: right;\">\n",
       "      <th>Gender</th>\n",
       "      <th>Female</th>\n",
       "      <th>Male</th>\n",
       "    </tr>\n",
       "    <tr>\n",
       "      <th>Vehicle_Age</th>\n",
       "      <th></th>\n",
       "      <th></th>\n",
       "    </tr>\n",
       "  </thead>\n",
       "  <tbody>\n",
       "    <tr>\n",
       "      <th>1-2 Year</th>\n",
       "      <td>30762.245001</td>\n",
       "      <td>30413.088469</td>\n",
       "    </tr>\n",
       "    <tr>\n",
       "      <th>&lt; 1 Year</th>\n",
       "      <td>29972.286702</td>\n",
       "      <td>30310.982212</td>\n",
       "    </tr>\n",
       "    <tr>\n",
       "      <th>&gt; 2 Years</th>\n",
       "      <td>36108.366374</td>\n",
       "      <td>35303.870627</td>\n",
       "    </tr>\n",
       "  </tbody>\n",
       "</table>\n",
       "</div>"
      ],
      "text/plain": [
       "Gender             Female          Male\n",
       "Vehicle_Age                            \n",
       "1-2 Year     30762.245001  30413.088469\n",
       "< 1 Year     29972.286702  30310.982212\n",
       "> 2 Years    36108.366374  35303.870627"
      ]
     },
     "execution_count": 116,
     "metadata": {},
     "output_type": "execute_result"
    }
   ],
   "source": [
    "res = df.groupby([\"Gender\", \"Vehicle_Age\"], as_index = False)[\"Annual_Premium\"].mean()\n",
    "res.pivot_table(index = \"Vehicle_Age\", columns = \"Gender\", values = \"Annual_Premium\")"
   ]
  },
  {
   "cell_type": "markdown",
   "id": "f09530b8",
   "metadata": {},
   "source": [
    "# 핸드폰 가격 예측데이터\n",
    "데이터 출처 :https://www.kaggle.com/iabhishekofficial/mobile-price-classification?select=train.csv(참고, 데이터 수정)  \n",
    "데이터 설명 : 핸드폰 가격예측 (price_range컬럼 0(저렴) ~3(매우비쌈) 범위 )  \n",
    "Data url https://raw.githubusercontent.com/Datamanim/datarepo/main/mobile/train.csv"
   ]
  },
  {
   "cell_type": "code",
   "execution_count": 117,
   "id": "fdf8a331",
   "metadata": {},
   "outputs": [
    {
     "data": {
      "text/html": [
       "<div>\n",
       "<style scoped>\n",
       "    .dataframe tbody tr th:only-of-type {\n",
       "        vertical-align: middle;\n",
       "    }\n",
       "\n",
       "    .dataframe tbody tr th {\n",
       "        vertical-align: top;\n",
       "    }\n",
       "\n",
       "    .dataframe thead th {\n",
       "        text-align: right;\n",
       "    }\n",
       "</style>\n",
       "<table border=\"1\" class=\"dataframe\">\n",
       "  <thead>\n",
       "    <tr style=\"text-align: right;\">\n",
       "      <th></th>\n",
       "      <th>battery_power</th>\n",
       "      <th>blue</th>\n",
       "      <th>clock_speed</th>\n",
       "      <th>dual_sim</th>\n",
       "      <th>fc</th>\n",
       "      <th>four_g</th>\n",
       "      <th>int_memory</th>\n",
       "      <th>m_dep</th>\n",
       "      <th>mobile_wt</th>\n",
       "      <th>n_cores</th>\n",
       "      <th>...</th>\n",
       "      <th>px_height</th>\n",
       "      <th>px_width</th>\n",
       "      <th>ram</th>\n",
       "      <th>sc_h</th>\n",
       "      <th>sc_w</th>\n",
       "      <th>talk_time</th>\n",
       "      <th>three_g</th>\n",
       "      <th>touch_screen</th>\n",
       "      <th>wifi</th>\n",
       "      <th>price_range</th>\n",
       "    </tr>\n",
       "  </thead>\n",
       "  <tbody>\n",
       "    <tr>\n",
       "      <th>0</th>\n",
       "      <td>842</td>\n",
       "      <td>0</td>\n",
       "      <td>2.2</td>\n",
       "      <td>0</td>\n",
       "      <td>1</td>\n",
       "      <td>0</td>\n",
       "      <td>7</td>\n",
       "      <td>0.6</td>\n",
       "      <td>188</td>\n",
       "      <td>2</td>\n",
       "      <td>...</td>\n",
       "      <td>20</td>\n",
       "      <td>756</td>\n",
       "      <td>2549</td>\n",
       "      <td>9</td>\n",
       "      <td>7</td>\n",
       "      <td>19</td>\n",
       "      <td>0</td>\n",
       "      <td>0</td>\n",
       "      <td>1</td>\n",
       "      <td>1</td>\n",
       "    </tr>\n",
       "    <tr>\n",
       "      <th>1</th>\n",
       "      <td>1021</td>\n",
       "      <td>1</td>\n",
       "      <td>0.5</td>\n",
       "      <td>1</td>\n",
       "      <td>0</td>\n",
       "      <td>1</td>\n",
       "      <td>53</td>\n",
       "      <td>0.7</td>\n",
       "      <td>136</td>\n",
       "      <td>3</td>\n",
       "      <td>...</td>\n",
       "      <td>905</td>\n",
       "      <td>1988</td>\n",
       "      <td>2631</td>\n",
       "      <td>17</td>\n",
       "      <td>3</td>\n",
       "      <td>7</td>\n",
       "      <td>1</td>\n",
       "      <td>1</td>\n",
       "      <td>0</td>\n",
       "      <td>2</td>\n",
       "    </tr>\n",
       "    <tr>\n",
       "      <th>2</th>\n",
       "      <td>563</td>\n",
       "      <td>1</td>\n",
       "      <td>0.5</td>\n",
       "      <td>1</td>\n",
       "      <td>2</td>\n",
       "      <td>1</td>\n",
       "      <td>41</td>\n",
       "      <td>0.9</td>\n",
       "      <td>145</td>\n",
       "      <td>5</td>\n",
       "      <td>...</td>\n",
       "      <td>1263</td>\n",
       "      <td>1716</td>\n",
       "      <td>2603</td>\n",
       "      <td>11</td>\n",
       "      <td>2</td>\n",
       "      <td>9</td>\n",
       "      <td>1</td>\n",
       "      <td>1</td>\n",
       "      <td>0</td>\n",
       "      <td>2</td>\n",
       "    </tr>\n",
       "    <tr>\n",
       "      <th>3</th>\n",
       "      <td>615</td>\n",
       "      <td>1</td>\n",
       "      <td>2.5</td>\n",
       "      <td>0</td>\n",
       "      <td>0</td>\n",
       "      <td>0</td>\n",
       "      <td>10</td>\n",
       "      <td>0.8</td>\n",
       "      <td>131</td>\n",
       "      <td>6</td>\n",
       "      <td>...</td>\n",
       "      <td>1216</td>\n",
       "      <td>1786</td>\n",
       "      <td>2769</td>\n",
       "      <td>16</td>\n",
       "      <td>8</td>\n",
       "      <td>11</td>\n",
       "      <td>1</td>\n",
       "      <td>0</td>\n",
       "      <td>0</td>\n",
       "      <td>2</td>\n",
       "    </tr>\n",
       "    <tr>\n",
       "      <th>4</th>\n",
       "      <td>1821</td>\n",
       "      <td>1</td>\n",
       "      <td>1.2</td>\n",
       "      <td>0</td>\n",
       "      <td>13</td>\n",
       "      <td>1</td>\n",
       "      <td>44</td>\n",
       "      <td>0.6</td>\n",
       "      <td>141</td>\n",
       "      <td>2</td>\n",
       "      <td>...</td>\n",
       "      <td>1208</td>\n",
       "      <td>1212</td>\n",
       "      <td>1411</td>\n",
       "      <td>8</td>\n",
       "      <td>2</td>\n",
       "      <td>15</td>\n",
       "      <td>1</td>\n",
       "      <td>1</td>\n",
       "      <td>0</td>\n",
       "      <td>1</td>\n",
       "    </tr>\n",
       "    <tr>\n",
       "      <th>...</th>\n",
       "      <td>...</td>\n",
       "      <td>...</td>\n",
       "      <td>...</td>\n",
       "      <td>...</td>\n",
       "      <td>...</td>\n",
       "      <td>...</td>\n",
       "      <td>...</td>\n",
       "      <td>...</td>\n",
       "      <td>...</td>\n",
       "      <td>...</td>\n",
       "      <td>...</td>\n",
       "      <td>...</td>\n",
       "      <td>...</td>\n",
       "      <td>...</td>\n",
       "      <td>...</td>\n",
       "      <td>...</td>\n",
       "      <td>...</td>\n",
       "      <td>...</td>\n",
       "      <td>...</td>\n",
       "      <td>...</td>\n",
       "      <td>...</td>\n",
       "    </tr>\n",
       "    <tr>\n",
       "      <th>1995</th>\n",
       "      <td>794</td>\n",
       "      <td>1</td>\n",
       "      <td>0.5</td>\n",
       "      <td>1</td>\n",
       "      <td>0</td>\n",
       "      <td>1</td>\n",
       "      <td>2</td>\n",
       "      <td>0.8</td>\n",
       "      <td>106</td>\n",
       "      <td>6</td>\n",
       "      <td>...</td>\n",
       "      <td>1222</td>\n",
       "      <td>1890</td>\n",
       "      <td>668</td>\n",
       "      <td>13</td>\n",
       "      <td>4</td>\n",
       "      <td>19</td>\n",
       "      <td>1</td>\n",
       "      <td>1</td>\n",
       "      <td>0</td>\n",
       "      <td>0</td>\n",
       "    </tr>\n",
       "    <tr>\n",
       "      <th>1996</th>\n",
       "      <td>1965</td>\n",
       "      <td>1</td>\n",
       "      <td>2.6</td>\n",
       "      <td>1</td>\n",
       "      <td>0</td>\n",
       "      <td>0</td>\n",
       "      <td>39</td>\n",
       "      <td>0.2</td>\n",
       "      <td>187</td>\n",
       "      <td>4</td>\n",
       "      <td>...</td>\n",
       "      <td>915</td>\n",
       "      <td>1965</td>\n",
       "      <td>2032</td>\n",
       "      <td>11</td>\n",
       "      <td>10</td>\n",
       "      <td>16</td>\n",
       "      <td>1</td>\n",
       "      <td>1</td>\n",
       "      <td>1</td>\n",
       "      <td>2</td>\n",
       "    </tr>\n",
       "    <tr>\n",
       "      <th>1997</th>\n",
       "      <td>1911</td>\n",
       "      <td>0</td>\n",
       "      <td>0.9</td>\n",
       "      <td>1</td>\n",
       "      <td>1</td>\n",
       "      <td>1</td>\n",
       "      <td>36</td>\n",
       "      <td>0.7</td>\n",
       "      <td>108</td>\n",
       "      <td>8</td>\n",
       "      <td>...</td>\n",
       "      <td>868</td>\n",
       "      <td>1632</td>\n",
       "      <td>3057</td>\n",
       "      <td>9</td>\n",
       "      <td>1</td>\n",
       "      <td>5</td>\n",
       "      <td>1</td>\n",
       "      <td>1</td>\n",
       "      <td>0</td>\n",
       "      <td>3</td>\n",
       "    </tr>\n",
       "    <tr>\n",
       "      <th>1998</th>\n",
       "      <td>1512</td>\n",
       "      <td>0</td>\n",
       "      <td>0.9</td>\n",
       "      <td>0</td>\n",
       "      <td>4</td>\n",
       "      <td>1</td>\n",
       "      <td>46</td>\n",
       "      <td>0.1</td>\n",
       "      <td>145</td>\n",
       "      <td>5</td>\n",
       "      <td>...</td>\n",
       "      <td>336</td>\n",
       "      <td>670</td>\n",
       "      <td>869</td>\n",
       "      <td>18</td>\n",
       "      <td>10</td>\n",
       "      <td>19</td>\n",
       "      <td>1</td>\n",
       "      <td>1</td>\n",
       "      <td>1</td>\n",
       "      <td>0</td>\n",
       "    </tr>\n",
       "    <tr>\n",
       "      <th>1999</th>\n",
       "      <td>510</td>\n",
       "      <td>1</td>\n",
       "      <td>2.0</td>\n",
       "      <td>1</td>\n",
       "      <td>5</td>\n",
       "      <td>1</td>\n",
       "      <td>45</td>\n",
       "      <td>0.9</td>\n",
       "      <td>168</td>\n",
       "      <td>6</td>\n",
       "      <td>...</td>\n",
       "      <td>483</td>\n",
       "      <td>754</td>\n",
       "      <td>3919</td>\n",
       "      <td>19</td>\n",
       "      <td>4</td>\n",
       "      <td>2</td>\n",
       "      <td>1</td>\n",
       "      <td>1</td>\n",
       "      <td>1</td>\n",
       "      <td>3</td>\n",
       "    </tr>\n",
       "  </tbody>\n",
       "</table>\n",
       "<p>2000 rows × 21 columns</p>\n",
       "</div>"
      ],
      "text/plain": [
       "      battery_power  blue  clock_speed  dual_sim  fc  four_g  int_memory  \\\n",
       "0               842     0          2.2         0   1       0           7   \n",
       "1              1021     1          0.5         1   0       1          53   \n",
       "2               563     1          0.5         1   2       1          41   \n",
       "3               615     1          2.5         0   0       0          10   \n",
       "4              1821     1          1.2         0  13       1          44   \n",
       "...             ...   ...          ...       ...  ..     ...         ...   \n",
       "1995            794     1          0.5         1   0       1           2   \n",
       "1996           1965     1          2.6         1   0       0          39   \n",
       "1997           1911     0          0.9         1   1       1          36   \n",
       "1998           1512     0          0.9         0   4       1          46   \n",
       "1999            510     1          2.0         1   5       1          45   \n",
       "\n",
       "      m_dep  mobile_wt  n_cores  ...  px_height  px_width   ram  sc_h  sc_w  \\\n",
       "0       0.6        188        2  ...         20       756  2549     9     7   \n",
       "1       0.7        136        3  ...        905      1988  2631    17     3   \n",
       "2       0.9        145        5  ...       1263      1716  2603    11     2   \n",
       "3       0.8        131        6  ...       1216      1786  2769    16     8   \n",
       "4       0.6        141        2  ...       1208      1212  1411     8     2   \n",
       "...     ...        ...      ...  ...        ...       ...   ...   ...   ...   \n",
       "1995    0.8        106        6  ...       1222      1890   668    13     4   \n",
       "1996    0.2        187        4  ...        915      1965  2032    11    10   \n",
       "1997    0.7        108        8  ...        868      1632  3057     9     1   \n",
       "1998    0.1        145        5  ...        336       670   869    18    10   \n",
       "1999    0.9        168        6  ...        483       754  3919    19     4   \n",
       "\n",
       "      talk_time  three_g  touch_screen  wifi  price_range  \n",
       "0            19        0             0     1            1  \n",
       "1             7        1             1     0            2  \n",
       "2             9        1             1     0            2  \n",
       "3            11        1             0     0            2  \n",
       "4            15        1             1     0            1  \n",
       "...         ...      ...           ...   ...          ...  \n",
       "1995         19        1             1     0            0  \n",
       "1996         16        1             1     1            2  \n",
       "1997          5        1             1     0            3  \n",
       "1998         19        1             1     1            0  \n",
       "1999          2        1             1     1            3  \n",
       "\n",
       "[2000 rows x 21 columns]"
      ]
     },
     "execution_count": 117,
     "metadata": {},
     "output_type": "execute_result"
    }
   ],
   "source": [
    "df = pd.read_csv(\"https://raw.githubusercontent.com/Datamanim/datarepo/main/mobile/train.csv\")\n",
    "df"
   ]
  },
  {
   "cell_type": "markdown",
   "id": "402cfe71",
   "metadata": {},
   "source": [
    "##### 90. price_range 의 각 value를 그룹핑하여 각 그룹의 n_cores 의 빈도가 가장높은 value와 그 빈도수를 구하여라"
   ]
  },
  {
   "cell_type": "code",
   "execution_count": null,
   "id": "3d18bcae",
   "metadata": {},
   "outputs": [],
   "source": []
  },
  {
   "cell_type": "markdown",
   "id": "a5d5e3e2",
   "metadata": {},
   "source": [
    "##### 91. price_range 값이 3인 그룹에서 상관관계가 2번째로 높은 두 컬럼과 그 상관계수를 구하여라"
   ]
  },
  {
   "cell_type": "code",
   "execution_count": null,
   "id": "0ae93b5d",
   "metadata": {},
   "outputs": [],
   "source": []
  },
  {
   "cell_type": "markdown",
   "id": "111bb0ca",
   "metadata": {},
   "source": [
    "# 비행탑승 경험 만족도 데이터\n",
    "데이터 출처 :https://www.kaggle.com/teejmahal20/airline-passenger-satisfaction?select=train.csv (참고, 데이터 수정)  \n",
    "데이터 설명 : 비행탑승 경험 만족도 (satisfaction 컬럼 : ‘neutral or dissatisfied’ or satisfied ) (83123, 24) shape  \n",
    "Data url :https://raw.githubusercontent.com/Datamanim/datarepo/main/airline/train.csv"
   ]
  },
  {
   "cell_type": "code",
   "execution_count": null,
   "id": "b20cb19d",
   "metadata": {},
   "outputs": [],
   "source": [
    "df = pd.read_csv(\"https://raw.githubusercontent.com/Datamanim/datarepo/main/airline/train.csv\")\n",
    "df"
   ]
  },
  {
   "cell_type": "markdown",
   "id": "51db2303",
   "metadata": {},
   "source": [
    "##### 92. Arrival Delay in Minutes 컬럼이 결측치인 데이터들 중 ‘neutral or dissatisfied’ 보다 ‘satisfied’의 수가 더 높은 Class는 어디 인가?"
   ]
  },
  {
   "cell_type": "code",
   "execution_count": null,
   "id": "7251c079",
   "metadata": {},
   "outputs": [],
   "source": []
  },
  {
   "cell_type": "markdown",
   "id": "19a2edbd",
   "metadata": {},
   "source": [
    "# 수질 음용성 여부 데이터\n",
    "데이터 출처 :https://www.kaggle.com/adityakadiwal/water-potability  \n",
    "데이터 설명 : 수질 음용성 여부 (Potablillity 컬럼 : 0 ,1 )  \n",
    "Data url :https://raw.githubusercontent.com/Datamanim/datarepo/main/waters/train.csv"
   ]
  },
  {
   "cell_type": "code",
   "execution_count": null,
   "id": "c322d931",
   "metadata": {},
   "outputs": [],
   "source": [
    "df = pd.read_csv(\"https://raw.githubusercontent.com/Datamanim/datarepo/main/waters/train.csv\")\n",
    "df"
   ]
  },
  {
   "cell_type": "markdown",
   "id": "1aec55fd",
   "metadata": {},
   "source": [
    "##### 93. ph값은 상당히 많은 결측치를 포함한다. 결측치를 제외한 나머지 데이터들 중 사분위값 기준 하위 25%의 값들의 평균값은?"
   ]
  },
  {
   "cell_type": "code",
   "execution_count": null,
   "id": "0991fb78",
   "metadata": {},
   "outputs": [],
   "source": []
  },
  {
   "cell_type": "markdown",
   "id": "e91a618a",
   "metadata": {},
   "source": [
    "# 의료 비용 예측 데이터\n",
    "데이터 출처 :https://www.kaggle.com/mirichoi0218/insurance/code(참고, 데이터 수정)  \n",
    "데이터 설명 : 의료비용 예측문제  \n",
    "Data url :https://raw.githubusercontent.com/Datamanim/datarepo/main/MedicalCost/train.csv"
   ]
  },
  {
   "cell_type": "code",
   "execution_count": null,
   "id": "7ae2ae4f",
   "metadata": {},
   "outputs": [],
   "source": [
    "train = pd.read_csv(\"https://raw.githubusercontent.com/Datamanim/datarepo/main/MedicalCost/train.csv\")\n",
    "train"
   ]
  },
  {
   "cell_type": "markdown",
   "id": "da0b7438",
   "metadata": {},
   "source": [
    "##### 94. 흡연자와 비흡연자 각각 charges의 상위 10% 그룹의 평균의 차이는?"
   ]
  },
  {
   "cell_type": "code",
   "execution_count": null,
   "id": "01d1a871",
   "metadata": {},
   "outputs": [],
   "source": []
  },
  {
   "cell_type": "markdown",
   "id": "61742cd1",
   "metadata": {},
   "source": [
    "# 킹카운티 주거지 가격예측문제 데이터\n",
    "데이터 출처 :https://www.kaggle.com/harlfoxem/housesalesprediction (참고, 데이터 수정)  \n",
    "데이터 설명 : 킹카운티 주거지 가격 예측문제  \n",
    "Data url :https://raw.githubusercontent.com/Datamanim/datarepo/main/kingcountyprice/train.csv"
   ]
  },
  {
   "cell_type": "code",
   "execution_count": null,
   "id": "8c46c7e6",
   "metadata": {},
   "outputs": [],
   "source": [
    "df = pd.read_csv(\"https://raw.githubusercontent.com/Datamanim/datarepo/main/kingcountyprice//train.csv\")\n",
    "df"
   ]
  },
  {
   "cell_type": "markdown",
   "id": "2eafdbc2",
   "metadata": {},
   "source": [
    "##### 95. bedrooms 의 빈도가 가장 높은 값을 가지는 데이터들의 price의 상위 10%와 하위 10%값의 차이를 구하여라"
   ]
  },
  {
   "cell_type": "code",
   "execution_count": null,
   "id": "83cf906c",
   "metadata": {},
   "outputs": [],
   "source": []
  },
  {
   "cell_type": "markdown",
   "id": "c20443dd",
   "metadata": {},
   "source": [
    "# 대학원 입학가능성 데이터\n",
    "데이터 출처 :https://www.kaggle.com/mohansacharya/graduate-admissions(참고, 데이터 수정)  \n",
    "데이터 설명 : 대학원 입학 가능성 예측  \n",
    "Data url :https://raw.githubusercontent.com/Datamanim/datarepo/main/admission/train.csv"
   ]
  },
  {
   "cell_type": "code",
   "execution_count": null,
   "id": "1618fe1a",
   "metadata": {},
   "outputs": [],
   "source": [
    "df = pd.read_csv(\"https://raw.githubusercontent.com/Datamanim/datarepo/main/admission/train.csv\")\n",
    "df"
   ]
  },
  {
   "cell_type": "markdown",
   "id": "62dc0ba3",
   "metadata": {},
   "source": [
    "##### 96. Serial No. 컬럼을 제외하고 ‘Chance of Admit’을 종속변수, 나머지 변수를 독립변수라 할때, 랜덤포레스트를 통해 회귀 예측을 할 떄 변수중요도 값을 출력하라 (시드값에 따라 순서는 달라질수 있음)"
   ]
  },
  {
   "cell_type": "code",
   "execution_count": null,
   "id": "6c654885",
   "metadata": {},
   "outputs": [],
   "source": []
  },
  {
   "cell_type": "markdown",
   "id": "e20d726d",
   "metadata": {},
   "source": [
    "# 레드 와인 퀄리티 예측 데이터\n",
    "데이터 출처 :https://www.kaggle.com/uciml/red-wine-quality-cortez-et-al-2009(참고, 데이터 수정)  \n",
    "데이터 설명 : 레드 와인 퀄리티 예측문제  \n",
    "Data url :https://raw.githubusercontent.com/Datamanim/datarepo/main/redwine/train.csv"
   ]
  },
  {
   "cell_type": "code",
   "execution_count": null,
   "id": "705f2c47",
   "metadata": {},
   "outputs": [],
   "source": [
    "df = pd.read_csv(\"https://raw.githubusercontent.com/Datamanim/datarepo/main/redwine/train.csv\")\n",
    "df"
   ]
  },
  {
   "cell_type": "markdown",
   "id": "0df266f9",
   "metadata": {},
   "source": [
    "##### 97. quality 값이 3인 그룹과 8인 데이터그룹의 각 컬럼별 독립변수의 표준편차 값의 차이를 구할때 그값이 가장 큰 컬럼명을 구하여라"
   ]
  },
  {
   "cell_type": "code",
   "execution_count": null,
   "id": "b134f91d",
   "metadata": {},
   "outputs": [],
   "source": []
  },
  {
   "cell_type": "markdown",
   "id": "03ea82a9",
   "metadata": {},
   "source": [
    "# 약물 분류 데이터\n",
    "데이터 출처 :https://www.kaggle.com/prathamtripathi/drug-classification(참고, 데이터 수정)  \n",
    "데이터 설명 : 투약하는 약을 분류  \n",
    "Data url :https://raw.githubusercontent.com/Datamanim/datarepo/main/drug/train.csv"
   ]
  },
  {
   "cell_type": "code",
   "execution_count": null,
   "id": "6bb3e587",
   "metadata": {},
   "outputs": [],
   "source": [
    "df = pd.read_csv(\"https://raw.githubusercontent.com/Datamanim/datarepo/main/drug/train.csv\")\n",
    "df"
   ]
  },
  {
   "cell_type": "markdown",
   "id": "ed1a938b",
   "metadata": {},
   "source": [
    "##### 98. 남성들의 연령대별 (10살씩 구분 0~9세 10~19세 …) Na_to_K값의 평균값을 구해서 데이터 프레임으로 표현하여라"
   ]
  },
  {
   "cell_type": "code",
   "execution_count": null,
   "id": "aae30f6e",
   "metadata": {},
   "outputs": [],
   "source": []
  },
  {
   "cell_type": "markdown",
   "id": "f4763a9b",
   "metadata": {},
   "source": [
    "# 사기회사 분류 데이터\n",
    "데이터 출처 :https://www.kaggle.com/sid321axn/audit-data(참고, 데이터 수정)  \n",
    "데이터 설명 : 사기회사 분류  \n",
    "Data url :https://raw.githubusercontent.com/Datamanim/datarepo/main/audit/train.csv"
   ]
  },
  {
   "cell_type": "code",
   "execution_count": null,
   "id": "6a9e7bd2",
   "metadata": {},
   "outputs": [],
   "source": [
    "df = pd.read_csv(\"https://raw.githubusercontent.com/Datamanim/datarepo/main/audit/train.csv\")\n",
    "df"
   ]
  },
  {
   "cell_type": "markdown",
   "id": "32827059",
   "metadata": {},
   "source": [
    "##### 99. 데이터의 Risk 값에 따른 score_a와 score_b의 평균값을 구하여라"
   ]
  },
  {
   "cell_type": "code",
   "execution_count": null,
   "id": "9f2bd920",
   "metadata": {},
   "outputs": [],
   "source": []
  },
  {
   "cell_type": "markdown",
   "id": "b047c071",
   "metadata": {},
   "source": [
    "# 센서데이터 동작유형 분류 데이터\n",
    "데이터 출처 :https://www.kaggle.com/kyr7plus/emg-4(참고, 데이터 수정)  \n",
    "데이터 설명 : 센서데이터로 동작 유형 분류  \n",
    "Data url :https://raw.githubusercontent.com/Datamanim/datarepo/main/muscle/train.csv"
   ]
  },
  {
   "cell_type": "code",
   "execution_count": null,
   "id": "191cedb7",
   "metadata": {},
   "outputs": [],
   "source": [
    "df = pd.read_csv(\"https://raw.githubusercontent.com/Datamanim/datarepo/main/muscle/train.csv\")\n",
    "df"
   ]
  },
  {
   "cell_type": "markdown",
   "id": "66393f20",
   "metadata": {},
   "source": [
    "##### 100. pose값에 따른 각 motion컬럼의 중간값의 가장 큰 차이를 보이는 motion컬럼은 어디이며 그값은?"
   ]
  },
  {
   "cell_type": "code",
   "execution_count": null,
   "id": "c1a6ac0e",
   "metadata": {},
   "outputs": [],
   "source": []
  },
  {
   "cell_type": "markdown",
   "id": "8679d0ef",
   "metadata": {},
   "source": [
    "# 현대 차량 가격 분류문제 데이터\n",
    "데이터 출처 :https://www.kaggle.com/mysarahmadbhat/hyundai-used-car-listing(참고, 데이터 수정)  \n",
    "데이터 설명 : 현대 차량가격 분류문제  \n",
    "Data url :hhttps://raw.githubusercontent.com/Datamanim/datarepo/main/hyundai/train.csv"
   ]
  },
  {
   "cell_type": "code",
   "execution_count": null,
   "id": "aeddd3e5",
   "metadata": {},
   "outputs": [],
   "source": [
    "df = pd.read_csv(\"https://raw.githubusercontent.com/Datamanim/datarepo/main/hyundai/train.csv\")\n",
    "df"
   ]
  },
  {
   "cell_type": "markdown",
   "id": "670d6644",
   "metadata": {},
   "source": [
    "##### 101. 정보(row수)가 가장 많은 상위 3차종의 price값의 각 평균값은?"
   ]
  },
  {
   "cell_type": "code",
   "execution_count": null,
   "id": "38d857dc",
   "metadata": {},
   "outputs": [],
   "source": []
  },
  {
   "cell_type": "markdown",
   "id": "77a0a9c3",
   "metadata": {},
   "source": [
    "# 당뇨여부판단 데이터\n",
    "데이터 출처 :https://www.kaggle.com/pritsheta/diabetes-dataset(참고, 데이터 수정)  \n",
    "데이터 설명 : 당뇨여부 판단하기  \n",
    "Data url :https://raw.githubusercontent.com/Datamanim/datarepo/main/diabetes/train.csv"
   ]
  },
  {
   "cell_type": "code",
   "execution_count": null,
   "id": "27637bcb",
   "metadata": {},
   "outputs": [],
   "source": [
    "df = pd.read_csv(\"https://raw.githubusercontent.com/Datamanim/datarepo/main/diabetes/train.csv\")\n",
    "df"
   ]
  },
  {
   "cell_type": "markdown",
   "id": "a8156138",
   "metadata": {},
   "source": [
    "##### 102. Outcome 값에 따른 각 그룹의 각 컬럼의 평균 차이를 구하여라"
   ]
  },
  {
   "cell_type": "code",
   "execution_count": null,
   "id": "63458176",
   "metadata": {},
   "outputs": [],
   "source": []
  },
  {
   "cell_type": "markdown",
   "id": "29f9308c",
   "metadata": {},
   "source": [
    "# 넷플릭스 주식 데이터\n",
    "데이터 출처 :https://www.kaggle.com/pritsheta/netflix-stock-data-from-2002-to-2021(참고, 데이터 수정)  \n",
    "데이터 설명 : 넷플릭스 주식데이터  \n",
    "Data url :https://raw.githubusercontent.com/Datamanim/datarepo/main/nflx/NFLX.csv"
   ]
  },
  {
   "cell_type": "code",
   "execution_count": null,
   "id": "ce99d02a",
   "metadata": {},
   "outputs": [],
   "source": [
    "df = pd.read_csv(\"https://raw.githubusercontent.com/Datamanim/datarepo/main/nflx/NFLX.csv\")\n",
    "df"
   ]
  },
  {
   "cell_type": "markdown",
   "id": "910e28ed",
   "metadata": {},
   "source": [
    "##### 103. 매년 5월달의 open가격의 평균값을 데이터 프레임으로 표현하라"
   ]
  },
  {
   "cell_type": "code",
   "execution_count": null,
   "id": "2beaf763",
   "metadata": {},
   "outputs": [],
   "source": []
  },
  {
   "cell_type": "markdown",
   "id": "fff07446",
   "metadata": {},
   "source": [
    "# nba 선수 능력치 데이터\n",
    "데이터 출처 :https://www.kaggle.com/datasets/vivovinco/nba-player-stats(참고, 데이터 수정)  \n",
    "Data url :https://raw.githubusercontent.com/Datamanim/datarepo/main/nba/nba.csv"
   ]
  },
  {
   "cell_type": "code",
   "execution_count": null,
   "id": "09b341f6",
   "metadata": {},
   "outputs": [
    {
     "ename": "SyntaxError",
     "evalue": "unterminated string literal (detected at line 1) (90618726.py, line 1)",
     "output_type": "error",
     "traceback": [
      "  \u001b[36mCell\u001b[39m\u001b[36m \u001b[39m\u001b[32mIn[118]\u001b[39m\u001b[32m, line 1\u001b[39m\n\u001b[31m    \u001b[39m\u001b[31mdf = pd.read_csv(\"https://raw.githubusercontent.com/Datamanim/datarepo/main/nba/nba.csv\", encoding = \"latin\", sep = ;')\u001b[39m\n                                                                                                                         ^\n\u001b[31mSyntaxError\u001b[39m\u001b[31m:\u001b[39m unterminated string literal (detected at line 1)\n"
     ]
    }
   ],
   "source": [
    "df = pd.read_csv(\"https://raw.githubusercontent.com/Datamanim/datarepo/main/nba/nba.csv\", encoding = \"latin\", sep = \";\")\n",
    "df"
   ]
  },
  {
   "cell_type": "markdown",
   "id": "74d1053d",
   "metadata": {},
   "source": [
    "##### 104. Tm 컬럼은 각 팀의 이름을 의미한다. TOR팀의 평균나이를 소수 4째 자리까지 구하여라"
   ]
  },
  {
   "cell_type": "code",
   "execution_count": null,
   "id": "64551987",
   "metadata": {},
   "outputs": [],
   "source": []
  },
  {
   "cell_type": "markdown",
   "id": "6fe9579b",
   "metadata": {},
   "source": [
    "##### 105. Pos 컬럼은 포지션을 의미한다. 전체 선수 중 최소나이대의 선수들을 필터하고 그들 중 가장 많은 포지션은 무엇인지 확인하라"
   ]
  },
  {
   "cell_type": "code",
   "execution_count": null,
   "id": "bc57220a",
   "metadata": {},
   "outputs": [],
   "source": []
  },
  {
   "cell_type": "markdown",
   "id": "841ca9d2",
   "metadata": {},
   "source": [
    "##### 106. 선수들의 이름은 first_name+ 공백 + last_name으로 이루어져 있다. 가장 많은 first_name은 무엇이며 몇 회 발생하는지 확인하라"
   ]
  },
  {
   "cell_type": "code",
   "execution_count": null,
   "id": "937b3ee8",
   "metadata": {},
   "outputs": [],
   "source": []
  },
  {
   "cell_type": "markdown",
   "id": "8e086579",
   "metadata": {},
   "source": [
    "##### 107. PTS컬럼은 경기당 평균득점수 이다. 각포지션별로 경기당 평균득점수의 평균을 구하여라"
   ]
  },
  {
   "cell_type": "code",
   "execution_count": null,
   "id": "bf069a6d",
   "metadata": {},
   "outputs": [],
   "source": []
  },
  {
   "cell_type": "markdown",
   "id": "b5de1abd",
   "metadata": {},
   "source": [
    "##### 108. PTS컬럼은 경기당 평균득점수 이다. 각포지션별로 경기당 평균득점수의 평균을 구하여라"
   ]
  },
  {
   "cell_type": "code",
   "execution_count": null,
   "id": "89742f6f",
   "metadata": {},
   "outputs": [],
   "source": []
  },
  {
   "cell_type": "markdown",
   "id": "aa9cfc5a",
   "metadata": {},
   "source": [
    "##### 109. G컬럼은 참여한 경기의 숫자이다. 각 팀별로 가장 높은 경기참여 수를 가진 선수들의 경기 참여 숫자의 평균을 구하여라"
   ]
  },
  {
   "cell_type": "code",
   "execution_count": null,
   "id": "5ad1a8fe",
   "metadata": {},
   "outputs": [],
   "source": []
  },
  {
   "cell_type": "markdown",
   "id": "4734df2d",
   "metadata": {},
   "source": [
    "##### 110. Tm의 값이 MIA이며 Pos는 C또는 PF인 선수의 MP값의 평균은?"
   ]
  },
  {
   "cell_type": "code",
   "execution_count": null,
   "id": "0c638057",
   "metadata": {},
   "outputs": [],
   "source": []
  },
  {
   "cell_type": "markdown",
   "id": "161da2b5",
   "metadata": {},
   "source": [
    "##### 111. 전체 데이터중 G의 평균값의 1.5배 이상인 데이터들만 추출했을때 3P값의 평균은?"
   ]
  },
  {
   "cell_type": "code",
   "execution_count": null,
   "id": "a50a1df2",
   "metadata": {},
   "outputs": [],
   "source": []
  },
  {
   "cell_type": "markdown",
   "id": "109ddf5c",
   "metadata": {},
   "source": [
    "##### 112. Age의 평균 이상인 그룹과 평균 미만인 그룹간의 G값의 평균의 차이는?"
   ]
  },
  {
   "cell_type": "code",
   "execution_count": null,
   "id": "57851887",
   "metadata": {},
   "outputs": [],
   "source": []
  },
  {
   "cell_type": "markdown",
   "id": "aa32f4d7",
   "metadata": {},
   "source": [
    "##### 113. 평균나이가 가장 젊은 팀은 어디인가?"
   ]
  },
  {
   "cell_type": "code",
   "execution_count": null,
   "id": "fabe1aed",
   "metadata": {},
   "outputs": [],
   "source": []
  },
  {
   "cell_type": "markdown",
   "id": "eb2b0dbe",
   "metadata": {},
   "source": [
    "##### 114. Pos그룹별 평균 MP값을 구하여라"
   ]
  },
  {
   "cell_type": "code",
   "execution_count": null,
   "id": "97126367",
   "metadata": {},
   "outputs": [],
   "source": []
  }
 ],
 "metadata": {
  "kernelspec": {
   "display_name": "analysis",
   "language": "python",
   "name": "python3"
  },
  "language_info": {
   "codemirror_mode": {
    "name": "ipython",
    "version": 3
   },
   "file_extension": ".py",
   "mimetype": "text/x-python",
   "name": "python",
   "nbconvert_exporter": "python",
   "pygments_lexer": "ipython3",
   "version": "3.13.5"
  }
 },
 "nbformat": 4,
 "nbformat_minor": 5
}
